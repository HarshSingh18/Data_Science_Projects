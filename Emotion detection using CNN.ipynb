{
 "cells": [
  {
   "cell_type": "markdown",
   "metadata": {
    "colab_type": "text",
    "id": "e5FfSUNoL4P9"
   },
   "source": [
    "# **Emotion detection using CNN**"
   ]
  },
  {
   "cell_type": "markdown",
   "metadata": {
    "colab_type": "text",
    "id": "hrekQjasL8-w"
   },
   "source": [
    "\n",
    ">**Problem Statement**<br>\n",
    "The faces have been automatically registered so that the face is more or less centered and occupies about the same amount of space in each image. The task is to categorize each face based on the emotion shown in the facial expression into one of seven categories (0=Angry, 1=Disgust, 2=Fear, 3=Happy, 4=Sad, 5=Surprise, 6=Neutral).<br>\n",
    "<br>\n",
    "**Dataset Description**\n",
    "- **Total Images**: The dataset consists of 28,709 examples \n",
    "<br>\n",
    "- Fer2013.csv  contains two columns, \"emotion\" and \"pixels\". The \"emotion\" column contains a numeric code ranging from 0 to 6, inclusive, for the emotion that is present in the image. The \"pixels\" column contains a string surrounded in quotes for each image. \n",
    "- Classes: 0=Angry, 1=Disgust, 2=Fear, 3=Happy, 4=Sad, 5=Surprise, 6=Neutral \n",
    "\n",
    "![alt text](https://i.imgur.com/lGvw0Bq.png)\n",
    " "
   ]
  },
  {
   "cell_type": "markdown",
   "metadata": {
    "colab_type": "text",
    "id": "Y3_tnnlRMRSi"
   },
   "source": [
    "\n",
    ">**Tasks to be Performed:**\n",
    "As a part of this assignment you will be performing the following tasks:\n",
    "- Prepare a detailed python notebook(similar to this one) using convolutional neural network for classifing the images from [Fer.csv](https://www.kaggle.com/deadskull7/fer2013) with best accuracy\n",
    "- Prepare the dataset for the model\n",
    "- Reshape and Normalize the data:\n",
    "<br>\n",
    "<b>Hint:</b><br>\n",
    "•\tSplit pixels by space to get columns \n",
    "•\treshape the input image (48,  48 ,1)<br>\n",
    "•\tchange the type of data to float32\n",
    "\n",
    "- Normalize & Train_Test Split \n",
    "<br>\n",
    "<b>Hint:</b><br>\n",
    "•\tNormalize the data by dividing with 255<br>\n",
    "•\tSplit data into train and test (90,10)\n",
    "\n",
    "<b> Define CNN Model: </b>\n",
    "- •\tLayer 1<br>\n",
    "•\t2 Conv2d with 64 filters of 5,5 filter <br>\n",
    "•\tBatchNormalization layer<br>\n",
    "•\tMax Pooling layer with 2,2 <br>\n",
    "•\tActivation relu <br>\n",
    "- •\tLayer 2<br>\n",
    "•\t2 Conv2d with 128 filters of 5,5 filter <br>\n",
    "•\tBatchNormalization layer<br>\n",
    "•\tMax Pooling layer with 2,2 <br>\n",
    "•\tActivation relu<br>\n",
    "- •\tLayer 3<br>\n",
    "•\t2 Conv2d with 256 filters of 3,3 filter<br> \n",
    "•\tBatchNormalization layer<br>\n",
    "•\tMax Pooling layer with 2,2 <br>\n",
    "•\tActivation relu<br>\n",
    "- •\tLayer 4<br>\n",
    "•\tFlatten layer <br>\n",
    "•\tDense Layer with 128 Neuron <br>\n",
    "•\tBatchNormalization<br> \n",
    "•\tActivation Relu <br>\n",
    "•\tDropout 0.25 <br>\n",
    "•\tDense 7 neurons with Softmax <br>\n",
    "•\tLoss: Categorical cross-entropy <br>\n",
    "•\tOptimizer: Adam <br>\n",
    "\n",
    "\n",
    "**Answer:** What parameters should be choosen to get best accuracy on classifying the images into various categories?"
   ]
  },
  {
   "cell_type": "markdown",
   "metadata": {
    "colab_type": "text",
    "id": "ttBi3jK2KbYB"
   },
   "source": [
    "# **Loading the data**"
   ]
  },
  {
   "cell_type": "code",
   "execution_count": 1,
   "metadata": {
    "colab": {},
    "colab_type": "code",
    "id": "VXkIY8EnB2ib"
   },
   "outputs": [],
   "source": [
    "# Code to read csv file into Colaboratory:\n",
    "!pip install -U -q PyDrive\n",
    "from pydrive.auth import GoogleAuth\n",
    "from pydrive.drive import GoogleDrive\n",
    "from google.colab import auth\n",
    "from oauth2client.client import GoogleCredentials\n",
    "# Authenticate and create the PyDrive client.\n",
    "auth.authenticate_user()\n",
    "gauth = GoogleAuth()\n",
    "gauth.credentials = GoogleCredentials.get_application_default()\n",
    "drive = GoogleDrive(gauth)"
   ]
  },
  {
   "cell_type": "code",
   "execution_count": 2,
   "metadata": {
    "colab": {},
    "colab_type": "code",
    "id": "Njgbs935CYMp"
   },
   "outputs": [],
   "source": [
    "id = \"1IwsWiLrfuUKpFXqzmgk1BZLrUhq3WeuB\"\n"
   ]
  },
  {
   "cell_type": "code",
   "execution_count": 3,
   "metadata": {
    "colab": {},
    "colab_type": "code",
    "id": "MUsYPHpaCqb5"
   },
   "outputs": [],
   "source": [
    "import numpy as np\n",
    "import pandas as pd\n",
    "downloaded = drive.CreateFile({'id':id}) \n",
    "downloaded.GetContentFile('Filename.csv')  \n",
    "df = pd.read_csv('Filename.csv')"
   ]
  },
  {
   "cell_type": "code",
   "execution_count": 4,
   "metadata": {
    "colab": {
     "base_uri": "https://localhost:8080/",
     "height": 419
    },
    "colab_type": "code",
    "id": "4MHYdLMwEDHc",
    "outputId": "49974b08-2fca-4de1-9455-568420430f55"
   },
   "outputs": [
    {
     "data": {
      "text/html": [
       "<div>\n",
       "<style scoped>\n",
       "    .dataframe tbody tr th:only-of-type {\n",
       "        vertical-align: middle;\n",
       "    }\n",
       "\n",
       "    .dataframe tbody tr th {\n",
       "        vertical-align: top;\n",
       "    }\n",
       "\n",
       "    .dataframe thead th {\n",
       "        text-align: right;\n",
       "    }\n",
       "</style>\n",
       "<table border=\"1\" class=\"dataframe\">\n",
       "  <thead>\n",
       "    <tr style=\"text-align: right;\">\n",
       "      <th></th>\n",
       "      <th>emotion</th>\n",
       "      <th>pixels</th>\n",
       "      <th>Usage</th>\n",
       "    </tr>\n",
       "  </thead>\n",
       "  <tbody>\n",
       "    <tr>\n",
       "      <th>0</th>\n",
       "      <td>0</td>\n",
       "      <td>70 80 82 72 58 58 60 63 54 58 60 48 89 115 121...</td>\n",
       "      <td>Training</td>\n",
       "    </tr>\n",
       "    <tr>\n",
       "      <th>1</th>\n",
       "      <td>0</td>\n",
       "      <td>151 150 147 155 148 133 111 140 170 174 182 15...</td>\n",
       "      <td>Training</td>\n",
       "    </tr>\n",
       "    <tr>\n",
       "      <th>2</th>\n",
       "      <td>2</td>\n",
       "      <td>231 212 156 164 174 138 161 173 182 200 106 38...</td>\n",
       "      <td>Training</td>\n",
       "    </tr>\n",
       "    <tr>\n",
       "      <th>3</th>\n",
       "      <td>4</td>\n",
       "      <td>24 32 36 30 32 23 19 20 30 41 21 22 32 34 21 1...</td>\n",
       "      <td>Training</td>\n",
       "    </tr>\n",
       "    <tr>\n",
       "      <th>4</th>\n",
       "      <td>6</td>\n",
       "      <td>4 0 0 0 0 0 0 0 0 0 0 0 3 15 23 28 48 50 58 84...</td>\n",
       "      <td>Training</td>\n",
       "    </tr>\n",
       "    <tr>\n",
       "      <th>...</th>\n",
       "      <td>...</td>\n",
       "      <td>...</td>\n",
       "      <td>...</td>\n",
       "    </tr>\n",
       "    <tr>\n",
       "      <th>35882</th>\n",
       "      <td>6</td>\n",
       "      <td>50 36 17 22 23 29 33 39 34 37 37 37 39 43 48 5...</td>\n",
       "      <td>PrivateTest</td>\n",
       "    </tr>\n",
       "    <tr>\n",
       "      <th>35883</th>\n",
       "      <td>3</td>\n",
       "      <td>178 174 172 173 181 188 191 194 196 199 200 20...</td>\n",
       "      <td>PrivateTest</td>\n",
       "    </tr>\n",
       "    <tr>\n",
       "      <th>35884</th>\n",
       "      <td>0</td>\n",
       "      <td>17 17 16 23 28 22 19 17 25 26 20 24 31 19 27 9...</td>\n",
       "      <td>PrivateTest</td>\n",
       "    </tr>\n",
       "    <tr>\n",
       "      <th>35885</th>\n",
       "      <td>3</td>\n",
       "      <td>30 28 28 29 31 30 42 68 79 81 77 67 67 71 63 6...</td>\n",
       "      <td>PrivateTest</td>\n",
       "    </tr>\n",
       "    <tr>\n",
       "      <th>35886</th>\n",
       "      <td>2</td>\n",
       "      <td>19 13 14 12 13 16 21 33 50 57 71 84 97 108 122...</td>\n",
       "      <td>PrivateTest</td>\n",
       "    </tr>\n",
       "  </tbody>\n",
       "</table>\n",
       "<p>35887 rows × 3 columns</p>\n",
       "</div>"
      ],
      "text/plain": [
       "       emotion                                             pixels        Usage\n",
       "0            0  70 80 82 72 58 58 60 63 54 58 60 48 89 115 121...     Training\n",
       "1            0  151 150 147 155 148 133 111 140 170 174 182 15...     Training\n",
       "2            2  231 212 156 164 174 138 161 173 182 200 106 38...     Training\n",
       "3            4  24 32 36 30 32 23 19 20 30 41 21 22 32 34 21 1...     Training\n",
       "4            6  4 0 0 0 0 0 0 0 0 0 0 0 3 15 23 28 48 50 58 84...     Training\n",
       "...        ...                                                ...          ...\n",
       "35882        6  50 36 17 22 23 29 33 39 34 37 37 37 39 43 48 5...  PrivateTest\n",
       "35883        3  178 174 172 173 181 188 191 194 196 199 200 20...  PrivateTest\n",
       "35884        0  17 17 16 23 28 22 19 17 25 26 20 24 31 19 27 9...  PrivateTest\n",
       "35885        3  30 28 28 29 31 30 42 68 79 81 77 67 67 71 63 6...  PrivateTest\n",
       "35886        2  19 13 14 12 13 16 21 33 50 57 71 84 97 108 122...  PrivateTest\n",
       "\n",
       "[35887 rows x 3 columns]"
      ]
     },
     "execution_count": 4,
     "metadata": {
      "tags": []
     },
     "output_type": "execute_result"
    }
   ],
   "source": [
    "df"
   ]
  },
  {
   "cell_type": "code",
   "execution_count": 5,
   "metadata": {
    "colab": {},
    "colab_type": "code",
    "id": "mVIGkXmcnatI"
   },
   "outputs": [],
   "source": [
    "num_classes = 7\n",
    "width = 48\n",
    "height = 48\n",
    "emotion_labels = [\"Angry\", \"Disgust\", \"Fear\", \"Happy\", \"Sad\", \"Surprise\", \"Neutral\"]\n",
    "classes=np.array((\"Angry\", \"Disgust\", \"Fear\", \"Happy\", \"Sad\", \"Surprise\", \"Neutral\"))"
   ]
  },
  {
   "cell_type": "code",
   "execution_count": 6,
   "metadata": {
    "colab": {
     "base_uri": "https://localhost:8080/",
     "height": 34
    },
    "colab_type": "code",
    "id": "X_6F9DNft_2i",
    "outputId": "c96fefee-522b-4813-eb26-fd2df738accf"
   },
   "outputs": [
    {
     "name": "stdout",
     "output_type": "stream",
     "text": [
      "1 48 48\n"
     ]
    }
   ],
   "source": [
    "from math import sqrt\n",
    "depth = 1\n",
    "height = int(sqrt(len(df.pixels[0].split()))) \n",
    "width = int(height)\n",
    "print(depth,height,width)"
   ]
  },
  {
   "cell_type": "code",
   "execution_count": 12,
   "metadata": {
    "colab": {
     "base_uri": "https://localhost:8080/",
     "height": 1000
    },
    "colab_type": "code",
    "id": "bs407p80Tk7g",
    "outputId": "ef1c6a13-c922-4d32-a412-2313d7268cf8"
   },
   "outputs": [
    {
     "data": {
      "image/png": "[encoded data removed]",
      "text/plain": [
       "<Figure size 432x288 with 1 Axes>"
      ]
     },
     "metadata": {
      "needs_background": "light",
      "tags": []
     },
     "output_type": "display_data"
    },
    {
     "name": "stdout",
     "output_type": "stream",
     "text": [
      "Angry\n"
     ]
    },
    {
     "data": {
      "image/png": "[encoded data removed]",
      "text/plain": [
       "<Figure size 432x288 with 1 Axes>"
      ]
     },
     "metadata": {
      "needs_background": "light",
      "tags": []
     },
     "output_type": "display_data"
    },
    {
     "name": "stdout",
     "output_type": "stream",
     "text": [
      "Angry\n"
     ]
    },
    {
     "data": {
      "image/png": "[encoded data removed]",
      "text/plain": [
       "<Figure size 432x288 with 1 Axes>"
      ]
     },
     "metadata": {
      "needs_background": "light",
      "tags": []
     },
     "output_type": "display_data"
    },
    {
     "name": "stdout",
     "output_type": "stream",
     "text": [
      "Fear\n"
     ]
    },
    {
     "data": {
      "image/png": "[encoded data removed]",
      "text/plain": [
       "<Figure size 432x288 with 1 Axes>"
      ]
     },
     "metadata": {
      "needs_background": "light",
      "tags": []
     },
     "output_type": "display_data"
    },
    {
     "name": "stdout",
     "output_type": "stream",
     "text": [
      "Sad\n"
     ]
    }
   ],
   "source": [
    "X = np.zeros((df[\"pixels\"].shape[0], 48*48))\n",
    "\n",
    "for ix in range(X.shape[0]):\n",
    "    p = df[\"pixels\"][ix].split(' ')\n",
    "    for iy in range(X.shape[1]):\n",
    "        X[ix, iy] = int(p[iy])\n",
    "\n",
    "from matplotlib import pyplot as plt\n",
    "%matplotlib inline\n",
    "\n",
    "for ix in range(4):\n",
    "    plt.figure(ix)\n",
    "    plt.imshow(X[ix].reshape((48, 48)), interpolation='none', cmap='gray')\n",
    "    plt.show()\n",
    "    print(emotion_labels[df[\"emotion\"][ix]]) \n"
   ]
  },
  {
   "cell_type": "code",
   "execution_count": 13,
   "metadata": {
    "colab": {
     "base_uri": "https://localhost:8080/",
     "height": 85
    },
    "colab_type": "code",
    "id": "pTeME-NgENQT",
    "outputId": "146b6aa9-59b8-4490-db97-6aaf94926481"
   },
   "outputs": [
    {
     "data": {
      "text/plain": [
       "Training       28709\n",
       "PrivateTest     3589\n",
       "PublicTest      3589\n",
       "Name: Usage, dtype: int64"
      ]
     },
     "execution_count": 13,
     "metadata": {
      "tags": []
     },
     "output_type": "execute_result"
    }
   ],
   "source": [
    "df[\"Usage\"].value_counts()"
   ]
  },
  {
   "cell_type": "code",
   "execution_count": 14,
   "metadata": {
    "colab": {},
    "colab_type": "code",
    "id": "AE6t3ouVT3s3"
   },
   "outputs": [],
   "source": [
    "train_set = df[(df[\"Usage\"] == 'Training')] \n",
    "val_set = df[(df[\"Usage\"] == 'PublicTest')]\n",
    "test_set = df[(df[\"Usage\"] == 'PrivateTest')] \n",
    "\n",
    "X_train = np.array(list(map(str.split, train_set.pixels)), np.float32) \n",
    "X_val = np.array(list(map(str.split, val_set.pixels)), np.float32) \n",
    "X_test = np.array(list(map(str.split, test_set.pixels)), np.float32) \n",
    "\n",
    "X_train = X_train.reshape(X_train.shape[0], 48, 48, 1) \n",
    "X_val = X_val.reshape(X_val.shape[0], 48, 48, 1)\n",
    "X_test = X_test.reshape(X_test.shape[0], 48, 48, 1)"
   ]
  },
  {
   "cell_type": "code",
   "execution_count": 15,
   "metadata": {
    "colab": {
     "base_uri": "https://localhost:8080/",
     "height": 34
    },
    "colab_type": "code",
    "id": "tAKB2tDuu_g5",
    "outputId": "808ad4da-6935-4adb-a7d4-c25f72d9a993"
   },
   "outputs": [
    {
     "name": "stderr",
     "output_type": "stream",
     "text": [
      "Using TensorFlow backend.\n"
     ]
    }
   ],
   "source": [
    "Y_train = train_set[\"emotion\"]\n",
    "Y_val =   val_set[\"emotion\"]\n",
    "Y_test =  test_set[\"emotion\"]\n",
    "\n",
    "from keras.utils import np_utils\n",
    "Y_train = np_utils.to_categorical(Y_train, 7)\n",
    "Y_val =  np_utils.to_categorical(Y_val, 7)\n",
    "Y_test = np_utils.to_categorical(Y_test, 7)"
   ]
  },
  {
   "cell_type": "code",
   "execution_count": 16,
   "metadata": {
    "colab": {
     "base_uri": "https://localhost:8080/",
     "height": 68
    },
    "colab_type": "code",
    "id": "F51Hh4PU2idZ",
    "outputId": "f190a071-ab35-4288-9664-0efff3078ee0"
   },
   "outputs": [
    {
     "name": "stdout",
     "output_type": "stream",
     "text": [
      "(28709, 48, 48, 1) (28709, 7)\n",
      "(3589, 48, 48, 1) (3589, 7)\n",
      "(3589, 48, 48, 1) (3589, 7)\n"
     ]
    }
   ],
   "source": [
    "print(X_train.shape,Y_train.shape)\n",
    "print(X_val.shape,Y_val.shape)\n",
    "print(X_test.shape,Y_test.shape)"
   ]
  },
  {
   "cell_type": "code",
   "execution_count": 17,
   "metadata": {
    "colab": {},
    "colab_type": "code",
    "id": "4IY5dYaMywkn"
   },
   "outputs": [],
   "source": [
    "from keras.preprocessing.image import ImageDataGenerator\n",
    "\n",
    "datagen = ImageDataGenerator( \n",
    "    rescale=1./255,\n",
    "    rotation_range = 10,\n",
    "    horizontal_flip = True,\n",
    "    width_shift_range=0.1,\n",
    "    height_shift_range=0.1,\n",
    "    fill_mode = 'nearest')\n",
    "\n",
    "testgen = ImageDataGenerator( \n",
    "    rescale=1./255\n",
    "    )\n",
    "datagen.fit(X_train)\n"
   ]
  },
  {
   "cell_type": "code",
   "execution_count": 18,
   "metadata": {
    "colab": {},
    "colab_type": "code",
    "id": "rYmKPg2lzUos"
   },
   "outputs": [],
   "source": [
    "\n",
    "from keras.callbacks import EarlyStopping, ReduceLROnPlateau\n",
    "\n",
    "earlystop = EarlyStopping(patience=10)\n",
    "learning_rate_reduction = ReduceLROnPlateau(monitor='val_loss', \n",
    "                                            patience=2, \n",
    "                                            verbose=2, \n",
    "                                            factor=0.5, \n",
    "                                            min_lr=0.00008)\n",
    "\n",
    "callbacks = [earlystop, learning_rate_reduction]"
   ]
  },
  {
   "cell_type": "code",
   "execution_count": 19,
   "metadata": {
    "colab": {},
    "colab_type": "code",
    "id": "pdi224vm2q4m"
   },
   "outputs": [],
   "source": [
    "from keras.models import Sequential\n",
    "from keras.layers import Conv2D, MaxPooling2D, Dropout, Flatten, Dense, Activation, BatchNormalization\n",
    "\n",
    "\n",
    "model = Sequential()\n",
    "\n",
    "#Layer1\n",
    "model.add(Conv2D(64,(5,5),input_shape=(48,48,1)))\n",
    "model.add(Conv2D(64,(5,5),activation='relu'))\n",
    "model.add(BatchNormalization())\n",
    "model.add(MaxPooling2D(pool_size=(2, 2)))\n",
    "\n",
    "\n",
    "#Layer2\n",
    "model.add(Conv2D(128,(5,5),activation='relu'))\n",
    "model.add(Conv2D(128,(5,5),activation='relu'))\n",
    "model.add(BatchNormalization())\n",
    "model.add(MaxPooling2D(pool_size=(2, 2)))\n",
    "\n",
    "#Layer3\n",
    "model.add(Conv2D(256,(3,3),activation='relu'))\n",
    "model.add(Conv2D(256,(3,3),activation='relu'))\n",
    "model.add(BatchNormalization())\n",
    "model.add(MaxPooling2D(pool_size=(2, 2)))\n",
    "\n",
    "\n",
    "#Layer 4\n",
    "model.add(Flatten())\n",
    "model.add(Dense(128, activation='relu'))\n",
    "model.add(BatchNormalization())\n",
    "model.add(Dropout(0.25))\n",
    "model.add(Dense(7, activation='softmax'))\n",
    "\n"
   ]
  },
  {
   "cell_type": "code",
   "execution_count": 25,
   "metadata": {
    "colab": {
     "base_uri": "https://localhost:8080/",
     "height": 731
    },
    "colab_type": "code",
    "id": "5tsmgJI3E7-1",
    "outputId": "0c15b2ab-f6bb-40d8-a98e-86cac4c00717"
   },
   "outputs": [
    {
     "name": "stdout",
     "output_type": "stream",
     "text": [
      "Model: \"sequential_1\"\n",
      "_________________________________________________________________\n",
      "Layer (type)                 Output Shape              Param #   \n",
      "=================================================================\n",
      "conv2d_1 (Conv2D)            (None, 44, 44, 64)        1664      \n",
      "_________________________________________________________________\n",
      "conv2d_2 (Conv2D)            (None, 40, 40, 64)        102464    \n",
      "_________________________________________________________________\n",
      "batch_normalization_1 (Batch (None, 40, 40, 64)        256       \n",
      "_________________________________________________________________\n",
      "max_pooling2d_1 (MaxPooling2 (None, 20, 20, 64)        0         \n",
      "_________________________________________________________________\n",
      "conv2d_3 (Conv2D)            (None, 16, 16, 128)       204928    \n",
      "_________________________________________________________________\n",
      "conv2d_4 (Conv2D)            (None, 12, 12, 128)       409728    \n",
      "_________________________________________________________________\n",
      "batch_normalization_2 (Batch (None, 12, 12, 128)       512       \n",
      "_________________________________________________________________\n",
      "max_pooling2d_2 (MaxPooling2 (None, 6, 6, 128)         0         \n",
      "_________________________________________________________________\n",
      "conv2d_5 (Conv2D)            (None, 4, 4, 256)         295168    \n",
      "_________________________________________________________________\n",
      "conv2d_6 (Conv2D)            (None, 2, 2, 256)         590080    \n",
      "_________________________________________________________________\n",
      "batch_normalization_3 (Batch (None, 2, 2, 256)         1024      \n",
      "_________________________________________________________________\n",
      "max_pooling2d_3 (MaxPooling2 (None, 1, 1, 256)         0         \n",
      "_________________________________________________________________\n",
      "flatten_1 (Flatten)          (None, 256)               0         \n",
      "_________________________________________________________________\n",
      "dense_1 (Dense)              (None, 128)               32896     \n",
      "_________________________________________________________________\n",
      "batch_normalization_4 (Batch (None, 128)               512       \n",
      "_________________________________________________________________\n",
      "dropout_1 (Dropout)          (None, 128)               0         \n",
      "_________________________________________________________________\n",
      "dense_2 (Dense)              (None, 7)                 903       \n",
      "=================================================================\n",
      "Total params: 1,640,135\n",
      "Trainable params: 1,638,983\n",
      "Non-trainable params: 1,152\n",
      "_________________________________________________________________\n"
     ]
    }
   ],
   "source": [
    "from keras.optimizers import Adam\n",
    "opt = Adam(lr=0.0001, decay=1e-6)\n",
    "model.compile(optimizer= opt,\n",
    "              loss='categorical_crossentropy',\n",
    "              metrics=['accuracy'])\n",
    "model.summary()"
   ]
  },
  {
   "cell_type": "code",
   "execution_count": 26,
   "metadata": {
    "colab": {},
    "colab_type": "code",
    "id": "yRrGEOP9-KVb"
   },
   "outputs": [],
   "source": [
    "batch_size = 128\n",
    "num_epochs = 200 \n",
    "\n",
    "train_flow = datagen.flow(X_train, Y_train, batch_size=batch_size) \n",
    "val_flow = testgen.flow(X_val, Y_val, batch_size=batch_size) \n",
    "test_flow = testgen.flow(X_test, Y_test, batch_size=batch_size) "
   ]
  },
  {
   "cell_type": "code",
   "execution_count": 27,
   "metadata": {
    "colab": {
     "base_uri": "https://localhost:8080/",
     "height": 459
    },
    "colab_type": "code",
    "id": "__nJGodEFcrI",
    "outputId": "3930cfb3-3935-4792-d1ee-80a319ee0f10"
   },
   "outputs": [
    {
     "name": "stdout",
     "output_type": "stream",
     "text": [
      "Epoch 1/200\n",
      "225/224 [==============================] - 28s 123ms/step - loss: 0.7670 - accuracy: 0.7156 - val_loss: 1.4448 - val_accuracy: 0.6381\n",
      "Epoch 2/200\n",
      "225/224 [==============================] - 26s 115ms/step - loss: 0.7565 - accuracy: 0.7217 - val_loss: 0.1502 - val_accuracy: 0.6278\n",
      "Epoch 3/200\n",
      "225/224 [==============================] - 26s 115ms/step - loss: 0.7514 - accuracy: 0.7224 - val_loss: 1.1265 - val_accuracy: 0.6250\n",
      "Epoch 4/200\n",
      "225/224 [==============================] - 26s 115ms/step - loss: 0.7391 - accuracy: 0.7269 - val_loss: 0.7889 - val_accuracy: 0.6121\n",
      "\n",
      "Epoch 00004: ReduceLROnPlateau reducing learning rate to 8e-05.\n",
      "Epoch 5/200\n",
      "225/224 [==============================] - 26s 115ms/step - loss: 0.7269 - accuracy: 0.7300 - val_loss: 0.6483 - val_accuracy: 0.6289\n",
      "Epoch 6/200\n",
      "225/224 [==============================] - 26s 115ms/step - loss: 0.7209 - accuracy: 0.7336 - val_loss: 1.0871 - val_accuracy: 0.6278\n",
      "Epoch 7/200\n",
      "225/224 [==============================] - 26s 115ms/step - loss: 0.7120 - accuracy: 0.7388 - val_loss: 1.0640 - val_accuracy: 0.6305\n",
      "Epoch 8/200\n",
      "225/224 [==============================] - 26s 115ms/step - loss: 0.7094 - accuracy: 0.7401 - val_loss: 0.8113 - val_accuracy: 0.6197\n",
      "Epoch 9/200\n",
      "225/224 [==============================] - 26s 115ms/step - loss: 0.7040 - accuracy: 0.7403 - val_loss: 1.1791 - val_accuracy: 0.6208\n",
      "Epoch 10/200\n",
      "225/224 [==============================] - 26s 115ms/step - loss: 0.6951 - accuracy: 0.7450 - val_loss: 1.9751 - val_accuracy: 0.6294\n",
      "Epoch 11/200\n",
      "225/224 [==============================] - 26s 115ms/step - loss: 0.6871 - accuracy: 0.7488 - val_loss: 0.8147 - val_accuracy: 0.6322\n",
      "Epoch 12/200\n",
      "225/224 [==============================] - 26s 116ms/step - loss: 0.6841 - accuracy: 0.7485 - val_loss: 0.2817 - val_accuracy: 0.6275\n"
     ]
    }
   ],
   "source": [
    "# we iterate 200 times over the entire training set \n",
    "training = model.fit_generator(train_flow, \n",
    "                    steps_per_epoch=len(X_train) / batch_size, \n",
    "                    epochs=num_epochs,  \n",
    "                    callbacks=callbacks,\n",
    "                    validation_data=val_flow,  \n",
    "                    validation_steps=len(X_val) / batch_size) "
   ]
  },
  {
   "cell_type": "code",
   "execution_count": 28,
   "metadata": {
    "colab": {
     "base_uri": "https://localhost:8080/",
     "height": 590
    },
    "colab_type": "code",
    "id": "y8R_5jFIVWBk",
    "outputId": "74226fea-66a6-4a4a-a1a5-2fcc3892abf3"
   },
   "outputs": [
    {
     "name": "stdout",
     "output_type": "stream",
     "text": [
      "dict_keys(['val_loss', 'val_accuracy', 'loss', 'accuracy', 'lr'])\n"
     ]
    },
    {
     "data": {
      "image/png": "[encoded data removed]",
      "text/plain": [
       "<Figure size 432x288 with 1 Axes>"
      ]
     },
     "metadata": {
      "needs_background": "light",
      "tags": []
     },
     "output_type": "display_data"
    },
    {
     "data": {
      "image/png": "[encoded data removed]",
      "text/plain": [
       "<Figure size 432x288 with 1 Axes>"
      ]
     },
     "metadata": {
      "needs_background": "light",
      "tags": []
     },
     "output_type": "display_data"
    }
   ],
   "source": [
    "import matplotlib.pyplot as plt\n",
    "%matplotlib inline\n",
    "# list all data in training\n",
    "print(training.history.keys())\n",
    "\n",
    "# summarize training for accuracy\n",
    "plt.plot(training.history['accuracy'])\n",
    "plt.plot(training.history['val_accuracy'])\n",
    "plt.title('model accuracy')\n",
    "plt.ylabel('accuracy')\n",
    "plt.xlabel('epoch')\n",
    "plt.legend(['train', 'test'], loc='upper left')\n",
    "plt.show()\n",
    "\n",
    "# summarize traning for loss\n",
    "plt.plot(training.history['loss'])\n",
    "plt.plot(training.history['val_loss'])\n",
    "plt.title('model loss')\n",
    "plt.ylabel('loss')\n",
    "plt.xlabel('epoch')\n",
    "plt.legend(['train', 'test'], loc='upper left')\n",
    "plt.show()"
   ]
  },
  {
   "cell_type": "code",
   "execution_count": 29,
   "metadata": {
    "colab": {
     "base_uri": "https://localhost:8080/",
     "height": 51
    },
    "colab_type": "code",
    "id": "5QHCxDKqUOlu",
    "outputId": "ed56274a-f83c-43aa-f70b-5eb592a49a07"
   },
   "outputs": [
    {
     "name": "stdout",
     "output_type": "stream",
     "text": [
      "Test Loss 0.4568061828613281\n",
      "Test Acc: 0.6597937941551208\n"
     ]
    }
   ],
   "source": [
    "loss = model.evaluate_generator(test_flow, steps=len(X_test) / batch_size) \n",
    "print(\"Test Loss \" + str(loss[0]))\n",
    "print(\"Test Acc: \" + str(loss[1]))"
   ]
  },
  {
   "cell_type": "markdown",
   "metadata": {
    "colab_type": "text",
    "id": "oY7YlNxOiGvr"
   },
   "source": [
    "# **Answer**\n",
    "\n",
    "**What parameters should be choosen to get best accuracy on classifying the images into various categories?**\n",
    "\n",
    "*the parameters that i chose initially are batch_size=64, epochs=200 along with the generic parameters in callback functions.\n",
    "On training the model, we found that the training stopped at 30 epochs, with a test accuracy of 61% on the model.*\n",
    "\n",
    "*I changed the batch_size from 64 to 128 and also changed the optimiser from \"adam\" to adam function  with the parameters Adam(lr=0.0001, decay=1e-6).\n",
    "On training the model, we found that the training stopped at 12 epochs, with a \n",
    "test accuracy of 65% on the model.\n",
    "On tweaking the parameters more, we might be able to produce better accuracy.*\n",
    "\n",
    "\n",
    "\n"
   ]
  }
 ],
 "metadata": {
  "accelerator": "GPU",
  "colab": {
   "collapsed_sections": [],
   "name": "AI & DL assignment-2 file-3",
   "provenance": []
  },
  "kernelspec": {
   "display_name": "Python 3",
   "language": "python",
   "name": "python3"
  },
  "language_info": {
   "codemirror_mode": {
    "name": "ipython",
    "version": 3
   },
   "file_extension": ".py",
   "mimetype": "text/x-python",
   "name": "python",
   "nbconvert_exporter": "python",
   "pygments_lexer": "ipython3",
   "version": "3.7.4"
  }
 },
 "nbformat": 4,
 "nbformat_minor": 1
}
