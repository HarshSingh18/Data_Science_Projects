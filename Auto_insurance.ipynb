{
 "cells": [
  {
   "cell_type": "markdown",
   "metadata": {
    "colab_type": "text",
    "id": "f014vDD7JVGm"
   },
   "source": [
    "# Aim of the Project\n",
    "\n",
    "The aim of the project is to build a Machine Learning\n",
    "Model to predict whether an owner will initiate an auto\n",
    "insurance claim in the next year."
   ]
  },
  {
   "cell_type": "markdown",
   "metadata": {
    "colab_type": "text",
    "id": "EstzxuNiJVER"
   },
   "source": [
    "# Background\n",
    "\n",
    "The auto insurance industry is witnessing a paradigm shift. Since auto insurance company\n",
    "consists of homogenous good thereby making it difficult to differentiate product A from\n",
    "product B, also companies are fighting a price war (for insurance price). On top of that, the\n",
    "distribution channel is shifting more from traditional insurance brokers to online purchases,\n",
    "which means that the ability for companies to interact through human touchpoints is limited,\n",
    "and customers should be quoted at a reasonable price. A good price quote is one that makes\n",
    "the customer purchase the policy and helps the company to increase the profits.\n",
    "Also, the insurance premium is calculated based on more than 50+ parameters, which means\n",
    "that traditional business analytics-based algorithms are now limited in their ability to\n",
    "differentiate among customers based on subtle parameters."
   ]
  },
  {
   "cell_type": "markdown",
   "metadata": {
    "colab_type": "text",
    "id": "hlYVn_M3JVBw"
   },
   "source": [
    "# Process Flow\n",
    "The Machine Learning model mainly consist of two phases:\n",
    "\n",
    "1. EDA (Exploratory Data Analysis):\n",
    "\n",
    "Analyze the datasets to summarize their main\n",
    "characteristics (with visual methods). A statistical\n",
    "model can be used, primarily EDA can be used to\n",
    "see what the data can tell us beyond the formal\n",
    "modeling or hypothesis testing task.\n",
    "\n",
    "Following tasks can be performed as a part of EDA:\n",
    "\n",
    "o Scaling/Normalization\n",
    "\n",
    "o Fill the missing values\n",
    "\n",
    "o Feature selection & engineering\n",
    "\n",
    "2. Machine Learning Modeling :\n",
    "\n",
    "After EDA, the modeling comes into the process. The process of training an ML model involves providing an ML algorithm (that is, the learning algorithm) with training data.\n",
    "The term “ML model” refers to the model artifact that is created by the training\n",
    "process.\n",
    "The training data must contain the correct answer (target or target attribute). The\n",
    "learning algorithm finds patterns in the training data that maps the input data\n",
    "attributes to the target (the answer that you want to predict), and it outputs an ML\n",
    "model that captures these patterns.\n",
    "You will use the ML model to get predictions on new data for which you will not know\n",
    "the target.\n",
    "\n",
    "Following tasks can be performed as a part of Modeling:\n",
    "\n",
    "• Start with the basic model but eventually move towards ensemble\n",
    "\n",
    "• Use Deep Learning with sklearn MLPClassifier and check if the Neural Network\n",
    "Model is better than traditional models\n",
    "\n",
    "• Arrival at a model with best f1-score"
   ]
  },
  {
   "cell_type": "markdown",
   "metadata": {
    "colab_type": "text",
    "id": "ZvA7ASynJU-v"
   },
   "source": [
    "# Dataset Description\n",
    "\n",
    "The project involves the use of a dataset with 600k training data and 57 features/data. \n",
    "In the train and test data, features that belong to similar groupings are tagged as such in the feature names (e.g., ind, reg, car, calc). In addition, feature names include the postfix bin to indicate binary features and cat to indicate categorical features. Features without these designations are either continuous or ordinal. Values of -1 indicate that the feature was missing from the observation. The target column signifies whether a claim was filed for that policy holder."
   ]
  },
  {
   "cell_type": "code",
   "execution_count": 83,
   "metadata": {
    "colab": {},
    "colab_type": "code",
    "id": "XLX4uf9dPIhG"
   },
   "outputs": [],
   "source": [
    "# Import PyDrive and associated libraries.\n",
    "# This only needs to be done once per notebook.\n",
    "from pydrive.auth import GoogleAuth\n",
    "from pydrive.drive import GoogleDrive\n",
    "from google.colab import auth\n",
    "from oauth2client.client import GoogleCredentials\n",
    "\n",
    "# Authenticate and create the PyDrive client.\n",
    "# This only needs to be done once per notebook.\n",
    "auth.authenticate_user()\n",
    "gauth = GoogleAuth()\n",
    "gauth.credentials = GoogleCredentials.get_application_default()\n",
    "drive = GoogleDrive(gauth)\n",
    "\n"
   ]
  },
  {
   "cell_type": "code",
   "execution_count": 84,
   "metadata": {
    "colab": {},
    "colab_type": "code",
    "id": "uRdrZaX8PMOA"
   },
   "outputs": [],
   "source": [
    "data = \"1GjNMZEaNk1goDxQdsU9aEZO568kfaHM9\"\n",
    "downloaded = drive.CreateFile({'id': data})\n",
    "downloaded.GetContentFile(\"train1.csv\")"
   ]
  },
  {
   "cell_type": "markdown",
   "metadata": {
    "colab_type": "text",
    "id": "2XnAbGHdJUqP"
   },
   "source": [
    "#E.D.A Section\n",
    "\n",
    "## Tasks to be performed\n",
    "Following are the deliverables (.ipynb files), which needed to be developed with respect to\n",
    "Exploratory Data Analysis:\n",
    "1. Write at least 3 important inferences from the data above\n",
    "2. Is the data balanced? Meaning are targets 0 and 1 in the right proportion?\n",
    "3. How many categorical features are there? \n",
    "4. How many binary features are there? \n",
    "5. Write inferences from data on interval variables.\n",
    "6. Write inferences from data on ordinal variables.\n",
    "7. Write inferences from data on binary variables.\n",
    "8. Check if the target data is proportionate or not. Hint: Below than 30% for binary data is sign\n",
    "of imbalance\n",
    "9. What should be the preferred way in this case to balance the data?\n",
    "10. How many training records are there after achieving a balance of 12%?\n",
    "11. Which are the top two features in terms of missing values?    \n",
    "12. In total, how many features have missing values? \n",
    "13. What steps should be taken to handle the missing data? \n",
    "14. Which interval variables have strong correlation?\n",
    "15. What's the level of correlation among ordinal features?\n",
    "16. Implement Hot Encoding for categorical features\n",
    "17. In nominal and interval features, which features are suitable for StandardScaler?\n",
    "18. Summarize the learnings of EDA"
   ]
  },
  {
   "cell_type": "code",
   "execution_count": 85,
   "metadata": {
    "colab": {
     "base_uri": "https://localhost:8080/",
     "height": 34
    },
    "colab_type": "code",
    "id": "s5gJUcKgP8t4",
    "outputId": "16ea5083-9832-42a2-cdc0-60e8862d72b6"
   },
   "outputs": [
    {
     "data": {
      "text/plain": [
       "(595212, 59)"
      ]
     },
     "execution_count": 85,
     "metadata": {
      "tags": []
     },
     "output_type": "execute_result"
    }
   ],
   "source": [
    "import numpy as np\n",
    "import pandas as pd\n",
    "data = pd.read_csv(\"train1.csv\")\n",
    "data.shape"
   ]
  },
  {
   "cell_type": "code",
   "execution_count": 86,
   "metadata": {
    "colab": {
     "base_uri": "https://localhost:8080/",
     "height": 224
    },
    "colab_type": "code",
    "id": "oOA1vcLvQJcV",
    "outputId": "19524dd3-610d-4dd3-a64e-38c51a1bc3da"
   },
   "outputs": [
    {
     "data": {
      "text/html": [
       "<div>\n",
       "<style scoped>\n",
       "    .dataframe tbody tr th:only-of-type {\n",
       "        vertical-align: middle;\n",
       "    }\n",
       "\n",
       "    .dataframe tbody tr th {\n",
       "        vertical-align: top;\n",
       "    }\n",
       "\n",
       "    .dataframe thead th {\n",
       "        text-align: right;\n",
       "    }\n",
       "</style>\n",
       "<table border=\"1\" class=\"dataframe\">\n",
       "  <thead>\n",
       "    <tr style=\"text-align: right;\">\n",
       "      <th></th>\n",
       "      <th>id</th>\n",
       "      <th>target</th>\n",
       "      <th>ps_ind_01</th>\n",
       "      <th>ps_ind_02_cat</th>\n",
       "      <th>ps_ind_03</th>\n",
       "      <th>ps_ind_04_cat</th>\n",
       "      <th>ps_ind_05_cat</th>\n",
       "      <th>ps_ind_06_bin</th>\n",
       "      <th>ps_ind_07_bin</th>\n",
       "      <th>ps_ind_08_bin</th>\n",
       "      <th>ps_ind_09_bin</th>\n",
       "      <th>ps_ind_10_bin</th>\n",
       "      <th>ps_ind_11_bin</th>\n",
       "      <th>ps_ind_12_bin</th>\n",
       "      <th>ps_ind_13_bin</th>\n",
       "      <th>ps_ind_14</th>\n",
       "      <th>ps_ind_15</th>\n",
       "      <th>ps_ind_16_bin</th>\n",
       "      <th>ps_ind_17_bin</th>\n",
       "      <th>ps_ind_18_bin</th>\n",
       "      <th>ps_reg_01</th>\n",
       "      <th>ps_reg_02</th>\n",
       "      <th>ps_reg_03</th>\n",
       "      <th>ps_car_01_cat</th>\n",
       "      <th>ps_car_02_cat</th>\n",
       "      <th>ps_car_03_cat</th>\n",
       "      <th>ps_car_04_cat</th>\n",
       "      <th>ps_car_05_cat</th>\n",
       "      <th>ps_car_06_cat</th>\n",
       "      <th>ps_car_07_cat</th>\n",
       "      <th>ps_car_08_cat</th>\n",
       "      <th>ps_car_09_cat</th>\n",
       "      <th>ps_car_10_cat</th>\n",
       "      <th>ps_car_11_cat</th>\n",
       "      <th>ps_car_11</th>\n",
       "      <th>ps_car_12</th>\n",
       "      <th>ps_car_13</th>\n",
       "      <th>ps_car_14</th>\n",
       "      <th>ps_car_15</th>\n",
       "      <th>ps_calc_01</th>\n",
       "      <th>ps_calc_02</th>\n",
       "      <th>ps_calc_03</th>\n",
       "      <th>ps_calc_04</th>\n",
       "      <th>ps_calc_05</th>\n",
       "      <th>ps_calc_06</th>\n",
       "      <th>ps_calc_07</th>\n",
       "      <th>ps_calc_08</th>\n",
       "      <th>ps_calc_09</th>\n",
       "      <th>ps_calc_10</th>\n",
       "      <th>ps_calc_11</th>\n",
       "      <th>ps_calc_12</th>\n",
       "      <th>ps_calc_13</th>\n",
       "      <th>ps_calc_14</th>\n",
       "      <th>ps_calc_15_bin</th>\n",
       "      <th>ps_calc_16_bin</th>\n",
       "      <th>ps_calc_17_bin</th>\n",
       "      <th>ps_calc_18_bin</th>\n",
       "      <th>ps_calc_19_bin</th>\n",
       "      <th>ps_calc_20_bin</th>\n",
       "    </tr>\n",
       "  </thead>\n",
       "  <tbody>\n",
       "    <tr>\n",
       "      <th>0</th>\n",
       "      <td>7</td>\n",
       "      <td>0</td>\n",
       "      <td>2</td>\n",
       "      <td>2</td>\n",
       "      <td>5</td>\n",
       "      <td>1</td>\n",
       "      <td>0</td>\n",
       "      <td>0</td>\n",
       "      <td>1</td>\n",
       "      <td>0</td>\n",
       "      <td>0</td>\n",
       "      <td>0</td>\n",
       "      <td>0</td>\n",
       "      <td>0</td>\n",
       "      <td>0</td>\n",
       "      <td>0</td>\n",
       "      <td>11</td>\n",
       "      <td>0</td>\n",
       "      <td>1</td>\n",
       "      <td>0</td>\n",
       "      <td>0.7</td>\n",
       "      <td>0.2</td>\n",
       "      <td>0.718070</td>\n",
       "      <td>10</td>\n",
       "      <td>1</td>\n",
       "      <td>-1</td>\n",
       "      <td>0</td>\n",
       "      <td>1</td>\n",
       "      <td>4</td>\n",
       "      <td>1</td>\n",
       "      <td>0</td>\n",
       "      <td>0</td>\n",
       "      <td>1</td>\n",
       "      <td>12</td>\n",
       "      <td>2</td>\n",
       "      <td>0.400000</td>\n",
       "      <td>0.883679</td>\n",
       "      <td>0.370810</td>\n",
       "      <td>3.605551</td>\n",
       "      <td>0.6</td>\n",
       "      <td>0.5</td>\n",
       "      <td>0.2</td>\n",
       "      <td>3</td>\n",
       "      <td>1</td>\n",
       "      <td>10</td>\n",
       "      <td>1</td>\n",
       "      <td>10</td>\n",
       "      <td>1</td>\n",
       "      <td>5</td>\n",
       "      <td>9</td>\n",
       "      <td>1</td>\n",
       "      <td>5</td>\n",
       "      <td>8</td>\n",
       "      <td>0</td>\n",
       "      <td>1</td>\n",
       "      <td>1</td>\n",
       "      <td>0</td>\n",
       "      <td>0</td>\n",
       "      <td>1</td>\n",
       "    </tr>\n",
       "    <tr>\n",
       "      <th>1</th>\n",
       "      <td>9</td>\n",
       "      <td>0</td>\n",
       "      <td>1</td>\n",
       "      <td>1</td>\n",
       "      <td>7</td>\n",
       "      <td>0</td>\n",
       "      <td>0</td>\n",
       "      <td>0</td>\n",
       "      <td>0</td>\n",
       "      <td>1</td>\n",
       "      <td>0</td>\n",
       "      <td>0</td>\n",
       "      <td>0</td>\n",
       "      <td>0</td>\n",
       "      <td>0</td>\n",
       "      <td>0</td>\n",
       "      <td>3</td>\n",
       "      <td>0</td>\n",
       "      <td>0</td>\n",
       "      <td>1</td>\n",
       "      <td>0.8</td>\n",
       "      <td>0.4</td>\n",
       "      <td>0.766078</td>\n",
       "      <td>11</td>\n",
       "      <td>1</td>\n",
       "      <td>-1</td>\n",
       "      <td>0</td>\n",
       "      <td>-1</td>\n",
       "      <td>11</td>\n",
       "      <td>1</td>\n",
       "      <td>1</td>\n",
       "      <td>2</td>\n",
       "      <td>1</td>\n",
       "      <td>19</td>\n",
       "      <td>3</td>\n",
       "      <td>0.316228</td>\n",
       "      <td>0.618817</td>\n",
       "      <td>0.388716</td>\n",
       "      <td>2.449490</td>\n",
       "      <td>0.3</td>\n",
       "      <td>0.1</td>\n",
       "      <td>0.3</td>\n",
       "      <td>2</td>\n",
       "      <td>1</td>\n",
       "      <td>9</td>\n",
       "      <td>5</td>\n",
       "      <td>8</td>\n",
       "      <td>1</td>\n",
       "      <td>7</td>\n",
       "      <td>3</td>\n",
       "      <td>1</td>\n",
       "      <td>1</td>\n",
       "      <td>9</td>\n",
       "      <td>0</td>\n",
       "      <td>1</td>\n",
       "      <td>1</td>\n",
       "      <td>0</td>\n",
       "      <td>1</td>\n",
       "      <td>0</td>\n",
       "    </tr>\n",
       "    <tr>\n",
       "      <th>2</th>\n",
       "      <td>13</td>\n",
       "      <td>0</td>\n",
       "      <td>5</td>\n",
       "      <td>4</td>\n",
       "      <td>9</td>\n",
       "      <td>1</td>\n",
       "      <td>0</td>\n",
       "      <td>0</td>\n",
       "      <td>0</td>\n",
       "      <td>1</td>\n",
       "      <td>0</td>\n",
       "      <td>0</td>\n",
       "      <td>0</td>\n",
       "      <td>0</td>\n",
       "      <td>0</td>\n",
       "      <td>0</td>\n",
       "      <td>12</td>\n",
       "      <td>1</td>\n",
       "      <td>0</td>\n",
       "      <td>0</td>\n",
       "      <td>0.0</td>\n",
       "      <td>0.0</td>\n",
       "      <td>-1.000000</td>\n",
       "      <td>7</td>\n",
       "      <td>1</td>\n",
       "      <td>-1</td>\n",
       "      <td>0</td>\n",
       "      <td>-1</td>\n",
       "      <td>14</td>\n",
       "      <td>1</td>\n",
       "      <td>1</td>\n",
       "      <td>2</td>\n",
       "      <td>1</td>\n",
       "      <td>60</td>\n",
       "      <td>1</td>\n",
       "      <td>0.316228</td>\n",
       "      <td>0.641586</td>\n",
       "      <td>0.347275</td>\n",
       "      <td>3.316625</td>\n",
       "      <td>0.5</td>\n",
       "      <td>0.7</td>\n",
       "      <td>0.1</td>\n",
       "      <td>2</td>\n",
       "      <td>2</td>\n",
       "      <td>9</td>\n",
       "      <td>1</td>\n",
       "      <td>8</td>\n",
       "      <td>2</td>\n",
       "      <td>7</td>\n",
       "      <td>4</td>\n",
       "      <td>2</td>\n",
       "      <td>7</td>\n",
       "      <td>7</td>\n",
       "      <td>0</td>\n",
       "      <td>1</td>\n",
       "      <td>1</td>\n",
       "      <td>0</td>\n",
       "      <td>1</td>\n",
       "      <td>0</td>\n",
       "    </tr>\n",
       "    <tr>\n",
       "      <th>3</th>\n",
       "      <td>16</td>\n",
       "      <td>0</td>\n",
       "      <td>0</td>\n",
       "      <td>1</td>\n",
       "      <td>2</td>\n",
       "      <td>0</td>\n",
       "      <td>0</td>\n",
       "      <td>1</td>\n",
       "      <td>0</td>\n",
       "      <td>0</td>\n",
       "      <td>0</td>\n",
       "      <td>0</td>\n",
       "      <td>0</td>\n",
       "      <td>0</td>\n",
       "      <td>0</td>\n",
       "      <td>0</td>\n",
       "      <td>8</td>\n",
       "      <td>1</td>\n",
       "      <td>0</td>\n",
       "      <td>0</td>\n",
       "      <td>0.9</td>\n",
       "      <td>0.2</td>\n",
       "      <td>0.580948</td>\n",
       "      <td>7</td>\n",
       "      <td>1</td>\n",
       "      <td>0</td>\n",
       "      <td>0</td>\n",
       "      <td>1</td>\n",
       "      <td>11</td>\n",
       "      <td>1</td>\n",
       "      <td>1</td>\n",
       "      <td>3</td>\n",
       "      <td>1</td>\n",
       "      <td>104</td>\n",
       "      <td>1</td>\n",
       "      <td>0.374166</td>\n",
       "      <td>0.542949</td>\n",
       "      <td>0.294958</td>\n",
       "      <td>2.000000</td>\n",
       "      <td>0.6</td>\n",
       "      <td>0.9</td>\n",
       "      <td>0.1</td>\n",
       "      <td>2</td>\n",
       "      <td>4</td>\n",
       "      <td>7</td>\n",
       "      <td>1</td>\n",
       "      <td>8</td>\n",
       "      <td>4</td>\n",
       "      <td>2</td>\n",
       "      <td>2</td>\n",
       "      <td>2</td>\n",
       "      <td>4</td>\n",
       "      <td>9</td>\n",
       "      <td>0</td>\n",
       "      <td>0</td>\n",
       "      <td>0</td>\n",
       "      <td>0</td>\n",
       "      <td>0</td>\n",
       "      <td>0</td>\n",
       "    </tr>\n",
       "    <tr>\n",
       "      <th>4</th>\n",
       "      <td>17</td>\n",
       "      <td>0</td>\n",
       "      <td>0</td>\n",
       "      <td>2</td>\n",
       "      <td>0</td>\n",
       "      <td>1</td>\n",
       "      <td>0</td>\n",
       "      <td>1</td>\n",
       "      <td>0</td>\n",
       "      <td>0</td>\n",
       "      <td>0</td>\n",
       "      <td>0</td>\n",
       "      <td>0</td>\n",
       "      <td>0</td>\n",
       "      <td>0</td>\n",
       "      <td>0</td>\n",
       "      <td>9</td>\n",
       "      <td>1</td>\n",
       "      <td>0</td>\n",
       "      <td>0</td>\n",
       "      <td>0.7</td>\n",
       "      <td>0.6</td>\n",
       "      <td>0.840759</td>\n",
       "      <td>11</td>\n",
       "      <td>1</td>\n",
       "      <td>-1</td>\n",
       "      <td>0</td>\n",
       "      <td>-1</td>\n",
       "      <td>14</td>\n",
       "      <td>1</td>\n",
       "      <td>1</td>\n",
       "      <td>2</td>\n",
       "      <td>1</td>\n",
       "      <td>82</td>\n",
       "      <td>3</td>\n",
       "      <td>0.316070</td>\n",
       "      <td>0.565832</td>\n",
       "      <td>0.365103</td>\n",
       "      <td>2.000000</td>\n",
       "      <td>0.4</td>\n",
       "      <td>0.6</td>\n",
       "      <td>0.0</td>\n",
       "      <td>2</td>\n",
       "      <td>2</td>\n",
       "      <td>6</td>\n",
       "      <td>3</td>\n",
       "      <td>10</td>\n",
       "      <td>2</td>\n",
       "      <td>12</td>\n",
       "      <td>3</td>\n",
       "      <td>1</td>\n",
       "      <td>1</td>\n",
       "      <td>3</td>\n",
       "      <td>0</td>\n",
       "      <td>0</td>\n",
       "      <td>0</td>\n",
       "      <td>1</td>\n",
       "      <td>1</td>\n",
       "      <td>0</td>\n",
       "    </tr>\n",
       "  </tbody>\n",
       "</table>\n",
       "</div>"
      ],
      "text/plain": [
       "   id  target  ps_ind_01  ...  ps_calc_18_bin  ps_calc_19_bin  ps_calc_20_bin\n",
       "0   7       0          2  ...               0               0               1\n",
       "1   9       0          1  ...               0               1               0\n",
       "2  13       0          5  ...               0               1               0\n",
       "3  16       0          0  ...               0               0               0\n",
       "4  17       0          0  ...               1               1               0\n",
       "\n",
       "[5 rows x 59 columns]"
      ]
     },
     "execution_count": 86,
     "metadata": {
      "tags": []
     },
     "output_type": "execute_result"
    }
   ],
   "source": [
    "data.head()"
   ]
  },
  {
   "cell_type": "code",
   "execution_count": 87,
   "metadata": {
    "colab": {
     "base_uri": "https://localhost:8080/",
     "height": 68
    },
    "colab_type": "code",
    "id": "iP3T0PBr6fwM",
    "outputId": "fb617a66-c891-4b72-804b-1dd2375f06c3"
   },
   "outputs": [
    {
     "data": {
      "text/plain": [
       "0    573518\n",
       "1     21694\n",
       "Name: target, dtype: int64"
      ]
     },
     "execution_count": 87,
     "metadata": {
      "tags": []
     },
     "output_type": "execute_result"
    }
   ],
   "source": [
    "data[\"target\"].value_counts()"
   ]
  },
  {
   "cell_type": "code",
   "execution_count": 88,
   "metadata": {
    "colab": {
     "base_uri": "https://localhost:8080/",
     "height": 34
    },
    "colab_type": "code",
    "id": "kgb3TNgOUggn",
    "outputId": "ce8bbb98-8cca-4739-cebb-4b1b00939d39"
   },
   "outputs": [
    {
     "name": "stdout",
     "output_type": "stream",
     "text": [
      "the number of people who took an insurance claim is only 3.64% out of a data of approx. 60,000 people\n"
     ]
    }
   ],
   "source": [
    "Total = data.shape[0]\n",
    "N0=(data[data[\"target\"]==0]).shape[0]\n",
    "N1=(data[data[\"target\"]==1]).shape[0]\n",
    "#print(Total,N0,N1)\n",
    "P0 = round((N0/Total)*100,2) #3.64\n",
    "P1 = round((N1/Total)*100,2) #96.36\n",
    "#print(P0,P1)\n",
    "print(\"the number of people who took an insurance claim is only \"+str(P1)+\"% out of a data of approx. 60,000 people\")"
   ]
  },
  {
   "cell_type": "code",
   "execution_count": 89,
   "metadata": {
    "colab": {
     "base_uri": "https://localhost:8080/",
     "height": 386
    },
    "colab_type": "code",
    "id": "Zw6bWg-lP0Qn",
    "outputId": "2730d956-7e4d-45a5-aa31-49100d1a5d66"
   },
   "outputs": [
    {
     "data": {
      "text/plain": [
       "<seaborn.axisgrid.FacetGrid at 0x7fbd66135668>"
      ]
     },
     "execution_count": 89,
     "metadata": {
      "tags": []
     },
     "output_type": "execute_result"
    },
    {
     "data": {
      "image/png": "[encoded data removed]",
      "text/plain": [
       "<Figure size 360x360 with 1 Axes>"
      ]
     },
     "metadata": {
      "needs_background": "light",
      "tags": []
     },
     "output_type": "display_data"
    }
   ],
   "source": [
    "import seaborn as sns\n",
    "sns.catplot(\"target\",data=data,kind='count')"
   ]
  },
  {
   "cell_type": "markdown",
   "metadata": {
    "colab_type": "text",
    "id": "WP2ltwcCy53i"
   },
   "source": [
    "**Q-2** *Is the data balanced? Meaning are targets 0 and 1 in the right proportion?*\n",
    "\n",
    "**Ans-2**\n",
    "\n",
    "No, the data is not at all balanced as it can be seen from the plot above, there is a huge imbalance in the proportions of values 0 and 1 in the target feature."
   ]
  },
  {
   "cell_type": "code",
   "execution_count": 90,
   "metadata": {
    "colab": {
     "base_uri": "https://localhost:8080/",
     "height": 1000
    },
    "colab_type": "code",
    "id": "VfSJZRH258qX",
    "outputId": "822a7481-d96c-4e52-80db-4b8c6ca8b884"
   },
   "outputs": [
    {
     "name": "stdout",
     "output_type": "stream",
     "text": [
      "<class 'pandas.core.frame.DataFrame'>\n",
      "RangeIndex: 595212 entries, 0 to 595211\n",
      "Data columns (total 59 columns):\n",
      " #   Column          Non-Null Count   Dtype  \n",
      "---  ------          --------------   -----  \n",
      " 0   id              595212 non-null  int64  \n",
      " 1   target          595212 non-null  int64  \n",
      " 2   ps_ind_01       595212 non-null  int64  \n",
      " 3   ps_ind_02_cat   595212 non-null  int64  \n",
      " 4   ps_ind_03       595212 non-null  int64  \n",
      " 5   ps_ind_04_cat   595212 non-null  int64  \n",
      " 6   ps_ind_05_cat   595212 non-null  int64  \n",
      " 7   ps_ind_06_bin   595212 non-null  int64  \n",
      " 8   ps_ind_07_bin   595212 non-null  int64  \n",
      " 9   ps_ind_08_bin   595212 non-null  int64  \n",
      " 10  ps_ind_09_bin   595212 non-null  int64  \n",
      " 11  ps_ind_10_bin   595212 non-null  int64  \n",
      " 12  ps_ind_11_bin   595212 non-null  int64  \n",
      " 13  ps_ind_12_bin   595212 non-null  int64  \n",
      " 14  ps_ind_13_bin   595212 non-null  int64  \n",
      " 15  ps_ind_14       595212 non-null  int64  \n",
      " 16  ps_ind_15       595212 non-null  int64  \n",
      " 17  ps_ind_16_bin   595212 non-null  int64  \n",
      " 18  ps_ind_17_bin   595212 non-null  int64  \n",
      " 19  ps_ind_18_bin   595212 non-null  int64  \n",
      " 20  ps_reg_01       595212 non-null  float64\n",
      " 21  ps_reg_02       595212 non-null  float64\n",
      " 22  ps_reg_03       595212 non-null  float64\n",
      " 23  ps_car_01_cat   595212 non-null  int64  \n",
      " 24  ps_car_02_cat   595212 non-null  int64  \n",
      " 25  ps_car_03_cat   595212 non-null  int64  \n",
      " 26  ps_car_04_cat   595212 non-null  int64  \n",
      " 27  ps_car_05_cat   595212 non-null  int64  \n",
      " 28  ps_car_06_cat   595212 non-null  int64  \n",
      " 29  ps_car_07_cat   595212 non-null  int64  \n",
      " 30  ps_car_08_cat   595212 non-null  int64  \n",
      " 31  ps_car_09_cat   595212 non-null  int64  \n",
      " 32  ps_car_10_cat   595212 non-null  int64  \n",
      " 33  ps_car_11_cat   595212 non-null  int64  \n",
      " 34  ps_car_11       595212 non-null  int64  \n",
      " 35  ps_car_12       595212 non-null  float64\n",
      " 36  ps_car_13       595212 non-null  float64\n",
      " 37  ps_car_14       595212 non-null  float64\n",
      " 38  ps_car_15       595212 non-null  float64\n",
      " 39  ps_calc_01      595212 non-null  float64\n",
      " 40  ps_calc_02      595212 non-null  float64\n",
      " 41  ps_calc_03      595212 non-null  float64\n",
      " 42  ps_calc_04      595212 non-null  int64  \n",
      " 43  ps_calc_05      595212 non-null  int64  \n",
      " 44  ps_calc_06      595212 non-null  int64  \n",
      " 45  ps_calc_07      595212 non-null  int64  \n",
      " 46  ps_calc_08      595212 non-null  int64  \n",
      " 47  ps_calc_09      595212 non-null  int64  \n",
      " 48  ps_calc_10      595212 non-null  int64  \n",
      " 49  ps_calc_11      595212 non-null  int64  \n",
      " 50  ps_calc_12      595212 non-null  int64  \n",
      " 51  ps_calc_13      595212 non-null  int64  \n",
      " 52  ps_calc_14      595212 non-null  int64  \n",
      " 53  ps_calc_15_bin  595212 non-null  int64  \n",
      " 54  ps_calc_16_bin  595212 non-null  int64  \n",
      " 55  ps_calc_17_bin  595212 non-null  int64  \n",
      " 56  ps_calc_18_bin  595212 non-null  int64  \n",
      " 57  ps_calc_19_bin  595212 non-null  int64  \n",
      " 58  ps_calc_20_bin  595212 non-null  int64  \n",
      "dtypes: float64(10), int64(49)\n",
      "memory usage: 267.9 MB\n"
     ]
    }
   ],
   "source": [
    "data.info()"
   ]
  },
  {
   "cell_type": "markdown",
   "metadata": {
    "colab_type": "text",
    "id": "LunD7wu6xN3X"
   },
   "source": [
    " **Q-3** *How many categorical features are there?* \n",
    "\n",
    "**Ans-3**\n",
    "\n",
    "There are 14 categorical features out of 57 features excluding *target* and *id* feature\n",
    "\n"
   ]
  },
  {
   "cell_type": "markdown",
   "metadata": {
    "colab_type": "text",
    "id": "yMaSnLvrA3oz"
   },
   "source": [
    "**Q-4** *How many binary features are there?* \n",
    "\n",
    "**Ans-4**\n",
    "\n",
    "There are 17 binary features out of 57 features excluding *target* and *id* feature"
   ]
  },
  {
   "cell_type": "markdown",
   "metadata": {
    "colab_type": "text",
    "id": "ZrjnyDhZzfbk"
   },
   "source": [
    "**Q-8** *Check if the target data is proportionate or not. Hint: Below than 30% for binary data is sign of imbalance.*\n",
    "\n",
    "**Ans-8**\n",
    "\n",
    "No, the target data is not at all proportionate. Number of people who claimed an insurance(value=0) is only 3.64% whereas the number of people who did not claimed an insurance(value=1) is 96.36%.This shows that the data is imbalanced. \n",
    "\n",
    "\n"
   ]
  },
  {
   "cell_type": "markdown",
   "metadata": {
    "colab_type": "text",
    "id": "cJHwFUOs9GOD"
   },
   "source": [
    "**Q-9** *What should be the preferred way in this case to balance the data?*\n",
    "\n",
    "**Ans-9** \n",
    "\n",
    "My preferred way will be to perform undersampling on the data, which means we will delete a lot of rows having target value equal to 0, as it is the over-represented class in the dataset. I chose undersampling as we have a lot of rows in this dataset, so losing some data will not affect in decrease of accuracy when we will train models on this data. I will perform random sampling on the data such that i can remove random rows from the data.  "
   ]
  },
  {
   "cell_type": "markdown",
   "metadata": {
    "colab_type": "text",
    "id": "HcO0XJJFzRuq"
   },
   "source": [
    "**Q-10** *How many training records are there after achieving a balance of 12%?*\n",
    "\n",
    "**Ans-10**\n",
    "\n",
    "To achieve a balance of 12%, 4,15,000 rows have to be dropped from the total no.of 595212 rows in the data such that the number of remaining records becomes 1,80,212.\n"
   ]
  },
  {
   "cell_type": "code",
   "execution_count": 91,
   "metadata": {
    "colab": {
     "base_uri": "https://localhost:8080/",
     "height": 34
    },
    "colab_type": "code",
    "id": "LdMCUivTNEJb",
    "outputId": "0f540299-1d0e-460c-984d-1dcf6635b279"
   },
   "outputs": [
    {
     "data": {
      "text/plain": [
       "(180212, 59)"
      ]
     },
     "execution_count": 91,
     "metadata": {
      "tags": []
     },
     "output_type": "execute_result"
    }
   ],
   "source": [
    "#performing undersampling on the data\n",
    "\n",
    "removed_indices = data[data[\"target\"] == 0].index\n",
    "removed_indices = np.random.choice(removed_indices,415000,replace=False)\n",
    "rem_samples = data.loc[removed_indices]\n",
    "\n",
    "data = data.drop(rem_samples.index)\n",
    "data.shape"
   ]
  },
  {
   "cell_type": "code",
   "execution_count": 92,
   "metadata": {
    "colab": {
     "base_uri": "https://localhost:8080/",
     "height": 386
    },
    "colab_type": "code",
    "id": "-BZng7itcHEG",
    "outputId": "a1dd3bce-5131-4624-9c95-8a4572d3fc14"
   },
   "outputs": [
    {
     "data": {
      "text/plain": [
       "<seaborn.axisgrid.FacetGrid at 0x7fbd6342e278>"
      ]
     },
     "execution_count": 92,
     "metadata": {
      "tags": []
     },
     "output_type": "execute_result"
    },
    {
     "data": {
      "image/png": "[encoded data removed]",
      "text/plain": [
       "<Figure size 360x360 with 1 Axes>"
      ]
     },
     "metadata": {
      "needs_background": "light",
      "tags": []
     },
     "output_type": "display_data"
    }
   ],
   "source": [
    "sns.catplot(\"target\",data=data,kind='count')"
   ]
  },
  {
   "cell_type": "markdown",
   "metadata": {
    "colab_type": "text",
    "id": "MSxf1Ju781Pm"
   },
   "source": [
    "As can be seen from the plot above, after performing under-sampling there is a significant increase in the (value=1) in target feature."
   ]
  },
  {
   "cell_type": "code",
   "execution_count": 93,
   "metadata": {
    "colab": {
     "base_uri": "https://localhost:8080/",
     "height": 34
    },
    "colab_type": "code",
    "id": "D0a0gZlk-HH1",
    "outputId": "4ae8671f-2cd2-4625-e10f-1e166de2d025"
   },
   "outputs": [
    {
     "name": "stdout",
     "output_type": "stream",
     "text": [
      "the percentage of value=1 in target feature has increased from 3.64% to 12.04% after performing undersampling on the data\n"
     ]
    }
   ],
   "source": [
    "Total = data.shape[0]\n",
    "N0=(data[data[\"target\"]==0]).shape[0]\n",
    "N1=(data[data[\"target\"]==1]).shape[0]\n",
    "P0 = round((N0/Total)*100,2) #87.96\n",
    "P1 = round((N1/Total)*100,2) #12.04\n",
    "\n",
    "print(\"the percentage of value=1 in target feature has increased from 3.64% to \"+str(P1)+\"% after performing undersampling on the data\")"
   ]
  },
  {
   "cell_type": "code",
   "execution_count": 94,
   "metadata": {
    "colab": {},
    "colab_type": "code",
    "id": "r-lc_iYT61q4"
   },
   "outputs": [],
   "source": [
    "# As missing values are denoted by the value '-1' in this dataset, replacing all occurences of '-1' to NaN.\n",
    "from numpy import nan \n",
    "data = data.replace(-1,nan)"
   ]
  },
  {
   "cell_type": "code",
   "execution_count": 95,
   "metadata": {
    "colab": {
     "base_uri": "https://localhost:8080/",
     "height": 221
    },
    "colab_type": "code",
    "id": "pFF5ezJnGAtv",
    "outputId": "7afe8ca9-5cdb-49d7-e3f6-8d90785b7d4a"
   },
   "outputs": [
    {
     "data": {
      "text/plain": [
       "ps_ind_02_cat       102\n",
       "ps_ind_04_cat        50\n",
       "ps_ind_05_cat      1952\n",
       "ps_reg_03         32083\n",
       "ps_car_01_cat        54\n",
       "ps_car_03_cat    123468\n",
       "ps_car_05_cat     79794\n",
       "ps_car_07_cat      3825\n",
       "ps_car_09_cat       208\n",
       "ps_car_11             1\n",
       "ps_car_14         12953\n",
       "dtype: int64"
      ]
     },
     "execution_count": 95,
     "metadata": {
      "tags": []
     },
     "output_type": "execute_result"
    }
   ],
   "source": [
    "# this function will print only the features having missing values and the number of missing values in those features.\n",
    "def disp_MV_features(DS):\n",
    "    missing_val_count_by_column = (DS.isnull().sum())\n",
    "    return missing_val_count_by_column[missing_val_count_by_column > 0]\n",
    "\n",
    "disp_MV_features(data)  "
   ]
  },
  {
   "cell_type": "markdown",
   "metadata": {
    "colab_type": "text",
    "id": "nFwfNUp-3YBU"
   },
   "source": [
    "**Q-11** *Which are the top two features in terms of missing values?* \n",
    "\n",
    "**Ans-11**\n",
    "\n",
    "The top two features in terms of missing values are *ps_car_03_cat* and *ps_car_05_cat* as infered from the code output above."
   ]
  },
  {
   "cell_type": "markdown",
   "metadata": {
    "colab_type": "text",
    "id": "zaKzv3c0iTw9"
   },
   "source": [
    "**Q-12** *In total, how many features have missing values?* \n",
    "\n",
    "**Ans-12**\n",
    "\n",
    "Total number of features having missing values are 11 as infered from the code output above. "
   ]
  },
  {
   "cell_type": "markdown",
   "metadata": {
    "colab_type": "text",
    "id": "nfZowH3IiVql"
   },
   "source": [
    "**Q-13** *What steps should be taken to handle the missing data?* \n",
    "\n",
    "**Ans-13**\n",
    "\n",
    "The steps taken by me to handle missing data  will be to first clean the data by dropping the features having >1K missing values, then i will  fill the missing values in the remaining columns with the mean of their respective features and then i will verify that there are no missing values left in the data."
   ]
  },
  {
   "cell_type": "code",
   "execution_count": 96,
   "metadata": {
    "colab": {
     "base_uri": "https://localhost:8080/",
     "height": 34
    },
    "colab_type": "code",
    "id": "gH7XCfwzGAxm",
    "outputId": "11da02c9-0386-44a1-ad03-c0164223515f"
   },
   "outputs": [
    {
     "data": {
      "text/plain": [
       "(180212, 53)"
      ]
     },
     "execution_count": 96,
     "metadata": {
      "tags": []
     },
     "output_type": "execute_result"
    }
   ],
   "source": [
    "# I found 6 features with missing values greater than 1000 and i will drop these columns\n",
    "\n",
    "data_cleaned = data.drop([\"ps_ind_05_cat\",\"ps_reg_03\",\"ps_car_03_cat\",\"ps_car_05_cat\",\"ps_car_07_cat\",\"ps_car_14\"],axis=1)\n",
    "data_cleaned.shape"
   ]
  },
  {
   "cell_type": "code",
   "execution_count": 97,
   "metadata": {
    "colab": {
     "base_uri": "https://localhost:8080/",
     "height": 34
    },
    "colab_type": "code",
    "id": "XEa6JVzOTvKG",
    "outputId": "47110dc7-d9d5-4ac9-d297-454b10eebabd"
   },
   "outputs": [
    {
     "data": {
      "text/plain": [
       "Series([], dtype: int64)"
      ]
     },
     "execution_count": 97,
     "metadata": {
      "tags": []
     },
     "output_type": "execute_result"
    }
   ],
   "source": [
    "# Filling the missing values with mean of their respective features.\n",
    "data_cleaned.fillna(data_cleaned.mean(), inplace=True)\n",
    "\n",
    "# Checking that is there any missing values remaining in the data\n",
    "disp_MV_features(data_cleaned)"
   ]
  },
  {
   "cell_type": "markdown",
   "metadata": {
    "colab_type": "text",
    "id": "x-SXsfdiGQnN"
   },
   "source": [
    "As there are no columns shown above, it means now there are no missing values remaining in the data. \n"
   ]
  },
  {
   "cell_type": "code",
   "execution_count": 98,
   "metadata": {
    "colab": {
     "base_uri": "https://localhost:8080/",
     "height": 317
    },
    "colab_type": "code",
    "id": "55rvj0ryNWY3",
    "outputId": "aa913fca-7234-4abd-9d50-2bcbb5bebbcd"
   },
   "outputs": [
    {
     "data": {
      "text/html": [
       "<div>\n",
       "<style scoped>\n",
       "    .dataframe tbody tr th:only-of-type {\n",
       "        vertical-align: middle;\n",
       "    }\n",
       "\n",
       "    .dataframe tbody tr th {\n",
       "        vertical-align: top;\n",
       "    }\n",
       "\n",
       "    .dataframe thead th {\n",
       "        text-align: right;\n",
       "    }\n",
       "</style>\n",
       "<table border=\"1\" class=\"dataframe\">\n",
       "  <thead>\n",
       "    <tr style=\"text-align: right;\">\n",
       "      <th></th>\n",
       "      <th>target</th>\n",
       "      <th>ps_ind_01</th>\n",
       "      <th>ps_ind_02_cat</th>\n",
       "      <th>ps_ind_03</th>\n",
       "      <th>ps_ind_04_cat</th>\n",
       "      <th>ps_ind_06_bin</th>\n",
       "      <th>ps_ind_07_bin</th>\n",
       "      <th>ps_ind_08_bin</th>\n",
       "      <th>ps_ind_09_bin</th>\n",
       "      <th>ps_ind_10_bin</th>\n",
       "      <th>ps_ind_11_bin</th>\n",
       "      <th>ps_ind_12_bin</th>\n",
       "      <th>ps_ind_13_bin</th>\n",
       "      <th>ps_ind_14</th>\n",
       "      <th>ps_ind_15</th>\n",
       "      <th>ps_ind_16_bin</th>\n",
       "      <th>ps_ind_17_bin</th>\n",
       "      <th>ps_ind_18_bin</th>\n",
       "      <th>ps_reg_01</th>\n",
       "      <th>ps_reg_02</th>\n",
       "      <th>ps_car_01_cat</th>\n",
       "      <th>ps_car_02_cat</th>\n",
       "      <th>ps_car_04_cat</th>\n",
       "      <th>ps_car_06_cat</th>\n",
       "      <th>ps_car_08_cat</th>\n",
       "      <th>ps_car_09_cat</th>\n",
       "      <th>ps_car_10_cat</th>\n",
       "      <th>ps_car_11_cat</th>\n",
       "      <th>ps_car_11</th>\n",
       "      <th>ps_car_12</th>\n",
       "      <th>ps_car_13</th>\n",
       "      <th>ps_car_15</th>\n",
       "      <th>ps_calc_01</th>\n",
       "      <th>ps_calc_02</th>\n",
       "      <th>ps_calc_03</th>\n",
       "      <th>ps_calc_04</th>\n",
       "      <th>ps_calc_05</th>\n",
       "      <th>ps_calc_06</th>\n",
       "      <th>ps_calc_07</th>\n",
       "      <th>ps_calc_08</th>\n",
       "      <th>ps_calc_09</th>\n",
       "      <th>ps_calc_10</th>\n",
       "      <th>ps_calc_11</th>\n",
       "      <th>ps_calc_12</th>\n",
       "      <th>ps_calc_13</th>\n",
       "      <th>ps_calc_14</th>\n",
       "      <th>ps_calc_15_bin</th>\n",
       "      <th>ps_calc_16_bin</th>\n",
       "      <th>ps_calc_17_bin</th>\n",
       "      <th>ps_calc_18_bin</th>\n",
       "      <th>ps_calc_19_bin</th>\n",
       "      <th>ps_calc_20_bin</th>\n",
       "    </tr>\n",
       "  </thead>\n",
       "  <tbody>\n",
       "    <tr>\n",
       "      <th>count</th>\n",
       "      <td>180212.000000</td>\n",
       "      <td>180212.000000</td>\n",
       "      <td>180212.000000</td>\n",
       "      <td>180212.000000</td>\n",
       "      <td>180212.000000</td>\n",
       "      <td>180212.000000</td>\n",
       "      <td>180212.000000</td>\n",
       "      <td>180212.000000</td>\n",
       "      <td>180212.00000</td>\n",
       "      <td>180212.000000</td>\n",
       "      <td>180212.000000</td>\n",
       "      <td>180212.000000</td>\n",
       "      <td>180212.000000</td>\n",
       "      <td>180212.000000</td>\n",
       "      <td>180212.000000</td>\n",
       "      <td>180212.000000</td>\n",
       "      <td>180212.000000</td>\n",
       "      <td>180212.000000</td>\n",
       "      <td>180212.000000</td>\n",
       "      <td>180212.000000</td>\n",
       "      <td>180212.000000</td>\n",
       "      <td>180212.000000</td>\n",
       "      <td>180212.000000</td>\n",
       "      <td>180212.000000</td>\n",
       "      <td>180212.000000</td>\n",
       "      <td>180212.000000</td>\n",
       "      <td>180212.000000</td>\n",
       "      <td>180212.000000</td>\n",
       "      <td>180212.000000</td>\n",
       "      <td>180212.000000</td>\n",
       "      <td>180212.000000</td>\n",
       "      <td>180212.000000</td>\n",
       "      <td>180212.000000</td>\n",
       "      <td>180212.000000</td>\n",
       "      <td>180212.000000</td>\n",
       "      <td>180212.000000</td>\n",
       "      <td>180212.000000</td>\n",
       "      <td>180212.000000</td>\n",
       "      <td>180212.000000</td>\n",
       "      <td>180212.000000</td>\n",
       "      <td>180212.000000</td>\n",
       "      <td>180212.000000</td>\n",
       "      <td>180212.000000</td>\n",
       "      <td>180212.000000</td>\n",
       "      <td>180212.000000</td>\n",
       "      <td>180212.000000</td>\n",
       "      <td>180212.000000</td>\n",
       "      <td>180212.000000</td>\n",
       "      <td>180212.000000</td>\n",
       "      <td>180212.000000</td>\n",
       "      <td>180212.000000</td>\n",
       "      <td>180212.000000</td>\n",
       "    </tr>\n",
       "    <tr>\n",
       "      <th>mean</th>\n",
       "      <td>0.120380</td>\n",
       "      <td>1.916865</td>\n",
       "      <td>1.360197</td>\n",
       "      <td>4.430954</td>\n",
       "      <td>0.418584</td>\n",
       "      <td>0.386800</td>\n",
       "      <td>0.264461</td>\n",
       "      <td>0.166260</td>\n",
       "      <td>0.18248</td>\n",
       "      <td>0.000449</td>\n",
       "      <td>0.001765</td>\n",
       "      <td>0.009927</td>\n",
       "      <td>0.000982</td>\n",
       "      <td>0.013123</td>\n",
       "      <td>7.254866</td>\n",
       "      <td>0.654635</td>\n",
       "      <td>0.125896</td>\n",
       "      <td>0.154723</td>\n",
       "      <td>0.613638</td>\n",
       "      <td>0.444545</td>\n",
       "      <td>8.322389</td>\n",
       "      <td>0.825050</td>\n",
       "      <td>0.759483</td>\n",
       "      <td>6.585033</td>\n",
       "      <td>0.828779</td>\n",
       "      <td>1.332931</td>\n",
       "      <td>0.992198</td>\n",
       "      <td>62.426675</td>\n",
       "      <td>2.344807</td>\n",
       "      <td>0.381141</td>\n",
       "      <td>0.818887</td>\n",
       "      <td>3.075143</td>\n",
       "      <td>0.449892</td>\n",
       "      <td>0.450787</td>\n",
       "      <td>0.449563</td>\n",
       "      <td>2.371141</td>\n",
       "      <td>1.885479</td>\n",
       "      <td>7.687895</td>\n",
       "      <td>3.005399</td>\n",
       "      <td>9.223442</td>\n",
       "      <td>2.343767</td>\n",
       "      <td>8.433262</td>\n",
       "      <td>5.437468</td>\n",
       "      <td>1.440026</td>\n",
       "      <td>2.879187</td>\n",
       "      <td>7.540236</td>\n",
       "      <td>0.122822</td>\n",
       "      <td>0.627444</td>\n",
       "      <td>0.554181</td>\n",
       "      <td>0.288116</td>\n",
       "      <td>0.349111</td>\n",
       "      <td>0.154318</td>\n",
       "    </tr>\n",
       "    <tr>\n",
       "      <th>std</th>\n",
       "      <td>0.325407</td>\n",
       "      <td>1.991793</td>\n",
       "      <td>0.663335</td>\n",
       "      <td>2.704831</td>\n",
       "      <td>0.493260</td>\n",
       "      <td>0.487019</td>\n",
       "      <td>0.441047</td>\n",
       "      <td>0.372315</td>\n",
       "      <td>0.38624</td>\n",
       "      <td>0.021196</td>\n",
       "      <td>0.041970</td>\n",
       "      <td>0.099140</td>\n",
       "      <td>0.031324</td>\n",
       "      <td>0.131452</td>\n",
       "      <td>3.550863</td>\n",
       "      <td>0.475489</td>\n",
       "      <td>0.331733</td>\n",
       "      <td>0.361642</td>\n",
       "      <td>0.286989</td>\n",
       "      <td>0.407536</td>\n",
       "      <td>2.510207</td>\n",
       "      <td>0.379925</td>\n",
       "      <td>2.201082</td>\n",
       "      <td>5.504273</td>\n",
       "      <td>0.376703</td>\n",
       "      <td>0.974720</td>\n",
       "      <td>0.090899</td>\n",
       "      <td>33.036358</td>\n",
       "      <td>0.835448</td>\n",
       "      <td>0.058860</td>\n",
       "      <td>0.228882</td>\n",
       "      <td>0.723562</td>\n",
       "      <td>0.287223</td>\n",
       "      <td>0.286557</td>\n",
       "      <td>0.286845</td>\n",
       "      <td>1.116427</td>\n",
       "      <td>1.135919</td>\n",
       "      <td>1.334364</td>\n",
       "      <td>1.418511</td>\n",
       "      <td>1.458129</td>\n",
       "      <td>1.248589</td>\n",
       "      <td>2.901471</td>\n",
       "      <td>2.337498</td>\n",
       "      <td>1.202935</td>\n",
       "      <td>1.699807</td>\n",
       "      <td>2.753813</td>\n",
       "      <td>0.328234</td>\n",
       "      <td>0.483487</td>\n",
       "      <td>0.497057</td>\n",
       "      <td>0.452887</td>\n",
       "      <td>0.476690</td>\n",
       "      <td>0.361255</td>\n",
       "    </tr>\n",
       "    <tr>\n",
       "      <th>min</th>\n",
       "      <td>0.000000</td>\n",
       "      <td>0.000000</td>\n",
       "      <td>1.000000</td>\n",
       "      <td>0.000000</td>\n",
       "      <td>0.000000</td>\n",
       "      <td>0.000000</td>\n",
       "      <td>0.000000</td>\n",
       "      <td>0.000000</td>\n",
       "      <td>0.00000</td>\n",
       "      <td>0.000000</td>\n",
       "      <td>0.000000</td>\n",
       "      <td>0.000000</td>\n",
       "      <td>0.000000</td>\n",
       "      <td>0.000000</td>\n",
       "      <td>0.000000</td>\n",
       "      <td>0.000000</td>\n",
       "      <td>0.000000</td>\n",
       "      <td>0.000000</td>\n",
       "      <td>0.000000</td>\n",
       "      <td>0.000000</td>\n",
       "      <td>0.000000</td>\n",
       "      <td>0.000000</td>\n",
       "      <td>0.000000</td>\n",
       "      <td>0.000000</td>\n",
       "      <td>0.000000</td>\n",
       "      <td>0.000000</td>\n",
       "      <td>0.000000</td>\n",
       "      <td>1.000000</td>\n",
       "      <td>0.000000</td>\n",
       "      <td>0.100000</td>\n",
       "      <td>0.308723</td>\n",
       "      <td>0.000000</td>\n",
       "      <td>0.000000</td>\n",
       "      <td>0.000000</td>\n",
       "      <td>0.000000</td>\n",
       "      <td>0.000000</td>\n",
       "      <td>0.000000</td>\n",
       "      <td>1.000000</td>\n",
       "      <td>0.000000</td>\n",
       "      <td>2.000000</td>\n",
       "      <td>0.000000</td>\n",
       "      <td>0.000000</td>\n",
       "      <td>0.000000</td>\n",
       "      <td>0.000000</td>\n",
       "      <td>0.000000</td>\n",
       "      <td>0.000000</td>\n",
       "      <td>0.000000</td>\n",
       "      <td>0.000000</td>\n",
       "      <td>0.000000</td>\n",
       "      <td>0.000000</td>\n",
       "      <td>0.000000</td>\n",
       "      <td>0.000000</td>\n",
       "    </tr>\n",
       "    <tr>\n",
       "      <th>25%</th>\n",
       "      <td>0.000000</td>\n",
       "      <td>0.000000</td>\n",
       "      <td>1.000000</td>\n",
       "      <td>2.000000</td>\n",
       "      <td>0.000000</td>\n",
       "      <td>0.000000</td>\n",
       "      <td>0.000000</td>\n",
       "      <td>0.000000</td>\n",
       "      <td>0.00000</td>\n",
       "      <td>0.000000</td>\n",
       "      <td>0.000000</td>\n",
       "      <td>0.000000</td>\n",
       "      <td>0.000000</td>\n",
       "      <td>0.000000</td>\n",
       "      <td>5.000000</td>\n",
       "      <td>0.000000</td>\n",
       "      <td>0.000000</td>\n",
       "      <td>0.000000</td>\n",
       "      <td>0.400000</td>\n",
       "      <td>0.200000</td>\n",
       "      <td>7.000000</td>\n",
       "      <td>1.000000</td>\n",
       "      <td>0.000000</td>\n",
       "      <td>1.000000</td>\n",
       "      <td>1.000000</td>\n",
       "      <td>0.000000</td>\n",
       "      <td>1.000000</td>\n",
       "      <td>32.000000</td>\n",
       "      <td>2.000000</td>\n",
       "      <td>0.316228</td>\n",
       "      <td>0.673955</td>\n",
       "      <td>2.828427</td>\n",
       "      <td>0.200000</td>\n",
       "      <td>0.200000</td>\n",
       "      <td>0.200000</td>\n",
       "      <td>2.000000</td>\n",
       "      <td>1.000000</td>\n",
       "      <td>7.000000</td>\n",
       "      <td>2.000000</td>\n",
       "      <td>8.000000</td>\n",
       "      <td>1.000000</td>\n",
       "      <td>6.000000</td>\n",
       "      <td>4.000000</td>\n",
       "      <td>1.000000</td>\n",
       "      <td>2.000000</td>\n",
       "      <td>6.000000</td>\n",
       "      <td>0.000000</td>\n",
       "      <td>0.000000</td>\n",
       "      <td>0.000000</td>\n",
       "      <td>0.000000</td>\n",
       "      <td>0.000000</td>\n",
       "      <td>0.000000</td>\n",
       "    </tr>\n",
       "    <tr>\n",
       "      <th>50%</th>\n",
       "      <td>0.000000</td>\n",
       "      <td>1.000000</td>\n",
       "      <td>1.000000</td>\n",
       "      <td>4.000000</td>\n",
       "      <td>0.000000</td>\n",
       "      <td>0.000000</td>\n",
       "      <td>0.000000</td>\n",
       "      <td>0.000000</td>\n",
       "      <td>0.00000</td>\n",
       "      <td>0.000000</td>\n",
       "      <td>0.000000</td>\n",
       "      <td>0.000000</td>\n",
       "      <td>0.000000</td>\n",
       "      <td>0.000000</td>\n",
       "      <td>7.000000</td>\n",
       "      <td>1.000000</td>\n",
       "      <td>0.000000</td>\n",
       "      <td>0.000000</td>\n",
       "      <td>0.700000</td>\n",
       "      <td>0.300000</td>\n",
       "      <td>7.000000</td>\n",
       "      <td>1.000000</td>\n",
       "      <td>0.000000</td>\n",
       "      <td>7.000000</td>\n",
       "      <td>1.000000</td>\n",
       "      <td>2.000000</td>\n",
       "      <td>1.000000</td>\n",
       "      <td>65.000000</td>\n",
       "      <td>3.000000</td>\n",
       "      <td>0.374166</td>\n",
       "      <td>0.769217</td>\n",
       "      <td>3.316625</td>\n",
       "      <td>0.400000</td>\n",
       "      <td>0.500000</td>\n",
       "      <td>0.400000</td>\n",
       "      <td>2.000000</td>\n",
       "      <td>2.000000</td>\n",
       "      <td>8.000000</td>\n",
       "      <td>3.000000</td>\n",
       "      <td>9.000000</td>\n",
       "      <td>2.000000</td>\n",
       "      <td>8.000000</td>\n",
       "      <td>5.000000</td>\n",
       "      <td>1.000000</td>\n",
       "      <td>3.000000</td>\n",
       "      <td>7.000000</td>\n",
       "      <td>0.000000</td>\n",
       "      <td>1.000000</td>\n",
       "      <td>1.000000</td>\n",
       "      <td>0.000000</td>\n",
       "      <td>0.000000</td>\n",
       "      <td>0.000000</td>\n",
       "    </tr>\n",
       "    <tr>\n",
       "      <th>75%</th>\n",
       "      <td>0.000000</td>\n",
       "      <td>3.000000</td>\n",
       "      <td>2.000000</td>\n",
       "      <td>6.000000</td>\n",
       "      <td>1.000000</td>\n",
       "      <td>1.000000</td>\n",
       "      <td>1.000000</td>\n",
       "      <td>0.000000</td>\n",
       "      <td>0.00000</td>\n",
       "      <td>0.000000</td>\n",
       "      <td>0.000000</td>\n",
       "      <td>0.000000</td>\n",
       "      <td>0.000000</td>\n",
       "      <td>0.000000</td>\n",
       "      <td>10.000000</td>\n",
       "      <td>1.000000</td>\n",
       "      <td>0.000000</td>\n",
       "      <td>0.000000</td>\n",
       "      <td>0.900000</td>\n",
       "      <td>0.600000</td>\n",
       "      <td>11.000000</td>\n",
       "      <td>1.000000</td>\n",
       "      <td>0.000000</td>\n",
       "      <td>11.000000</td>\n",
       "      <td>1.000000</td>\n",
       "      <td>2.000000</td>\n",
       "      <td>1.000000</td>\n",
       "      <td>94.000000</td>\n",
       "      <td>3.000000</td>\n",
       "      <td>0.408412</td>\n",
       "      <td>0.913681</td>\n",
       "      <td>3.605551</td>\n",
       "      <td>0.700000</td>\n",
       "      <td>0.700000</td>\n",
       "      <td>0.700000</td>\n",
       "      <td>3.000000</td>\n",
       "      <td>3.000000</td>\n",
       "      <td>9.000000</td>\n",
       "      <td>4.000000</td>\n",
       "      <td>10.000000</td>\n",
       "      <td>3.000000</td>\n",
       "      <td>10.000000</td>\n",
       "      <td>7.000000</td>\n",
       "      <td>2.000000</td>\n",
       "      <td>4.000000</td>\n",
       "      <td>9.000000</td>\n",
       "      <td>0.000000</td>\n",
       "      <td>1.000000</td>\n",
       "      <td>1.000000</td>\n",
       "      <td>1.000000</td>\n",
       "      <td>1.000000</td>\n",
       "      <td>0.000000</td>\n",
       "    </tr>\n",
       "    <tr>\n",
       "      <th>max</th>\n",
       "      <td>1.000000</td>\n",
       "      <td>7.000000</td>\n",
       "      <td>4.000000</td>\n",
       "      <td>11.000000</td>\n",
       "      <td>1.000000</td>\n",
       "      <td>1.000000</td>\n",
       "      <td>1.000000</td>\n",
       "      <td>1.000000</td>\n",
       "      <td>1.00000</td>\n",
       "      <td>1.000000</td>\n",
       "      <td>1.000000</td>\n",
       "      <td>1.000000</td>\n",
       "      <td>1.000000</td>\n",
       "      <td>4.000000</td>\n",
       "      <td>13.000000</td>\n",
       "      <td>1.000000</td>\n",
       "      <td>1.000000</td>\n",
       "      <td>1.000000</td>\n",
       "      <td>0.900000</td>\n",
       "      <td>1.800000</td>\n",
       "      <td>11.000000</td>\n",
       "      <td>1.000000</td>\n",
       "      <td>9.000000</td>\n",
       "      <td>17.000000</td>\n",
       "      <td>1.000000</td>\n",
       "      <td>4.000000</td>\n",
       "      <td>2.000000</td>\n",
       "      <td>104.000000</td>\n",
       "      <td>3.000000</td>\n",
       "      <td>1.264911</td>\n",
       "      <td>3.720626</td>\n",
       "      <td>3.741657</td>\n",
       "      <td>0.900000</td>\n",
       "      <td>0.900000</td>\n",
       "      <td>0.900000</td>\n",
       "      <td>5.000000</td>\n",
       "      <td>6.000000</td>\n",
       "      <td>10.000000</td>\n",
       "      <td>9.000000</td>\n",
       "      <td>12.000000</td>\n",
       "      <td>7.000000</td>\n",
       "      <td>23.000000</td>\n",
       "      <td>18.000000</td>\n",
       "      <td>10.000000</td>\n",
       "      <td>13.000000</td>\n",
       "      <td>22.000000</td>\n",
       "      <td>1.000000</td>\n",
       "      <td>1.000000</td>\n",
       "      <td>1.000000</td>\n",
       "      <td>1.000000</td>\n",
       "      <td>1.000000</td>\n",
       "      <td>1.000000</td>\n",
       "    </tr>\n",
       "  </tbody>\n",
       "</table>\n",
       "</div>"
      ],
      "text/plain": [
       "              target      ps_ind_01  ...  ps_calc_19_bin  ps_calc_20_bin\n",
       "count  180212.000000  180212.000000  ...   180212.000000   180212.000000\n",
       "mean        0.120380       1.916865  ...        0.349111        0.154318\n",
       "std         0.325407       1.991793  ...        0.476690        0.361255\n",
       "min         0.000000       0.000000  ...        0.000000        0.000000\n",
       "25%         0.000000       0.000000  ...        0.000000        0.000000\n",
       "50%         0.000000       1.000000  ...        0.000000        0.000000\n",
       "75%         0.000000       3.000000  ...        1.000000        0.000000\n",
       "max         1.000000       7.000000  ...        1.000000        1.000000\n",
       "\n",
       "[8 rows x 52 columns]"
      ]
     },
     "execution_count": 98,
     "metadata": {
      "tags": []
     },
     "output_type": "execute_result"
    }
   ],
   "source": [
    "# Dropping the id column as it is not required at all\n",
    "data_features = data_cleaned.drop([\"id\"],axis=1)\n",
    "data_features.describe()"
   ]
  },
  {
   "cell_type": "markdown",
   "metadata": {
    "colab_type": "text",
    "id": "iGP9zRHuaUr-"
   },
   "source": [
    "**Q-1** *Write at least 3 important inferences from the data above*\n",
    "\n",
    "**Ans-1**\n",
    "\n",
    "The 3 important inferences from the data above are :-\n",
    "\n",
    "1.) The number of people who took an insurance claim is only 3.64% out of a data of approx. 60,000 people.\n",
    "\n",
    "2.) Most of the variables are binary, and in those variables value is zero in most cases as can be infered from the mean.\n",
    "\n",
    "3.) There are many features in the data having such huge imbalance in them that the minority class is so small that it is not even visible in the histogram of those features.\n"
   ]
  },
  {
   "cell_type": "code",
   "execution_count": 99,
   "metadata": {
    "colab": {
     "base_uri": "https://localhost:8080/",
     "height": 1000
    },
    "colab_type": "code",
    "id": "ZC_rPcthNWRZ",
    "outputId": "880a88ca-27ce-48e7-e230-fd4392d7699e"
   },
   "outputs": [
    {
     "data": {
      "text/plain": [
       "array([[<matplotlib.axes._subplots.AxesSubplot object at 0x7fbd633ad748>,\n",
       "        <matplotlib.axes._subplots.AxesSubplot object at 0x7fbd633617f0>,\n",
       "        <matplotlib.axes._subplots.AxesSubplot object at 0x7fbd6331aa58>,\n",
       "        <matplotlib.axes._subplots.AxesSubplot object at 0x7fbd632c8cc0>,\n",
       "        <matplotlib.axes._subplots.AxesSubplot object at 0x7fbd632f8f28>,\n",
       "        <matplotlib.axes._subplots.AxesSubplot object at 0x7fbd632b51d0>,\n",
       "        <matplotlib.axes._subplots.AxesSubplot object at 0x7fbd63266438>],\n",
       "       [<matplotlib.axes._subplots.AxesSubplot object at 0x7fbd633ab940>,\n",
       "        <matplotlib.axes._subplots.AxesSubplot object at 0x7fbd633ab710>,\n",
       "        <matplotlib.axes._subplots.AxesSubplot object at 0x7fbd78c07f60>,\n",
       "        <matplotlib.axes._subplots.AxesSubplot object at 0x7fbd78b3f780>,\n",
       "        <matplotlib.axes._subplots.AxesSubplot object at 0x7fbd78bb0128>,\n",
       "        <matplotlib.axes._subplots.AxesSubplot object at 0x7fbd78b03b70>,\n",
       "        <matplotlib.axes._subplots.AxesSubplot object at 0x7fbd7a8f1d30>],\n",
       "       [<matplotlib.axes._subplots.AxesSubplot object at 0x7fbd7a920978>,\n",
       "        <matplotlib.axes._subplots.AxesSubplot object at 0x7fbd78bf27f0>,\n",
       "        <matplotlib.axes._subplots.AxesSubplot object at 0x7fbd78b35a58>,\n",
       "        <matplotlib.axes._subplots.AxesSubplot object at 0x7fbd90455cc0>,\n",
       "        <matplotlib.axes._subplots.AxesSubplot object at 0x7fbd78c0df28>,\n",
       "        <matplotlib.axes._subplots.AxesSubplot object at 0x7fbd78b52908>,\n",
       "        <matplotlib.axes._subplots.AxesSubplot object at 0x7fbd78b77438>],\n",
       "       [<matplotlib.axes._subplots.AxesSubplot object at 0x7fbd632366a0>,\n",
       "        <matplotlib.axes._subplots.AxesSubplot object at 0x7fbd631eb908>,\n",
       "        <matplotlib.axes._subplots.AxesSubplot object at 0x7fbd6319fb70>,\n",
       "        <matplotlib.axes._subplots.AxesSubplot object at 0x7fbd63154dd8>,\n",
       "        <matplotlib.axes._subplots.AxesSubplot object at 0x7fbd63116080>,\n",
       "        <matplotlib.axes._subplots.AxesSubplot object at 0x7fbd631472e8>,\n",
       "        <matplotlib.axes._subplots.AxesSubplot object at 0x7fbd630fb550>],\n",
       "       [<matplotlib.axes._subplots.AxesSubplot object at 0x7fbd630ad7b8>,\n",
       "        <matplotlib.axes._subplots.AxesSubplot object at 0x7fbd63063a20>,\n",
       "        <matplotlib.axes._subplots.AxesSubplot object at 0x7fbd63018c88>,\n",
       "        <matplotlib.axes._subplots.AxesSubplot object at 0x7fbd62fccef0>,\n",
       "        <matplotlib.axes._subplots.AxesSubplot object at 0x7fbd62f8b198>,\n",
       "        <matplotlib.axes._subplots.AxesSubplot object at 0x7fbd62fbf400>,\n",
       "        <matplotlib.axes._subplots.AxesSubplot object at 0x7fbd62f74668>],\n",
       "       [<matplotlib.axes._subplots.AxesSubplot object at 0x7fbd62f278d0>,\n",
       "        <matplotlib.axes._subplots.AxesSubplot object at 0x7fbd62edab38>,\n",
       "        <matplotlib.axes._subplots.AxesSubplot object at 0x7fbd62e97390>,\n",
       "        <matplotlib.axes._subplots.AxesSubplot object at 0x7fbd62e49710>,\n",
       "        <matplotlib.axes._subplots.AxesSubplot object at 0x7fbd62e7ba90>,\n",
       "        <matplotlib.axes._subplots.AxesSubplot object at 0x7fbd62e2be10>,\n",
       "        <matplotlib.axes._subplots.AxesSubplot object at 0x7fbd62dea1d0>],\n",
       "       [<matplotlib.axes._subplots.AxesSubplot object at 0x7fbd62d9e550>,\n",
       "        <matplotlib.axes._subplots.AxesSubplot object at 0x7fbd62d4d8d0>,\n",
       "        <matplotlib.axes._subplots.AxesSubplot object at 0x7fbd62d81c50>,\n",
       "        <matplotlib.axes._subplots.AxesSubplot object at 0x7fbd62d34fd0>,\n",
       "        <matplotlib.axes._subplots.AxesSubplot object at 0x7fbd62cf1390>,\n",
       "        <matplotlib.axes._subplots.AxesSubplot object at 0x7fbd62ca4710>,\n",
       "        <matplotlib.axes._subplots.AxesSubplot object at 0x7fbd62c57a90>],\n",
       "       [<matplotlib.axes._subplots.AxesSubplot object at 0x7fbd62c09e10>,\n",
       "        <matplotlib.axes._subplots.AxesSubplot object at 0x7fbd62bc81d0>,\n",
       "        <matplotlib.axes._subplots.AxesSubplot object at 0x7fbd62bfb550>,\n",
       "        <matplotlib.axes._subplots.AxesSubplot object at 0x7fbd62bad8d0>,\n",
       "        <matplotlib.axes._subplots.AxesSubplot object at 0x7fbd62b5dc50>,\n",
       "        <matplotlib.axes._subplots.AxesSubplot object at 0x7fbd62b10fd0>,\n",
       "        <matplotlib.axes._subplots.AxesSubplot object at 0x7fbd62ace390>]],\n",
       "      dtype=object)"
      ]
     },
     "execution_count": 99,
     "metadata": {
      "tags": []
     },
     "output_type": "execute_result"
    },
    {
     "data": {
      "image/png": "[encoded data removed]",
      "text/plain": [
       "<Figure size 1800x1440 with 56 Axes>"
      ]
     },
     "metadata": {
      "needs_background": "light",
      "tags": []
     },
     "output_type": "display_data"
    }
   ],
   "source": [
    "import matplotlib.pyplot as plt\n",
    "%matplotlib inline\n",
    "\n",
    "data_features.hist(bins=20, figsize=(25,20))"
   ]
  },
  {
   "cell_type": "markdown",
   "metadata": {
    "colab_type": "text",
    "id": "LZzrQ5A63SLQ"
   },
   "source": [
    " *From the histogram plot above, i have infered some features which seem to have huge imbalance as a cause of the random sampling performed on the target feature. these features are [ \"ps_car_10_cat\", \"ps_ind_10_bin\",    \"ps_ind_11_bin\", \"ps_ind_12_bin\", \"ps_ind_13_bin\" , \"ps_ind_14\"]*\n",
    " \n",
    " *I will check the value_counts of these features, and then decide whether to drop these features or not.* "
   ]
  },
  {
   "cell_type": "code",
   "execution_count": 100,
   "metadata": {
    "colab": {},
    "colab_type": "code",
    "id": "TPAwP1s2BPpl"
   },
   "outputs": [],
   "source": [
    "def check_distribution(column):\n",
    "  return data_features[column].value_counts()"
   ]
  },
  {
   "cell_type": "code",
   "execution_count": 101,
   "metadata": {
    "colab": {
     "base_uri": "https://localhost:8080/",
     "height": 85
    },
    "colab_type": "code",
    "id": "75HxnBe3z6Sl",
    "outputId": "e6e9fe65-6e3a-41ca-de29-ed639678e050"
   },
   "outputs": [
    {
     "data": {
      "text/plain": [
       "1    178712\n",
       "0      1453\n",
       "2        47\n",
       "Name: ps_car_10_cat, dtype: int64"
      ]
     },
     "execution_count": 101,
     "metadata": {
      "tags": []
     },
     "output_type": "execute_result"
    }
   ],
   "source": [
    "check_distribution(\"ps_car_10_cat\")  "
   ]
  },
  {
   "cell_type": "code",
   "execution_count": 102,
   "metadata": {
    "colab": {
     "base_uri": "https://localhost:8080/",
     "height": 68
    },
    "colab_type": "code",
    "id": "MTdjRf4A01ai",
    "outputId": "2bf7b853-0618-4bc8-e0de-20dca877cbc8"
   },
   "outputs": [
    {
     "data": {
      "text/plain": [
       "0    180131\n",
       "1        81\n",
       "Name: ps_ind_10_bin, dtype: int64"
      ]
     },
     "execution_count": 102,
     "metadata": {
      "tags": []
     },
     "output_type": "execute_result"
    }
   ],
   "source": [
    "check_distribution(\"ps_ind_10_bin\")"
   ]
  },
  {
   "cell_type": "code",
   "execution_count": 103,
   "metadata": {
    "colab": {
     "base_uri": "https://localhost:8080/",
     "height": 68
    },
    "colab_type": "code",
    "id": "vlAEEB4-1mh-",
    "outputId": "2c1e64fd-85db-4677-f841-bf0f1dcc0939"
   },
   "outputs": [
    {
     "data": {
      "text/plain": [
       "0    179894\n",
       "1       318\n",
       "Name: ps_ind_11_bin, dtype: int64"
      ]
     },
     "execution_count": 103,
     "metadata": {
      "tags": []
     },
     "output_type": "execute_result"
    }
   ],
   "source": [
    "check_distribution(\"ps_ind_11_bin\")"
   ]
  },
  {
   "cell_type": "code",
   "execution_count": 104,
   "metadata": {
    "colab": {
     "base_uri": "https://localhost:8080/",
     "height": 68
    },
    "colab_type": "code",
    "id": "Z0lF9hRL1h7f",
    "outputId": "2a92eb15-cc90-42a2-d36b-fde5a6277afd"
   },
   "outputs": [
    {
     "data": {
      "text/plain": [
       "0    178423\n",
       "1      1789\n",
       "Name: ps_ind_12_bin, dtype: int64"
      ]
     },
     "execution_count": 104,
     "metadata": {
      "tags": []
     },
     "output_type": "execute_result"
    }
   ],
   "source": [
    "check_distribution(\"ps_ind_12_bin\")"
   ]
  },
  {
   "cell_type": "code",
   "execution_count": 105,
   "metadata": {
    "colab": {
     "base_uri": "https://localhost:8080/",
     "height": 68
    },
    "colab_type": "code",
    "id": "IgHKnNp31iFe",
    "outputId": "22bbe940-c8be-49e3-8215-7c82ce785f45"
   },
   "outputs": [
    {
     "data": {
      "text/plain": [
       "0    180035\n",
       "1       177\n",
       "Name: ps_ind_13_bin, dtype: int64"
      ]
     },
     "execution_count": 105,
     "metadata": {
      "tags": []
     },
     "output_type": "execute_result"
    }
   ],
   "source": [
    "check_distribution(\"ps_ind_13_bin\")"
   ]
  },
  {
   "cell_type": "code",
   "execution_count": 106,
   "metadata": {
    "colab": {
     "base_uri": "https://localhost:8080/",
     "height": 119
    },
    "colab_type": "code",
    "id": "oU6Pbexg1hyo",
    "outputId": "db891881-79ff-4fef-a2f3-46cb313e6735"
   },
   "outputs": [
    {
     "data": {
      "text/plain": [
       "0    178183\n",
       "1      1745\n",
       "2       234\n",
       "3        48\n",
       "4         2\n",
       "Name: ps_ind_14, dtype: int64"
      ]
     },
     "execution_count": 106,
     "metadata": {
      "tags": []
     },
     "output_type": "execute_result"
    }
   ],
   "source": [
    "check_distribution(\"ps_ind_14\")"
   ]
  },
  {
   "cell_type": "markdown",
   "metadata": {
    "colab_type": "text",
    "id": "W7UM_t9ICvhW"
   },
   "source": [
    "*I found all the 6 columns to have huge imbalance in them, so i will drop these 6 features.*"
   ]
  },
  {
   "cell_type": "code",
   "execution_count": 107,
   "metadata": {
    "colab": {
     "base_uri": "https://localhost:8080/",
     "height": 34
    },
    "colab_type": "code",
    "id": "4UaiMyYf8EF4",
    "outputId": "29ef320b-8e8e-44e9-c8fc-a93b2a8a5d82"
   },
   "outputs": [
    {
     "data": {
      "text/plain": [
       "(180212, 46)"
      ]
     },
     "execution_count": 107,
     "metadata": {
      "tags": []
     },
     "output_type": "execute_result"
    }
   ],
   "source": [
    "data_features = data_features.drop([\"ps_car_10_cat\",\"ps_ind_10_bin\",\"ps_ind_11_bin\",\"ps_ind_12_bin\",\"ps_ind_13_bin\",\"ps_ind_14\"],axis=1)\n",
    "data_features.shape"
   ]
  },
  {
   "cell_type": "markdown",
   "metadata": {
    "colab_type": "text",
    "id": "Tr0VmMqldyJH"
   },
   "source": [
    "*I am going to classify the dataset into 4 subsets according to their datatypes, namely binary, categorical, interval and ordinal.*"
   ]
  },
  {
   "cell_type": "code",
   "execution_count": 108,
   "metadata": {
    "colab": {},
    "colab_type": "code",
    "id": "M1cWXhezBR-U"
   },
   "outputs": [],
   "source": [
    "data = []\n",
    "\n",
    "for f in data_features.columns:         \n",
    "    # Defining the level\n",
    "    if 'bin' in f or f == 'target':\n",
    "        level = 'binary'\n",
    "    elif 'cat' in f:\n",
    "        level = 'categorical'\n",
    "    elif data_features[f].dtype == float:\n",
    "        level = 'interval'\n",
    "    elif data_features[f].dtype == int:\n",
    "        level = 'ordinal'\n",
    "    \n",
    "    # Defining the data type \n",
    "    dtype = data_features[f].dtype\n",
    "    \n",
    "    # Creating a Dict that contains all the metadata for the variable\n",
    "    f_dict = {\n",
    "        'varname': f,\n",
    "        'level': level,\n",
    "        'dtype': dtype\n",
    "    }\n",
    "    data.append(f_dict)\n",
    "    \n",
    "meta = pd.DataFrame(data, columns=['varname',  'level',  'dtype'])\n",
    "meta.set_index('varname', inplace=True)"
   ]
  },
  {
   "cell_type": "code",
   "execution_count": 109,
   "metadata": {
    "colab": {
     "base_uri": "https://localhost:8080/",
     "height": 1000
    },
    "colab_type": "code",
    "id": "jDZZxPcwCSMv",
    "outputId": "a720e370-ebfb-4193-ce8c-0e98dfc0b6e3"
   },
   "outputs": [
    {
     "data": {
      "text/html": [
       "<div>\n",
       "<style scoped>\n",
       "    .dataframe tbody tr th:only-of-type {\n",
       "        vertical-align: middle;\n",
       "    }\n",
       "\n",
       "    .dataframe tbody tr th {\n",
       "        vertical-align: top;\n",
       "    }\n",
       "\n",
       "    .dataframe thead th {\n",
       "        text-align: right;\n",
       "    }\n",
       "</style>\n",
       "<table border=\"1\" class=\"dataframe\">\n",
       "  <thead>\n",
       "    <tr style=\"text-align: right;\">\n",
       "      <th></th>\n",
       "      <th>level</th>\n",
       "      <th>dtype</th>\n",
       "    </tr>\n",
       "    <tr>\n",
       "      <th>varname</th>\n",
       "      <th></th>\n",
       "      <th></th>\n",
       "    </tr>\n",
       "  </thead>\n",
       "  <tbody>\n",
       "    <tr>\n",
       "      <th>target</th>\n",
       "      <td>binary</td>\n",
       "      <td>int64</td>\n",
       "    </tr>\n",
       "    <tr>\n",
       "      <th>ps_ind_01</th>\n",
       "      <td>ordinal</td>\n",
       "      <td>int64</td>\n",
       "    </tr>\n",
       "    <tr>\n",
       "      <th>ps_ind_02_cat</th>\n",
       "      <td>categorical</td>\n",
       "      <td>float64</td>\n",
       "    </tr>\n",
       "    <tr>\n",
       "      <th>ps_ind_03</th>\n",
       "      <td>ordinal</td>\n",
       "      <td>int64</td>\n",
       "    </tr>\n",
       "    <tr>\n",
       "      <th>ps_ind_04_cat</th>\n",
       "      <td>categorical</td>\n",
       "      <td>float64</td>\n",
       "    </tr>\n",
       "    <tr>\n",
       "      <th>ps_ind_06_bin</th>\n",
       "      <td>binary</td>\n",
       "      <td>int64</td>\n",
       "    </tr>\n",
       "    <tr>\n",
       "      <th>ps_ind_07_bin</th>\n",
       "      <td>binary</td>\n",
       "      <td>int64</td>\n",
       "    </tr>\n",
       "    <tr>\n",
       "      <th>ps_ind_08_bin</th>\n",
       "      <td>binary</td>\n",
       "      <td>int64</td>\n",
       "    </tr>\n",
       "    <tr>\n",
       "      <th>ps_ind_09_bin</th>\n",
       "      <td>binary</td>\n",
       "      <td>int64</td>\n",
       "    </tr>\n",
       "    <tr>\n",
       "      <th>ps_ind_15</th>\n",
       "      <td>ordinal</td>\n",
       "      <td>int64</td>\n",
       "    </tr>\n",
       "    <tr>\n",
       "      <th>ps_ind_16_bin</th>\n",
       "      <td>binary</td>\n",
       "      <td>int64</td>\n",
       "    </tr>\n",
       "    <tr>\n",
       "      <th>ps_ind_17_bin</th>\n",
       "      <td>binary</td>\n",
       "      <td>int64</td>\n",
       "    </tr>\n",
       "    <tr>\n",
       "      <th>ps_ind_18_bin</th>\n",
       "      <td>binary</td>\n",
       "      <td>int64</td>\n",
       "    </tr>\n",
       "    <tr>\n",
       "      <th>ps_reg_01</th>\n",
       "      <td>interval</td>\n",
       "      <td>float64</td>\n",
       "    </tr>\n",
       "    <tr>\n",
       "      <th>ps_reg_02</th>\n",
       "      <td>interval</td>\n",
       "      <td>float64</td>\n",
       "    </tr>\n",
       "    <tr>\n",
       "      <th>ps_car_01_cat</th>\n",
       "      <td>categorical</td>\n",
       "      <td>float64</td>\n",
       "    </tr>\n",
       "    <tr>\n",
       "      <th>ps_car_02_cat</th>\n",
       "      <td>categorical</td>\n",
       "      <td>int64</td>\n",
       "    </tr>\n",
       "    <tr>\n",
       "      <th>ps_car_04_cat</th>\n",
       "      <td>categorical</td>\n",
       "      <td>int64</td>\n",
       "    </tr>\n",
       "    <tr>\n",
       "      <th>ps_car_06_cat</th>\n",
       "      <td>categorical</td>\n",
       "      <td>int64</td>\n",
       "    </tr>\n",
       "    <tr>\n",
       "      <th>ps_car_08_cat</th>\n",
       "      <td>categorical</td>\n",
       "      <td>int64</td>\n",
       "    </tr>\n",
       "    <tr>\n",
       "      <th>ps_car_09_cat</th>\n",
       "      <td>categorical</td>\n",
       "      <td>float64</td>\n",
       "    </tr>\n",
       "    <tr>\n",
       "      <th>ps_car_11_cat</th>\n",
       "      <td>categorical</td>\n",
       "      <td>int64</td>\n",
       "    </tr>\n",
       "    <tr>\n",
       "      <th>ps_car_11</th>\n",
       "      <td>interval</td>\n",
       "      <td>float64</td>\n",
       "    </tr>\n",
       "    <tr>\n",
       "      <th>ps_car_12</th>\n",
       "      <td>interval</td>\n",
       "      <td>float64</td>\n",
       "    </tr>\n",
       "    <tr>\n",
       "      <th>ps_car_13</th>\n",
       "      <td>interval</td>\n",
       "      <td>float64</td>\n",
       "    </tr>\n",
       "    <tr>\n",
       "      <th>ps_car_15</th>\n",
       "      <td>interval</td>\n",
       "      <td>float64</td>\n",
       "    </tr>\n",
       "    <tr>\n",
       "      <th>ps_calc_01</th>\n",
       "      <td>interval</td>\n",
       "      <td>float64</td>\n",
       "    </tr>\n",
       "    <tr>\n",
       "      <th>ps_calc_02</th>\n",
       "      <td>interval</td>\n",
       "      <td>float64</td>\n",
       "    </tr>\n",
       "    <tr>\n",
       "      <th>ps_calc_03</th>\n",
       "      <td>interval</td>\n",
       "      <td>float64</td>\n",
       "    </tr>\n",
       "    <tr>\n",
       "      <th>ps_calc_04</th>\n",
       "      <td>ordinal</td>\n",
       "      <td>int64</td>\n",
       "    </tr>\n",
       "    <tr>\n",
       "      <th>ps_calc_05</th>\n",
       "      <td>ordinal</td>\n",
       "      <td>int64</td>\n",
       "    </tr>\n",
       "    <tr>\n",
       "      <th>ps_calc_06</th>\n",
       "      <td>ordinal</td>\n",
       "      <td>int64</td>\n",
       "    </tr>\n",
       "    <tr>\n",
       "      <th>ps_calc_07</th>\n",
       "      <td>ordinal</td>\n",
       "      <td>int64</td>\n",
       "    </tr>\n",
       "    <tr>\n",
       "      <th>ps_calc_08</th>\n",
       "      <td>ordinal</td>\n",
       "      <td>int64</td>\n",
       "    </tr>\n",
       "    <tr>\n",
       "      <th>ps_calc_09</th>\n",
       "      <td>ordinal</td>\n",
       "      <td>int64</td>\n",
       "    </tr>\n",
       "    <tr>\n",
       "      <th>ps_calc_10</th>\n",
       "      <td>ordinal</td>\n",
       "      <td>int64</td>\n",
       "    </tr>\n",
       "    <tr>\n",
       "      <th>ps_calc_11</th>\n",
       "      <td>ordinal</td>\n",
       "      <td>int64</td>\n",
       "    </tr>\n",
       "    <tr>\n",
       "      <th>ps_calc_12</th>\n",
       "      <td>ordinal</td>\n",
       "      <td>int64</td>\n",
       "    </tr>\n",
       "    <tr>\n",
       "      <th>ps_calc_13</th>\n",
       "      <td>ordinal</td>\n",
       "      <td>int64</td>\n",
       "    </tr>\n",
       "    <tr>\n",
       "      <th>ps_calc_14</th>\n",
       "      <td>ordinal</td>\n",
       "      <td>int64</td>\n",
       "    </tr>\n",
       "    <tr>\n",
       "      <th>ps_calc_15_bin</th>\n",
       "      <td>binary</td>\n",
       "      <td>int64</td>\n",
       "    </tr>\n",
       "    <tr>\n",
       "      <th>ps_calc_16_bin</th>\n",
       "      <td>binary</td>\n",
       "      <td>int64</td>\n",
       "    </tr>\n",
       "    <tr>\n",
       "      <th>ps_calc_17_bin</th>\n",
       "      <td>binary</td>\n",
       "      <td>int64</td>\n",
       "    </tr>\n",
       "    <tr>\n",
       "      <th>ps_calc_18_bin</th>\n",
       "      <td>binary</td>\n",
       "      <td>int64</td>\n",
       "    </tr>\n",
       "    <tr>\n",
       "      <th>ps_calc_19_bin</th>\n",
       "      <td>binary</td>\n",
       "      <td>int64</td>\n",
       "    </tr>\n",
       "    <tr>\n",
       "      <th>ps_calc_20_bin</th>\n",
       "      <td>binary</td>\n",
       "      <td>int64</td>\n",
       "    </tr>\n",
       "  </tbody>\n",
       "</table>\n",
       "</div>"
      ],
      "text/plain": [
       "                      level    dtype\n",
       "varname                             \n",
       "target               binary    int64\n",
       "ps_ind_01           ordinal    int64\n",
       "ps_ind_02_cat   categorical  float64\n",
       "ps_ind_03           ordinal    int64\n",
       "ps_ind_04_cat   categorical  float64\n",
       "ps_ind_06_bin        binary    int64\n",
       "ps_ind_07_bin        binary    int64\n",
       "ps_ind_08_bin        binary    int64\n",
       "ps_ind_09_bin        binary    int64\n",
       "ps_ind_15           ordinal    int64\n",
       "ps_ind_16_bin        binary    int64\n",
       "ps_ind_17_bin        binary    int64\n",
       "ps_ind_18_bin        binary    int64\n",
       "ps_reg_01          interval  float64\n",
       "ps_reg_02          interval  float64\n",
       "ps_car_01_cat   categorical  float64\n",
       "ps_car_02_cat   categorical    int64\n",
       "ps_car_04_cat   categorical    int64\n",
       "ps_car_06_cat   categorical    int64\n",
       "ps_car_08_cat   categorical    int64\n",
       "ps_car_09_cat   categorical  float64\n",
       "ps_car_11_cat   categorical    int64\n",
       "ps_car_11          interval  float64\n",
       "ps_car_12          interval  float64\n",
       "ps_car_13          interval  float64\n",
       "ps_car_15          interval  float64\n",
       "ps_calc_01         interval  float64\n",
       "ps_calc_02         interval  float64\n",
       "ps_calc_03         interval  float64\n",
       "ps_calc_04          ordinal    int64\n",
       "ps_calc_05          ordinal    int64\n",
       "ps_calc_06          ordinal    int64\n",
       "ps_calc_07          ordinal    int64\n",
       "ps_calc_08          ordinal    int64\n",
       "ps_calc_09          ordinal    int64\n",
       "ps_calc_10          ordinal    int64\n",
       "ps_calc_11          ordinal    int64\n",
       "ps_calc_12          ordinal    int64\n",
       "ps_calc_13          ordinal    int64\n",
       "ps_calc_14          ordinal    int64\n",
       "ps_calc_15_bin       binary    int64\n",
       "ps_calc_16_bin       binary    int64\n",
       "ps_calc_17_bin       binary    int64\n",
       "ps_calc_18_bin       binary    int64\n",
       "ps_calc_19_bin       binary    int64\n",
       "ps_calc_20_bin       binary    int64"
      ]
     },
     "execution_count": 109,
     "metadata": {
      "tags": []
     },
     "output_type": "execute_result"
    }
   ],
   "source": [
    "meta"
   ]
  },
  {
   "cell_type": "code",
   "execution_count": 110,
   "metadata": {
    "colab": {
     "base_uri": "https://localhost:8080/",
     "height": 85
    },
    "colab_type": "code",
    "id": "M8yGZGiOKAQl",
    "outputId": "ff3f04b6-b3f5-46e8-b582-a74bb9c0d2cb"
   },
   "outputs": [
    {
     "name": "stdout",
     "output_type": "stream",
     "text": [
      "the no. of interval features are : 9 \n",
      "the no. of ordinal features are : 14 \n",
      "the no. of binary features are : 14 \n",
      "the no. of categorical  features are : 9 \n"
     ]
    }
   ],
   "source": [
    "bin = meta[(meta.level == 'binary')].index\n",
    "cat = meta[(meta.level == 'categorical')].index\n",
    "inter = meta[(meta.level == 'interval')].index\n",
    "ord =   meta[(meta.level == 'ordinal')].index\n",
    "\n",
    "binary_dataset = data_features[bin]\n",
    "categorical_dataset = data_features[cat]\n",
    "interval_dataset = data_features[inter]\n",
    "ordinal_dataset = data_features[ord]\n",
    "\n",
    "print(\"the no. of interval features are : %d \" %interval_dataset.shape[1])\n",
    "print(\"the no. of ordinal features are : %d \" %ordinal_dataset.shape[1])      \n",
    "print(\"the no. of binary features are : %d \" %binary_dataset.shape[1])\n",
    "print(\"the no. of categorical  features are : %d \" %categorical_dataset.shape[1])"
   ]
  },
  {
   "cell_type": "code",
   "execution_count": 111,
   "metadata": {
    "colab": {
     "base_uri": "https://localhost:8080/",
     "height": 297
    },
    "colab_type": "code",
    "id": "Sss6ezX0Joh5",
    "outputId": "d20aa8d1-743c-452c-e305-47cb0666be70"
   },
   "outputs": [
    {
     "data": {
      "text/html": [
       "<div>\n",
       "<style scoped>\n",
       "    .dataframe tbody tr th:only-of-type {\n",
       "        vertical-align: middle;\n",
       "    }\n",
       "\n",
       "    .dataframe tbody tr th {\n",
       "        vertical-align: top;\n",
       "    }\n",
       "\n",
       "    .dataframe thead th {\n",
       "        text-align: right;\n",
       "    }\n",
       "</style>\n",
       "<table border=\"1\" class=\"dataframe\">\n",
       "  <thead>\n",
       "    <tr style=\"text-align: right;\">\n",
       "      <th></th>\n",
       "      <th>ps_reg_01</th>\n",
       "      <th>ps_reg_02</th>\n",
       "      <th>ps_car_11</th>\n",
       "      <th>ps_car_12</th>\n",
       "      <th>ps_car_13</th>\n",
       "      <th>ps_car_15</th>\n",
       "      <th>ps_calc_01</th>\n",
       "      <th>ps_calc_02</th>\n",
       "      <th>ps_calc_03</th>\n",
       "    </tr>\n",
       "  </thead>\n",
       "  <tbody>\n",
       "    <tr>\n",
       "      <th>count</th>\n",
       "      <td>180212.000000</td>\n",
       "      <td>180212.000000</td>\n",
       "      <td>180212.000000</td>\n",
       "      <td>180212.000000</td>\n",
       "      <td>180212.000000</td>\n",
       "      <td>180212.000000</td>\n",
       "      <td>180212.000000</td>\n",
       "      <td>180212.000000</td>\n",
       "      <td>180212.000000</td>\n",
       "    </tr>\n",
       "    <tr>\n",
       "      <th>mean</th>\n",
       "      <td>0.613638</td>\n",
       "      <td>0.444545</td>\n",
       "      <td>2.344807</td>\n",
       "      <td>0.381141</td>\n",
       "      <td>0.818887</td>\n",
       "      <td>3.075143</td>\n",
       "      <td>0.449892</td>\n",
       "      <td>0.450787</td>\n",
       "      <td>0.449563</td>\n",
       "    </tr>\n",
       "    <tr>\n",
       "      <th>std</th>\n",
       "      <td>0.286989</td>\n",
       "      <td>0.407536</td>\n",
       "      <td>0.835448</td>\n",
       "      <td>0.058860</td>\n",
       "      <td>0.228882</td>\n",
       "      <td>0.723562</td>\n",
       "      <td>0.287223</td>\n",
       "      <td>0.286557</td>\n",
       "      <td>0.286845</td>\n",
       "    </tr>\n",
       "    <tr>\n",
       "      <th>min</th>\n",
       "      <td>0.000000</td>\n",
       "      <td>0.000000</td>\n",
       "      <td>0.000000</td>\n",
       "      <td>0.100000</td>\n",
       "      <td>0.308723</td>\n",
       "      <td>0.000000</td>\n",
       "      <td>0.000000</td>\n",
       "      <td>0.000000</td>\n",
       "      <td>0.000000</td>\n",
       "    </tr>\n",
       "    <tr>\n",
       "      <th>25%</th>\n",
       "      <td>0.400000</td>\n",
       "      <td>0.200000</td>\n",
       "      <td>2.000000</td>\n",
       "      <td>0.316228</td>\n",
       "      <td>0.673955</td>\n",
       "      <td>2.828427</td>\n",
       "      <td>0.200000</td>\n",
       "      <td>0.200000</td>\n",
       "      <td>0.200000</td>\n",
       "    </tr>\n",
       "    <tr>\n",
       "      <th>50%</th>\n",
       "      <td>0.700000</td>\n",
       "      <td>0.300000</td>\n",
       "      <td>3.000000</td>\n",
       "      <td>0.374166</td>\n",
       "      <td>0.769217</td>\n",
       "      <td>3.316625</td>\n",
       "      <td>0.400000</td>\n",
       "      <td>0.500000</td>\n",
       "      <td>0.400000</td>\n",
       "    </tr>\n",
       "    <tr>\n",
       "      <th>75%</th>\n",
       "      <td>0.900000</td>\n",
       "      <td>0.600000</td>\n",
       "      <td>3.000000</td>\n",
       "      <td>0.408412</td>\n",
       "      <td>0.913681</td>\n",
       "      <td>3.605551</td>\n",
       "      <td>0.700000</td>\n",
       "      <td>0.700000</td>\n",
       "      <td>0.700000</td>\n",
       "    </tr>\n",
       "    <tr>\n",
       "      <th>max</th>\n",
       "      <td>0.900000</td>\n",
       "      <td>1.800000</td>\n",
       "      <td>3.000000</td>\n",
       "      <td>1.264911</td>\n",
       "      <td>3.720626</td>\n",
       "      <td>3.741657</td>\n",
       "      <td>0.900000</td>\n",
       "      <td>0.900000</td>\n",
       "      <td>0.900000</td>\n",
       "    </tr>\n",
       "  </tbody>\n",
       "</table>\n",
       "</div>"
      ],
      "text/plain": [
       "           ps_reg_01      ps_reg_02  ...     ps_calc_02     ps_calc_03\n",
       "count  180212.000000  180212.000000  ...  180212.000000  180212.000000\n",
       "mean        0.613638       0.444545  ...       0.450787       0.449563\n",
       "std         0.286989       0.407536  ...       0.286557       0.286845\n",
       "min         0.000000       0.000000  ...       0.000000       0.000000\n",
       "25%         0.400000       0.200000  ...       0.200000       0.200000\n",
       "50%         0.700000       0.300000  ...       0.500000       0.400000\n",
       "75%         0.900000       0.600000  ...       0.700000       0.700000\n",
       "max         0.900000       1.800000  ...       0.900000       0.900000\n",
       "\n",
       "[8 rows x 9 columns]"
      ]
     },
     "execution_count": 111,
     "metadata": {
      "tags": []
     },
     "output_type": "execute_result"
    }
   ],
   "source": [
    "interval_dataset.describe()"
   ]
  },
  {
   "cell_type": "code",
   "execution_count": 112,
   "metadata": {
    "colab": {
     "base_uri": "https://localhost:8080/",
     "height": 450
    },
    "colab_type": "code",
    "id": "COFESB1ImYaB",
    "outputId": "3c8be4ca-6c2d-46e0-c58a-171518a68656"
   },
   "outputs": [
    {
     "data": {
      "text/plain": [
       "<matplotlib.axes._subplots.AxesSubplot at 0x7fbd629cae48>"
      ]
     },
     "execution_count": 112,
     "metadata": {
      "tags": []
     },
     "output_type": "execute_result"
    },
    {
     "data": {
      "image/png": "[encoded data removed]",
      "text/plain": [
       "<Figure size 1080x504 with 2 Axes>"
      ]
     },
     "metadata": {
      "needs_background": "light",
      "tags": []
     },
     "output_type": "display_data"
    }
   ],
   "source": [
    "import seaborn as sns\n",
    "\n",
    "fig, ax = plt.subplots(figsize=(15,7))\n",
    "sns.heatmap(interval_dataset.corr(),cmap='viridis',annot=True)"
   ]
  },
  {
   "cell_type": "code",
   "execution_count": 113,
   "metadata": {
    "colab": {
     "base_uri": "https://localhost:8080/",
     "height": 369
    },
    "colab_type": "code",
    "id": "QaXCLWxho2hB",
    "outputId": "9045e29f-30c4-4f8f-c313-9c05b29f63a8"
   },
   "outputs": [
    {
     "data": {
      "image/png": "[encoded data removed]",
      "text/plain": [
       "<Figure size 402.375x360 with 1 Axes>"
      ]
     },
     "metadata": {
      "needs_background": "light",
      "tags": []
     },
     "output_type": "display_data"
    }
   ],
   "source": [
    "s = data_features.sample(frac=0.1)\n",
    "\n",
    "sns.lmplot(x='ps_car_12', y='ps_car_13', data=s, hue='target', palette='Set1', scatter_kws={'alpha':0.3})\n",
    "plt.show()"
   ]
  },
  {
   "cell_type": "code",
   "execution_count": 114,
   "metadata": {
    "colab": {
     "base_uri": "https://localhost:8080/",
     "height": 369
    },
    "colab_type": "code",
    "id": "T-A-AU0roIv7",
    "outputId": "2206858c-7af8-4ac2-cd88-7025e4e137f9"
   },
   "outputs": [
    {
     "data": {
      "image/png": "[encoded data removed]",
      "text/plain": [
       "<Figure size 402.375x360 with 1 Axes>"
      ]
     },
     "metadata": {
      "needs_background": "light",
      "tags": []
     },
     "output_type": "display_data"
    }
   ],
   "source": [
    "\n",
    "sns.lmplot(x='ps_reg_02', y='ps_reg_01', data=s, hue='target', palette='Set1', scatter_kws={'alpha':0.3})\n",
    "plt.show()"
   ]
  },
  {
   "cell_type": "markdown",
   "metadata": {
    "colab_type": "text",
    "id": "RMfe5szSavEZ"
   },
   "source": [
    "**Q-5** *Write inferences from data on interval variables.*\n",
    "\n",
    "**Ans-5**\n",
    "\n",
    "Some of the inferences from interval_variables are :-\n",
    "\n",
    "1). The overall correlation between interval variables is strong as most of the variables have positive correlation.\n",
    "\n",
    "2). The regression line is best in the case of \"ps_car_12\" and \"ps_car_13\", the cause of this could be that they have the best correlation."
   ]
  },
  {
   "cell_type": "code",
   "execution_count": 115,
   "metadata": {
    "colab": {
     "base_uri": "https://localhost:8080/",
     "height": 317
    },
    "colab_type": "code",
    "id": "QUNluKEtLHFm",
    "outputId": "26d97ee4-5bc8-4f30-8858-d6fb15172a7a"
   },
   "outputs": [
    {
     "data": {
      "text/html": [
       "<div>\n",
       "<style scoped>\n",
       "    .dataframe tbody tr th:only-of-type {\n",
       "        vertical-align: middle;\n",
       "    }\n",
       "\n",
       "    .dataframe tbody tr th {\n",
       "        vertical-align: top;\n",
       "    }\n",
       "\n",
       "    .dataframe thead th {\n",
       "        text-align: right;\n",
       "    }\n",
       "</style>\n",
       "<table border=\"1\" class=\"dataframe\">\n",
       "  <thead>\n",
       "    <tr style=\"text-align: right;\">\n",
       "      <th></th>\n",
       "      <th>ps_ind_01</th>\n",
       "      <th>ps_ind_03</th>\n",
       "      <th>ps_ind_15</th>\n",
       "      <th>ps_calc_04</th>\n",
       "      <th>ps_calc_05</th>\n",
       "      <th>ps_calc_06</th>\n",
       "      <th>ps_calc_07</th>\n",
       "      <th>ps_calc_08</th>\n",
       "      <th>ps_calc_09</th>\n",
       "      <th>ps_calc_10</th>\n",
       "      <th>ps_calc_11</th>\n",
       "      <th>ps_calc_12</th>\n",
       "      <th>ps_calc_13</th>\n",
       "      <th>ps_calc_14</th>\n",
       "    </tr>\n",
       "  </thead>\n",
       "  <tbody>\n",
       "    <tr>\n",
       "      <th>count</th>\n",
       "      <td>180212.000000</td>\n",
       "      <td>180212.000000</td>\n",
       "      <td>180212.000000</td>\n",
       "      <td>180212.000000</td>\n",
       "      <td>180212.000000</td>\n",
       "      <td>180212.000000</td>\n",
       "      <td>180212.000000</td>\n",
       "      <td>180212.000000</td>\n",
       "      <td>180212.000000</td>\n",
       "      <td>180212.000000</td>\n",
       "      <td>180212.000000</td>\n",
       "      <td>180212.000000</td>\n",
       "      <td>180212.000000</td>\n",
       "      <td>180212.000000</td>\n",
       "    </tr>\n",
       "    <tr>\n",
       "      <th>mean</th>\n",
       "      <td>1.916865</td>\n",
       "      <td>4.430954</td>\n",
       "      <td>7.254866</td>\n",
       "      <td>2.371141</td>\n",
       "      <td>1.885479</td>\n",
       "      <td>7.687895</td>\n",
       "      <td>3.005399</td>\n",
       "      <td>9.223442</td>\n",
       "      <td>2.343767</td>\n",
       "      <td>8.433262</td>\n",
       "      <td>5.437468</td>\n",
       "      <td>1.440026</td>\n",
       "      <td>2.879187</td>\n",
       "      <td>7.540236</td>\n",
       "    </tr>\n",
       "    <tr>\n",
       "      <th>std</th>\n",
       "      <td>1.991793</td>\n",
       "      <td>2.704831</td>\n",
       "      <td>3.550863</td>\n",
       "      <td>1.116427</td>\n",
       "      <td>1.135919</td>\n",
       "      <td>1.334364</td>\n",
       "      <td>1.418511</td>\n",
       "      <td>1.458129</td>\n",
       "      <td>1.248589</td>\n",
       "      <td>2.901471</td>\n",
       "      <td>2.337498</td>\n",
       "      <td>1.202935</td>\n",
       "      <td>1.699807</td>\n",
       "      <td>2.753813</td>\n",
       "    </tr>\n",
       "    <tr>\n",
       "      <th>min</th>\n",
       "      <td>0.000000</td>\n",
       "      <td>0.000000</td>\n",
       "      <td>0.000000</td>\n",
       "      <td>0.000000</td>\n",
       "      <td>0.000000</td>\n",
       "      <td>1.000000</td>\n",
       "      <td>0.000000</td>\n",
       "      <td>2.000000</td>\n",
       "      <td>0.000000</td>\n",
       "      <td>0.000000</td>\n",
       "      <td>0.000000</td>\n",
       "      <td>0.000000</td>\n",
       "      <td>0.000000</td>\n",
       "      <td>0.000000</td>\n",
       "    </tr>\n",
       "    <tr>\n",
       "      <th>25%</th>\n",
       "      <td>0.000000</td>\n",
       "      <td>2.000000</td>\n",
       "      <td>5.000000</td>\n",
       "      <td>2.000000</td>\n",
       "      <td>1.000000</td>\n",
       "      <td>7.000000</td>\n",
       "      <td>2.000000</td>\n",
       "      <td>8.000000</td>\n",
       "      <td>1.000000</td>\n",
       "      <td>6.000000</td>\n",
       "      <td>4.000000</td>\n",
       "      <td>1.000000</td>\n",
       "      <td>2.000000</td>\n",
       "      <td>6.000000</td>\n",
       "    </tr>\n",
       "    <tr>\n",
       "      <th>50%</th>\n",
       "      <td>1.000000</td>\n",
       "      <td>4.000000</td>\n",
       "      <td>7.000000</td>\n",
       "      <td>2.000000</td>\n",
       "      <td>2.000000</td>\n",
       "      <td>8.000000</td>\n",
       "      <td>3.000000</td>\n",
       "      <td>9.000000</td>\n",
       "      <td>2.000000</td>\n",
       "      <td>8.000000</td>\n",
       "      <td>5.000000</td>\n",
       "      <td>1.000000</td>\n",
       "      <td>3.000000</td>\n",
       "      <td>7.000000</td>\n",
       "    </tr>\n",
       "    <tr>\n",
       "      <th>75%</th>\n",
       "      <td>3.000000</td>\n",
       "      <td>6.000000</td>\n",
       "      <td>10.000000</td>\n",
       "      <td>3.000000</td>\n",
       "      <td>3.000000</td>\n",
       "      <td>9.000000</td>\n",
       "      <td>4.000000</td>\n",
       "      <td>10.000000</td>\n",
       "      <td>3.000000</td>\n",
       "      <td>10.000000</td>\n",
       "      <td>7.000000</td>\n",
       "      <td>2.000000</td>\n",
       "      <td>4.000000</td>\n",
       "      <td>9.000000</td>\n",
       "    </tr>\n",
       "    <tr>\n",
       "      <th>max</th>\n",
       "      <td>7.000000</td>\n",
       "      <td>11.000000</td>\n",
       "      <td>13.000000</td>\n",
       "      <td>5.000000</td>\n",
       "      <td>6.000000</td>\n",
       "      <td>10.000000</td>\n",
       "      <td>9.000000</td>\n",
       "      <td>12.000000</td>\n",
       "      <td>7.000000</td>\n",
       "      <td>23.000000</td>\n",
       "      <td>18.000000</td>\n",
       "      <td>10.000000</td>\n",
       "      <td>13.000000</td>\n",
       "      <td>22.000000</td>\n",
       "    </tr>\n",
       "  </tbody>\n",
       "</table>\n",
       "</div>"
      ],
      "text/plain": [
       "           ps_ind_01      ps_ind_03  ...     ps_calc_13     ps_calc_14\n",
       "count  180212.000000  180212.000000  ...  180212.000000  180212.000000\n",
       "mean        1.916865       4.430954  ...       2.879187       7.540236\n",
       "std         1.991793       2.704831  ...       1.699807       2.753813\n",
       "min         0.000000       0.000000  ...       0.000000       0.000000\n",
       "25%         0.000000       2.000000  ...       2.000000       6.000000\n",
       "50%         1.000000       4.000000  ...       3.000000       7.000000\n",
       "75%         3.000000       6.000000  ...       4.000000       9.000000\n",
       "max         7.000000      11.000000  ...      13.000000      22.000000\n",
       "\n",
       "[8 rows x 14 columns]"
      ]
     },
     "execution_count": 115,
     "metadata": {
      "tags": []
     },
     "output_type": "execute_result"
    }
   ],
   "source": [
    "ordinal_dataset.describe()"
   ]
  },
  {
   "cell_type": "code",
   "execution_count": 116,
   "metadata": {
    "colab": {
     "base_uri": "https://localhost:8080/",
     "height": 494
    },
    "colab_type": "code",
    "id": "ncGkl1NYstZG",
    "outputId": "d00b838d-a811-46c0-9bb9-72649a368dd9"
   },
   "outputs": [
    {
     "data": {
      "text/plain": [
       "<matplotlib.axes._subplots.AxesSubplot at 0x7fbd619b8208>"
      ]
     },
     "execution_count": 116,
     "metadata": {
      "tags": []
     },
     "output_type": "execute_result"
    },
    {
     "data": {
      "image/png": "[encoded data removed]",
      "text/plain": [
       "<Figure size 1080x504 with 2 Axes>"
      ]
     },
     "metadata": {
      "needs_background": "light",
      "tags": []
     },
     "output_type": "display_data"
    }
   ],
   "source": [
    "fig,ax = plt.subplots(figsize=(15,7))\n",
    "sns.heatmap(ordinal_dataset.corr(),cmap='viridis',annot=True)"
   ]
  },
  {
   "cell_type": "code",
   "execution_count": 117,
   "metadata": {
    "colab": {
     "base_uri": "https://localhost:8080/",
     "height": 369
    },
    "colab_type": "code",
    "id": "AE_MmR5_uLas",
    "outputId": "a11d4f70-f0b0-411a-dcf5-02b0f8e84d9b"
   },
   "outputs": [
    {
     "data": {
      "image/png": "[encoded data removed]",
      "text/plain": [
       "<Figure size 402.375x360 with 1 Axes>"
      ]
     },
     "metadata": {
      "needs_background": "light",
      "tags": []
     },
     "output_type": "display_data"
    }
   ],
   "source": [
    "sns.lmplot(x='ps_ind_03', y='ps_ind_01', data=s, hue='target', palette='Set1', scatter_kws={'alpha':0.3})\n",
    "plt.show()"
   ]
  },
  {
   "cell_type": "code",
   "execution_count": 118,
   "metadata": {
    "colab": {
     "base_uri": "https://localhost:8080/",
     "height": 369
    },
    "colab_type": "code",
    "id": "lhIr1lgax-K8",
    "outputId": "dc7ab5f7-c533-4b33-b0f5-361e220dcb81"
   },
   "outputs": [
    {
     "data": {
      "image/png": "[encoded data removed]",
      "text/plain": [
       "<Figure size 402.375x360 with 1 Axes>"
      ]
     },
     "metadata": {
      "needs_background": "light",
      "tags": []
     },
     "output_type": "display_data"
    }
   ],
   "source": [
    "sns.lmplot(x='ps_ind_15', y='ps_ind_03', data=s, hue='target', palette='Set1', scatter_kws={'alpha':0.3})\n",
    "plt.show()"
   ]
  },
  {
   "cell_type": "markdown",
   "metadata": {
    "colab_type": "text",
    "id": "csY7NB0rauvG"
   },
   "source": [
    "**Q-6** *Write inferences from data on ordinal variables.*\n",
    "\n",
    "**Ans-6**\n",
    "\n",
    "Some of the inferences on ordinal variables are :-\n",
    "\n",
    "1). There is weak correlation among ordinal variables as most of them are either negative or in the range of e^-3(0.001) and less. \n",
    "\n",
    "2). The regression plot shows that the 2 most correlated pairs of ordinal variables are not at all in a strong relation with the target variable.  "
   ]
  },
  {
   "cell_type": "code",
   "execution_count": 119,
   "metadata": {
    "colab": {
     "base_uri": "https://localhost:8080/",
     "height": 317
    },
    "colab_type": "code",
    "id": "jMXt1SgdIJG8",
    "outputId": "c228a8a4-d788-43dd-9d3b-f5ac361c8774"
   },
   "outputs": [
    {
     "data": {
      "text/html": [
       "<div>\n",
       "<style scoped>\n",
       "    .dataframe tbody tr th:only-of-type {\n",
       "        vertical-align: middle;\n",
       "    }\n",
       "\n",
       "    .dataframe tbody tr th {\n",
       "        vertical-align: top;\n",
       "    }\n",
       "\n",
       "    .dataframe thead th {\n",
       "        text-align: right;\n",
       "    }\n",
       "</style>\n",
       "<table border=\"1\" class=\"dataframe\">\n",
       "  <thead>\n",
       "    <tr style=\"text-align: right;\">\n",
       "      <th></th>\n",
       "      <th>target</th>\n",
       "      <th>ps_ind_06_bin</th>\n",
       "      <th>ps_ind_07_bin</th>\n",
       "      <th>ps_ind_08_bin</th>\n",
       "      <th>ps_ind_09_bin</th>\n",
       "      <th>ps_ind_16_bin</th>\n",
       "      <th>ps_ind_17_bin</th>\n",
       "      <th>ps_ind_18_bin</th>\n",
       "      <th>ps_calc_15_bin</th>\n",
       "      <th>ps_calc_16_bin</th>\n",
       "      <th>ps_calc_17_bin</th>\n",
       "      <th>ps_calc_18_bin</th>\n",
       "      <th>ps_calc_19_bin</th>\n",
       "      <th>ps_calc_20_bin</th>\n",
       "    </tr>\n",
       "  </thead>\n",
       "  <tbody>\n",
       "    <tr>\n",
       "      <th>count</th>\n",
       "      <td>180212.000000</td>\n",
       "      <td>180212.000000</td>\n",
       "      <td>180212.000000</td>\n",
       "      <td>180212.000000</td>\n",
       "      <td>180212.00000</td>\n",
       "      <td>180212.000000</td>\n",
       "      <td>180212.000000</td>\n",
       "      <td>180212.000000</td>\n",
       "      <td>180212.000000</td>\n",
       "      <td>180212.000000</td>\n",
       "      <td>180212.000000</td>\n",
       "      <td>180212.000000</td>\n",
       "      <td>180212.000000</td>\n",
       "      <td>180212.000000</td>\n",
       "    </tr>\n",
       "    <tr>\n",
       "      <th>mean</th>\n",
       "      <td>0.120380</td>\n",
       "      <td>0.386800</td>\n",
       "      <td>0.264461</td>\n",
       "      <td>0.166260</td>\n",
       "      <td>0.18248</td>\n",
       "      <td>0.654635</td>\n",
       "      <td>0.125896</td>\n",
       "      <td>0.154723</td>\n",
       "      <td>0.122822</td>\n",
       "      <td>0.627444</td>\n",
       "      <td>0.554181</td>\n",
       "      <td>0.288116</td>\n",
       "      <td>0.349111</td>\n",
       "      <td>0.154318</td>\n",
       "    </tr>\n",
       "    <tr>\n",
       "      <th>std</th>\n",
       "      <td>0.325407</td>\n",
       "      <td>0.487019</td>\n",
       "      <td>0.441047</td>\n",
       "      <td>0.372315</td>\n",
       "      <td>0.38624</td>\n",
       "      <td>0.475489</td>\n",
       "      <td>0.331733</td>\n",
       "      <td>0.361642</td>\n",
       "      <td>0.328234</td>\n",
       "      <td>0.483487</td>\n",
       "      <td>0.497057</td>\n",
       "      <td>0.452887</td>\n",
       "      <td>0.476690</td>\n",
       "      <td>0.361255</td>\n",
       "    </tr>\n",
       "    <tr>\n",
       "      <th>min</th>\n",
       "      <td>0.000000</td>\n",
       "      <td>0.000000</td>\n",
       "      <td>0.000000</td>\n",
       "      <td>0.000000</td>\n",
       "      <td>0.00000</td>\n",
       "      <td>0.000000</td>\n",
       "      <td>0.000000</td>\n",
       "      <td>0.000000</td>\n",
       "      <td>0.000000</td>\n",
       "      <td>0.000000</td>\n",
       "      <td>0.000000</td>\n",
       "      <td>0.000000</td>\n",
       "      <td>0.000000</td>\n",
       "      <td>0.000000</td>\n",
       "    </tr>\n",
       "    <tr>\n",
       "      <th>25%</th>\n",
       "      <td>0.000000</td>\n",
       "      <td>0.000000</td>\n",
       "      <td>0.000000</td>\n",
       "      <td>0.000000</td>\n",
       "      <td>0.00000</td>\n",
       "      <td>0.000000</td>\n",
       "      <td>0.000000</td>\n",
       "      <td>0.000000</td>\n",
       "      <td>0.000000</td>\n",
       "      <td>0.000000</td>\n",
       "      <td>0.000000</td>\n",
       "      <td>0.000000</td>\n",
       "      <td>0.000000</td>\n",
       "      <td>0.000000</td>\n",
       "    </tr>\n",
       "    <tr>\n",
       "      <th>50%</th>\n",
       "      <td>0.000000</td>\n",
       "      <td>0.000000</td>\n",
       "      <td>0.000000</td>\n",
       "      <td>0.000000</td>\n",
       "      <td>0.00000</td>\n",
       "      <td>1.000000</td>\n",
       "      <td>0.000000</td>\n",
       "      <td>0.000000</td>\n",
       "      <td>0.000000</td>\n",
       "      <td>1.000000</td>\n",
       "      <td>1.000000</td>\n",
       "      <td>0.000000</td>\n",
       "      <td>0.000000</td>\n",
       "      <td>0.000000</td>\n",
       "    </tr>\n",
       "    <tr>\n",
       "      <th>75%</th>\n",
       "      <td>0.000000</td>\n",
       "      <td>1.000000</td>\n",
       "      <td>1.000000</td>\n",
       "      <td>0.000000</td>\n",
       "      <td>0.00000</td>\n",
       "      <td>1.000000</td>\n",
       "      <td>0.000000</td>\n",
       "      <td>0.000000</td>\n",
       "      <td>0.000000</td>\n",
       "      <td>1.000000</td>\n",
       "      <td>1.000000</td>\n",
       "      <td>1.000000</td>\n",
       "      <td>1.000000</td>\n",
       "      <td>0.000000</td>\n",
       "    </tr>\n",
       "    <tr>\n",
       "      <th>max</th>\n",
       "      <td>1.000000</td>\n",
       "      <td>1.000000</td>\n",
       "      <td>1.000000</td>\n",
       "      <td>1.000000</td>\n",
       "      <td>1.00000</td>\n",
       "      <td>1.000000</td>\n",
       "      <td>1.000000</td>\n",
       "      <td>1.000000</td>\n",
       "      <td>1.000000</td>\n",
       "      <td>1.000000</td>\n",
       "      <td>1.000000</td>\n",
       "      <td>1.000000</td>\n",
       "      <td>1.000000</td>\n",
       "      <td>1.000000</td>\n",
       "    </tr>\n",
       "  </tbody>\n",
       "</table>\n",
       "</div>"
      ],
      "text/plain": [
       "              target  ps_ind_06_bin  ...  ps_calc_19_bin  ps_calc_20_bin\n",
       "count  180212.000000  180212.000000  ...   180212.000000   180212.000000\n",
       "mean        0.120380       0.386800  ...        0.349111        0.154318\n",
       "std         0.325407       0.487019  ...        0.476690        0.361255\n",
       "min         0.000000       0.000000  ...        0.000000        0.000000\n",
       "25%         0.000000       0.000000  ...        0.000000        0.000000\n",
       "50%         0.000000       0.000000  ...        0.000000        0.000000\n",
       "75%         0.000000       1.000000  ...        1.000000        0.000000\n",
       "max         1.000000       1.000000  ...        1.000000        1.000000\n",
       "\n",
       "[8 rows x 14 columns]"
      ]
     },
     "execution_count": 119,
     "metadata": {
      "tags": []
     },
     "output_type": "execute_result"
    }
   ],
   "source": [
    "binary_dataset.describe()"
   ]
  },
  {
   "cell_type": "markdown",
   "metadata": {
    "colab_type": "text",
    "id": "KppgtY1r8u78"
   },
   "source": [
    "**Q-7** *Write inferences from data on binary variables.*\n",
    "\n",
    "**Ans-7**\n",
    "\n",
    "Some of the inferences on binary variables are :-\n",
    "\n",
    "1). Apriori in the target column is 3.645%, which is strongly imbalanced.\n",
    "\n",
    "2). From the means of the binary variables, we can conclude that for most variables the value 0 is much more pre-dominant than value of 1."
   ]
  },
  {
   "cell_type": "code",
   "execution_count": 120,
   "metadata": {
    "colab": {
     "base_uri": "https://localhost:8080/",
     "height": 450
    },
    "colab_type": "code",
    "id": "y7nvX4En9hSq",
    "outputId": "c575fe12-b91c-430b-bd67-6dbf97dcab2f"
   },
   "outputs": [
    {
     "data": {
      "text/plain": [
       "<matplotlib.axes._subplots.AxesSubplot at 0x7fbd614e2f28>"
      ]
     },
     "execution_count": 120,
     "metadata": {
      "tags": []
     },
     "output_type": "execute_result"
    },
    {
     "data": {
      "image/png": "[encoded data removed]",
      "text/plain": [
       "<Figure size 1080x504 with 2 Axes>"
      ]
     },
     "metadata": {
      "needs_background": "light",
      "tags": []
     },
     "output_type": "display_data"
    }
   ],
   "source": [
    "fig, ax = plt.subplots(figsize=(15,7))\n",
    "sns.heatmap(interval_dataset.corr(),cmap='viridis',annot=True)"
   ]
  },
  {
   "cell_type": "markdown",
   "metadata": {
    "colab_type": "text",
    "id": "cGVFBD5hBZbU"
   },
   "source": [
    "**Q-14** *Which interval variables have strong correlation?*\n",
    "\n",
    "**Ans-14**\n",
    "\n",
    "As infered from the heatmap above, the feature \"ps_car_13\" seems to have  strong correlations with \"ps_car_12\" ,\"ps_car_15\" and \"ps_reg_02\" of magnitude 0.68, 0.52 and 0.2 respectively. \n",
    "\n",
    "Also, \"ps_reg_02\" has strong correlations with  \"ps_reg_01\" and \"ps_car_12\" of magnitude 0.47 and 0.17 respectively.\n",
    "\n",
    "In total, we found 5 correlations having magnitude greater than 0.1, and thus are considered as strong correlation."
   ]
  },
  {
   "cell_type": "code",
   "execution_count": 121,
   "metadata": {
    "colab": {
     "base_uri": "https://localhost:8080/",
     "height": 494
    },
    "colab_type": "code",
    "id": "QvGhYuJdF5eI",
    "outputId": "ecb207ab-0689-412a-8120-ca303782d100"
   },
   "outputs": [
    {
     "data": {
      "text/plain": [
       "<matplotlib.axes._subplots.AxesSubplot at 0x7fbd6146aa90>"
      ]
     },
     "execution_count": 121,
     "metadata": {
      "tags": []
     },
     "output_type": "execute_result"
    },
    {
     "data": {
      "image/png": "[encoded data removed]",
      "text/plain": [
       "<Figure size 1080x504 with 2 Axes>"
      ]
     },
     "metadata": {
      "needs_background": "light",
      "tags": []
     },
     "output_type": "display_data"
    }
   ],
   "source": [
    "fig,ax = plt.subplots(figsize=(15,7))\n",
    "sns.heatmap(ordinal_dataset.corr(),cmap='viridis',annot=True)"
   ]
  },
  {
   "cell_type": "markdown",
   "metadata": {
    "colab_type": "text",
    "id": "gDVlpOYEF3Te"
   },
   "source": [
    "**Q-15** *What's the level of correlation among ordinal features?*\n",
    "\n",
    "**Ans-15** \n",
    "\n",
    "The level of correlation among ordinal features is very low compared to that of interval features, this is understood as interval features are quantitative whereas ordinal features are qualitative variables, so they have weak correlation amongst them. \n",
    "\n",
    "the variable \"ps_ind_03\" has strong correlation with \"ps_ind_01\" and \"ps_ind_15\" with magnitude of 0.23 and 0.17 respectively, also \"ps_ind_15\" and \"ps_ind_01\" are correlated with a magnitude of  0.12 .\n"
   ]
  },
  {
   "cell_type": "markdown",
   "metadata": {
    "colab_type": "text",
    "id": "F8kINz0BQaKU"
   },
   "source": [
    "**Q-16** *Implement Hot Encoding for categorical features*"
   ]
  },
  {
   "cell_type": "code",
   "execution_count": 122,
   "metadata": {
    "colab": {
     "base_uri": "https://localhost:8080/",
     "height": 170
    },
    "colab_type": "code",
    "id": "jjMQfg1gex8p",
    "outputId": "a917fbc9-8df1-4dbd-d5c1-96cfdf88b686"
   },
   "outputs": [
    {
     "name": "stdout",
     "output_type": "stream",
     "text": [
      "Variable ps_ind_02_cat has 5 distinct values\n",
      "Variable ps_ind_04_cat has 3 distinct values\n",
      "Variable ps_car_01_cat has 13 distinct values\n",
      "Variable ps_car_02_cat has 2 distinct values\n",
      "Variable ps_car_04_cat has 10 distinct values\n",
      "Variable ps_car_06_cat has 18 distinct values\n",
      "Variable ps_car_08_cat has 2 distinct values\n",
      "Variable ps_car_09_cat has 6 distinct values\n",
      "Variable ps_car_11_cat has 104 distinct values\n"
     ]
    }
   ],
   "source": [
    "\n",
    "for f in categorical_dataset:\n",
    "    dist_values = data_features[f].value_counts().shape[0]\n",
    "    print('Variable {} has {} distinct values'.format(f, dist_values))"
   ]
  },
  {
   "cell_type": "markdown",
   "metadata": {
    "colab_type": "text",
    "id": "j9nShBr8gTwP"
   },
   "source": [
    "the feature \"ps_car_11_cat\" has 104 distinct values, so we will add noise to it and then perform one-hot encoding on it.\n"
   ]
  },
  {
   "cell_type": "code",
   "execution_count": 123,
   "metadata": {
    "colab": {},
    "colab_type": "code",
    "id": "baUlg-h3BPGT"
   },
   "outputs": [],
   "source": [
    "def add_noise(series, noise_level):\n",
    "    return series * (1 + noise_level * np.random.randn(len(series)))\n",
    "\n",
    "def target_encode(trn_series=None,  \n",
    "                  target=None, \n",
    "                  min_samples_leaf=1, \n",
    "                  smoothing=1,\n",
    "                  noise_level=0):\n",
    "    \"\"\"\n",
    "    Smoothing is computed like in the following paper by Daniele Micci-Barreca\n",
    "    https://kaggle2.blob.core.windows.net/forum-message-attachments/225952/7441/high%20cardinality%20categoricals.pdf\n",
    "    trn_series : training categorical feature as a pd.Series\n",
    "    tst_series : test categorical feature as a pd.Series\n",
    "    target : target data as a pd.Series\n",
    "    min_samples_leaf (int) : minimum samples to take category average into account\n",
    "    smoothing (int) : smoothing effect to balance categorical average vs prior  \n",
    "    \"\"\" \n",
    "    assert len(trn_series) == len(target)\n",
    "    temp = pd.concat([trn_series, target], axis=1)\n",
    "    # Compute target mean \n",
    "    averages = temp.groupby(by=trn_series.name)[target.name].agg([\"mean\", \"count\"])\n",
    "    # Compute smoothing\n",
    "    smoothing = 1 / (1 + np.exp(-(averages[\"count\"] - min_samples_leaf) / smoothing))\n",
    "    # Apply average function to all target data\n",
    "    prior = target.mean()\n",
    "    # The bigger the count the less full_avg is taken into account\n",
    "    averages[target.name] = prior * (1 - smoothing) + averages[\"mean\"] * smoothing\n",
    "    averages.drop([\"mean\", \"count\"], axis=1, inplace=True)\n",
    "    # Apply averages to trn and tst series\n",
    "    ft_trn_series = pd.merge(\n",
    "        trn_series.to_frame(trn_series.name),\n",
    "        averages.reset_index().rename(columns={'index': target.name, target.name: 'average'}),\n",
    "        on=trn_series.name,\n",
    "        how='left')['average'].rename(trn_series.name + '_mean').fillna(prior)\n",
    "    # pd.merge does not keep the index so restore it\n",
    "    ft_trn_series.index = trn_series.index \n",
    "    return add_noise(ft_trn_series, noise_level)"
   ]
  },
  {
   "cell_type": "code",
   "execution_count": 124,
   "metadata": {
    "colab": {
     "base_uri": "https://localhost:8080/",
     "height": 204
    },
    "colab_type": "code",
    "id": "chTId5maexwN",
    "outputId": "edd03bf2-9836-4457-ded4-a81aecd5e900"
   },
   "outputs": [
    {
     "name": "stderr",
     "output_type": "stream",
     "text": [
      "/usr/local/lib/python3.6/dist-packages/ipykernel_launcher.py:10: SettingWithCopyWarning: \n",
      "A value is trying to be set on a copy of a slice from a DataFrame.\n",
      "Try using .loc[row_indexer,col_indexer] = value instead\n",
      "\n",
      "See the caveats in the documentation: https://pandas.pydata.org/pandas-docs/stable/user_guide/indexing.html#returning-a-view-versus-a-copy\n",
      "  # Remove the CWD from sys.path while we load stuff.\n",
      "/usr/local/lib/python3.6/dist-packages/pandas/core/frame.py:3997: SettingWithCopyWarning: \n",
      "A value is trying to be set on a copy of a slice from a DataFrame\n",
      "\n",
      "See the caveats in the documentation: https://pandas.pydata.org/pandas-docs/stable/user_guide/indexing.html#returning-a-view-versus-a-copy\n",
      "  errors=errors,\n"
     ]
    }
   ],
   "source": [
    "train_encoded = target_encode(data_features[\"ps_car_11_cat\"], \n",
    "                             target=data_features.target, \n",
    "                             min_samples_leaf=100,\n",
    "                             smoothing=10,\n",
    "                             noise_level=0.01)\n",
    "    \n",
    "data_features['ps_car_11_cat_te'] = train_encoded\n",
    "data_features.drop('ps_car_11_cat', axis=1, inplace=True)\n",
    "\n",
    "categorical_dataset['ps_car_11_cat_te'] = train_encoded\n",
    "categorical_dataset.drop(\"ps_car_11_cat\",axis=1,inplace=True)\n"
   ]
  },
  {
   "cell_type": "code",
   "execution_count": 125,
   "metadata": {
    "colab": {
     "base_uri": "https://localhost:8080/",
     "height": 34
    },
    "colab_type": "code",
    "id": "V_GRSiwcfA4P",
    "outputId": "277c9bec-08c5-436e-cfe8-03d39fc79274"
   },
   "outputs": [
    {
     "data": {
      "text/plain": [
       "46"
      ]
     },
     "execution_count": 125,
     "metadata": {
      "tags": []
     },
     "output_type": "execute_result"
    }
   ],
   "source": [
    "data_features.shape[1]"
   ]
  },
  {
   "cell_type": "markdown",
   "metadata": {
    "colab_type": "text",
    "id": "KWMNGVvAy0yl"
   },
   "source": [
    "**Ans-16** \n",
    "\n",
    "One-Hot encoding was applied to a single categorical feature and the number of values in it was increased instead of making dummy variables and increasing the no. of columns in the data."
   ]
  },
  {
   "cell_type": "markdown",
   "metadata": {
    "colab_type": "text",
    "id": "adI4o-x6-IFg"
   },
   "source": [
    "**Q-17** *In nominal and interval features, which features are suitable for StandardScaler?*"
   ]
  },
  {
   "cell_type": "markdown",
   "metadata": {
    "colab_type": "text",
    "id": "5OGuayL_qYfA"
   },
   "source": [
    "Ans-17\n",
    "\n",
    "a) *According to me, the categorical features ps_car_01_cat, ps_car_06_cat and ps_car_11_cat are suitable for applying StandardScaler.*"
   ]
  },
  {
   "cell_type": "code",
   "execution_count": 126,
   "metadata": {
    "colab": {
     "base_uri": "https://localhost:8080/",
     "height": 1000
    },
    "colab_type": "code",
    "id": "otFvTMTI9hv7",
    "outputId": "bb441cad-e7ef-4336-e966-58a3121c21ab"
   },
   "outputs": [
    {
     "data": {
      "text/plain": [
       "array([[<matplotlib.axes._subplots.AxesSubplot object at 0x7fbd6203bf60>,\n",
       "        <matplotlib.axes._subplots.AxesSubplot object at 0x7fbd6115df98>,\n",
       "        <matplotlib.axes._subplots.AxesSubplot object at 0x7fbd61117358>],\n",
       "       [<matplotlib.axes._subplots.AxesSubplot object at 0x7fbd611476d8>,\n",
       "        <matplotlib.axes._subplots.AxesSubplot object at 0x7fbd610f8a58>,\n",
       "        <matplotlib.axes._subplots.AxesSubplot object at 0x7fbd610abdd8>],\n",
       "       [<matplotlib.axes._subplots.AxesSubplot object at 0x7fbd61068198>,\n",
       "        <matplotlib.axes._subplots.AxesSubplot object at 0x7fbd6101c4e0>,\n",
       "        <matplotlib.axes._subplots.AxesSubplot object at 0x7fbd6101c550>]],\n",
       "      dtype=object)"
      ]
     },
     "execution_count": 126,
     "metadata": {
      "tags": []
     },
     "output_type": "execute_result"
    },
    {
     "data": {
      "image/png": "[encoded data removed]",
      "text/plain": [
       "<Figure size 1800x1440 with 9 Axes>"
      ]
     },
     "metadata": {
      "needs_background": "light",
      "tags": []
     },
     "output_type": "display_data"
    }
   ],
   "source": [
    "interval_dataset.hist(bins=20, figsize=(25,20))"
   ]
  },
  {
   "cell_type": "markdown",
   "metadata": {
    "colab_type": "text",
    "id": "url4fBxCsKoR"
   },
   "source": [
    "Ans-17\n",
    "\n",
    "b) *According to me, the interval features ps_calc_01, ps_calc_02, ps_calc_03, ps_calc_13, ps_car_15, ps_ind_03, ps_ind_15 and ps_reg_02  are suitable for applying StandardScaler.*"
   ]
  },
  {
   "cell_type": "code",
   "execution_count": 127,
   "metadata": {
    "colab": {
     "base_uri": "https://localhost:8080/",
     "height": 224
    },
    "colab_type": "code",
    "id": "vKhcR1_M9hyx",
    "outputId": "6256e1c5-2df1-45f5-a352-ecacecae004a"
   },
   "outputs": [
    {
     "data": {
      "text/html": [
       "<div>\n",
       "<style scoped>\n",
       "    .dataframe tbody tr th:only-of-type {\n",
       "        vertical-align: middle;\n",
       "    }\n",
       "\n",
       "    .dataframe tbody tr th {\n",
       "        vertical-align: top;\n",
       "    }\n",
       "\n",
       "    .dataframe thead th {\n",
       "        text-align: right;\n",
       "    }\n",
       "</style>\n",
       "<table border=\"1\" class=\"dataframe\">\n",
       "  <thead>\n",
       "    <tr style=\"text-align: right;\">\n",
       "      <th></th>\n",
       "      <th>target</th>\n",
       "      <th>ps_ind_01</th>\n",
       "      <th>ps_ind_02_cat</th>\n",
       "      <th>ps_ind_03</th>\n",
       "      <th>ps_ind_04_cat</th>\n",
       "      <th>ps_ind_06_bin</th>\n",
       "      <th>ps_ind_07_bin</th>\n",
       "      <th>ps_ind_08_bin</th>\n",
       "      <th>ps_ind_09_bin</th>\n",
       "      <th>ps_ind_15</th>\n",
       "      <th>ps_ind_16_bin</th>\n",
       "      <th>ps_ind_17_bin</th>\n",
       "      <th>ps_ind_18_bin</th>\n",
       "      <th>ps_reg_01</th>\n",
       "      <th>ps_reg_02</th>\n",
       "      <th>ps_car_01_cat</th>\n",
       "      <th>ps_car_02_cat</th>\n",
       "      <th>ps_car_04_cat</th>\n",
       "      <th>ps_car_06_cat</th>\n",
       "      <th>ps_car_08_cat</th>\n",
       "      <th>ps_car_09_cat</th>\n",
       "      <th>ps_car_11</th>\n",
       "      <th>ps_car_12</th>\n",
       "      <th>ps_car_13</th>\n",
       "      <th>ps_car_15</th>\n",
       "      <th>ps_calc_01</th>\n",
       "      <th>ps_calc_02</th>\n",
       "      <th>ps_calc_03</th>\n",
       "      <th>ps_calc_04</th>\n",
       "      <th>ps_calc_05</th>\n",
       "      <th>ps_calc_06</th>\n",
       "      <th>ps_calc_07</th>\n",
       "      <th>ps_calc_08</th>\n",
       "      <th>ps_calc_09</th>\n",
       "      <th>ps_calc_10</th>\n",
       "      <th>ps_calc_11</th>\n",
       "      <th>ps_calc_12</th>\n",
       "      <th>ps_calc_13</th>\n",
       "      <th>ps_calc_14</th>\n",
       "      <th>ps_calc_15_bin</th>\n",
       "      <th>ps_calc_16_bin</th>\n",
       "      <th>ps_calc_17_bin</th>\n",
       "      <th>ps_calc_18_bin</th>\n",
       "      <th>ps_calc_19_bin</th>\n",
       "      <th>ps_calc_20_bin</th>\n",
       "      <th>ps_car_11_cat_te</th>\n",
       "    </tr>\n",
       "  </thead>\n",
       "  <tbody>\n",
       "    <tr>\n",
       "      <th>0</th>\n",
       "      <td>0</td>\n",
       "      <td>2</td>\n",
       "      <td>2.0</td>\n",
       "      <td>5</td>\n",
       "      <td>1.0</td>\n",
       "      <td>0</td>\n",
       "      <td>1</td>\n",
       "      <td>0</td>\n",
       "      <td>0</td>\n",
       "      <td>11</td>\n",
       "      <td>0</td>\n",
       "      <td>1</td>\n",
       "      <td>0</td>\n",
       "      <td>0.7</td>\n",
       "      <td>0.2</td>\n",
       "      <td>10.0</td>\n",
       "      <td>1</td>\n",
       "      <td>0</td>\n",
       "      <td>4</td>\n",
       "      <td>0</td>\n",
       "      <td>0.0</td>\n",
       "      <td>2.0</td>\n",
       "      <td>0.400000</td>\n",
       "      <td>0.883679</td>\n",
       "      <td>3.605551</td>\n",
       "      <td>0.6</td>\n",
       "      <td>0.5</td>\n",
       "      <td>0.2</td>\n",
       "      <td>3</td>\n",
       "      <td>1</td>\n",
       "      <td>10</td>\n",
       "      <td>1</td>\n",
       "      <td>10</td>\n",
       "      <td>1</td>\n",
       "      <td>5</td>\n",
       "      <td>9</td>\n",
       "      <td>1</td>\n",
       "      <td>5</td>\n",
       "      <td>8</td>\n",
       "      <td>0</td>\n",
       "      <td>1</td>\n",
       "      <td>1</td>\n",
       "      <td>0</td>\n",
       "      <td>0</td>\n",
       "      <td>1</td>\n",
       "      <td>0.128190</td>\n",
       "    </tr>\n",
       "    <tr>\n",
       "      <th>1</th>\n",
       "      <td>0</td>\n",
       "      <td>1</td>\n",
       "      <td>1.0</td>\n",
       "      <td>7</td>\n",
       "      <td>0.0</td>\n",
       "      <td>0</td>\n",
       "      <td>0</td>\n",
       "      <td>1</td>\n",
       "      <td>0</td>\n",
       "      <td>3</td>\n",
       "      <td>0</td>\n",
       "      <td>0</td>\n",
       "      <td>1</td>\n",
       "      <td>0.8</td>\n",
       "      <td>0.4</td>\n",
       "      <td>11.0</td>\n",
       "      <td>1</td>\n",
       "      <td>0</td>\n",
       "      <td>11</td>\n",
       "      <td>1</td>\n",
       "      <td>2.0</td>\n",
       "      <td>3.0</td>\n",
       "      <td>0.316228</td>\n",
       "      <td>0.618817</td>\n",
       "      <td>2.449490</td>\n",
       "      <td>0.3</td>\n",
       "      <td>0.1</td>\n",
       "      <td>0.3</td>\n",
       "      <td>2</td>\n",
       "      <td>1</td>\n",
       "      <td>9</td>\n",
       "      <td>5</td>\n",
       "      <td>8</td>\n",
       "      <td>1</td>\n",
       "      <td>7</td>\n",
       "      <td>3</td>\n",
       "      <td>1</td>\n",
       "      <td>1</td>\n",
       "      <td>9</td>\n",
       "      <td>0</td>\n",
       "      <td>1</td>\n",
       "      <td>1</td>\n",
       "      <td>0</td>\n",
       "      <td>1</td>\n",
       "      <td>0</td>\n",
       "      <td>0.081608</td>\n",
       "    </tr>\n",
       "    <tr>\n",
       "      <th>2</th>\n",
       "      <td>0</td>\n",
       "      <td>5</td>\n",
       "      <td>4.0</td>\n",
       "      <td>9</td>\n",
       "      <td>1.0</td>\n",
       "      <td>0</td>\n",
       "      <td>0</td>\n",
       "      <td>1</td>\n",
       "      <td>0</td>\n",
       "      <td>12</td>\n",
       "      <td>1</td>\n",
       "      <td>0</td>\n",
       "      <td>0</td>\n",
       "      <td>0.0</td>\n",
       "      <td>0.0</td>\n",
       "      <td>7.0</td>\n",
       "      <td>1</td>\n",
       "      <td>0</td>\n",
       "      <td>14</td>\n",
       "      <td>1</td>\n",
       "      <td>2.0</td>\n",
       "      <td>1.0</td>\n",
       "      <td>0.316228</td>\n",
       "      <td>0.641586</td>\n",
       "      <td>3.316625</td>\n",
       "      <td>0.5</td>\n",
       "      <td>0.7</td>\n",
       "      <td>0.1</td>\n",
       "      <td>2</td>\n",
       "      <td>2</td>\n",
       "      <td>9</td>\n",
       "      <td>1</td>\n",
       "      <td>8</td>\n",
       "      <td>2</td>\n",
       "      <td>7</td>\n",
       "      <td>4</td>\n",
       "      <td>2</td>\n",
       "      <td>7</td>\n",
       "      <td>7</td>\n",
       "      <td>0</td>\n",
       "      <td>1</td>\n",
       "      <td>1</td>\n",
       "      <td>0</td>\n",
       "      <td>1</td>\n",
       "      <td>0</td>\n",
       "      <td>0.104274</td>\n",
       "    </tr>\n",
       "    <tr>\n",
       "      <th>4</th>\n",
       "      <td>0</td>\n",
       "      <td>0</td>\n",
       "      <td>2.0</td>\n",
       "      <td>0</td>\n",
       "      <td>1.0</td>\n",
       "      <td>1</td>\n",
       "      <td>0</td>\n",
       "      <td>0</td>\n",
       "      <td>0</td>\n",
       "      <td>9</td>\n",
       "      <td>1</td>\n",
       "      <td>0</td>\n",
       "      <td>0</td>\n",
       "      <td>0.7</td>\n",
       "      <td>0.6</td>\n",
       "      <td>11.0</td>\n",
       "      <td>1</td>\n",
       "      <td>0</td>\n",
       "      <td>14</td>\n",
       "      <td>1</td>\n",
       "      <td>2.0</td>\n",
       "      <td>3.0</td>\n",
       "      <td>0.316070</td>\n",
       "      <td>0.565832</td>\n",
       "      <td>2.000000</td>\n",
       "      <td>0.4</td>\n",
       "      <td>0.6</td>\n",
       "      <td>0.0</td>\n",
       "      <td>2</td>\n",
       "      <td>2</td>\n",
       "      <td>6</td>\n",
       "      <td>3</td>\n",
       "      <td>10</td>\n",
       "      <td>2</td>\n",
       "      <td>12</td>\n",
       "      <td>3</td>\n",
       "      <td>1</td>\n",
       "      <td>1</td>\n",
       "      <td>3</td>\n",
       "      <td>0</td>\n",
       "      <td>0</td>\n",
       "      <td>0</td>\n",
       "      <td>1</td>\n",
       "      <td>1</td>\n",
       "      <td>0</td>\n",
       "      <td>0.087595</td>\n",
       "    </tr>\n",
       "    <tr>\n",
       "      <th>9</th>\n",
       "      <td>1</td>\n",
       "      <td>1</td>\n",
       "      <td>1.0</td>\n",
       "      <td>2</td>\n",
       "      <td>0.0</td>\n",
       "      <td>0</td>\n",
       "      <td>1</td>\n",
       "      <td>0</td>\n",
       "      <td>0</td>\n",
       "      <td>4</td>\n",
       "      <td>0</td>\n",
       "      <td>0</td>\n",
       "      <td>1</td>\n",
       "      <td>0.9</td>\n",
       "      <td>1.4</td>\n",
       "      <td>11.0</td>\n",
       "      <td>0</td>\n",
       "      <td>1</td>\n",
       "      <td>14</td>\n",
       "      <td>1</td>\n",
       "      <td>2.0</td>\n",
       "      <td>2.0</td>\n",
       "      <td>0.447214</td>\n",
       "      <td>1.458184</td>\n",
       "      <td>3.605551</td>\n",
       "      <td>0.7</td>\n",
       "      <td>0.8</td>\n",
       "      <td>0.8</td>\n",
       "      <td>2</td>\n",
       "      <td>2</td>\n",
       "      <td>8</td>\n",
       "      <td>2</td>\n",
       "      <td>9</td>\n",
       "      <td>1</td>\n",
       "      <td>11</td>\n",
       "      <td>3</td>\n",
       "      <td>5</td>\n",
       "      <td>0</td>\n",
       "      <td>6</td>\n",
       "      <td>0</td>\n",
       "      <td>1</td>\n",
       "      <td>0</td>\n",
       "      <td>0</td>\n",
       "      <td>1</td>\n",
       "      <td>0</td>\n",
       "      <td>0.146187</td>\n",
       "    </tr>\n",
       "  </tbody>\n",
       "</table>\n",
       "</div>"
      ],
      "text/plain": [
       "   target  ps_ind_01  ...  ps_calc_20_bin  ps_car_11_cat_te\n",
       "0       0          2  ...               1          0.128190\n",
       "1       0          1  ...               0          0.081608\n",
       "2       0          5  ...               0          0.104274\n",
       "4       0          0  ...               0          0.087595\n",
       "9       1          1  ...               0          0.146187\n",
       "\n",
       "[5 rows x 46 columns]"
      ]
     },
     "execution_count": 127,
     "metadata": {
      "tags": []
     },
     "output_type": "execute_result"
    }
   ],
   "source": [
    "from sklearn.preprocessing import StandardScaler\n",
    "\n",
    "Scaler = StandardScaler()\n",
    "Scaler.fit_transform(data_features[[\"ps_car_01_cat\", \"ps_car_06_cat\",\"ps_car_11_cat_te\",\"ps_calc_01\", \"ps_calc_02\", \"ps_calc_03\", \n",
    "                                    \"ps_calc_13\", \"ps_car_15\", \"ps_ind_03\", \"ps_ind_15\",\"ps_reg_02\"]])\n",
    "data_features.head()"
   ]
  },
  {
   "cell_type": "markdown",
   "metadata": {
    "colab_type": "text",
    "id": "hc23hHUYxKKL"
   },
   "source": [
    "**Ans-17**\n",
    "\n",
    "*Conclusion* \n",
    "\n",
    "StandardScaler was applied to the nominal and interval features which were found to be suitable for scaling."
   ]
  },
  {
   "cell_type": "markdown",
   "metadata": {
    "colab_type": "text",
    "id": "GasNUoNrgeNO"
   },
   "source": [
    "**Q-18** *Summarize the learnings of EDA*\n",
    "\n",
    "**Ans-18**\n",
    "\n",
    "I started my EDA part by previewing the data and checking target feature for imbalance as well as finding how many binary and categorical  features are present in the data. I checked and visualized the imbalance in target feature and then balanced the data using random under-sampling. I performed missing value analysis and cleaned the data,filled the  missing values accordingly. \n",
    "\n",
    "I found some important inferences for the whole dataset and created 4 simple sub-datasets based on 4 types of datatypes(binary,categorical,ordinal,interval) and then found some inferences for interval,ordinal and binary features.\n",
    "I peformed correlation analysis on interval and ordinal features,one-hot encoded the categorical features and selected features from set of categorical and interval features using a histogram to apply StandardScaler on them.\n",
    "\n",
    "The EDA task was quite challenging for me, and also taught me some new concepts\n",
    "that can be now easily applied by me in any EDA project in the future. I learnt about the importance of finding inferences from the data and how  to recognize features such as ordinal and interval  features from their histograms. \n",
    "Other challenges i had was handling a vast number of features.\n",
    "\n",
    "Some questions in the EDA section were not answered in order as i felt that those tasks should be solved after some other main tasks."
   ]
  },
  {
   "cell_type": "markdown",
   "metadata": {
    "colab_type": "text",
    "id": "JU_M2336K7Ej"
   },
   "source": [
    "#Modeling Section\n",
    "\n",
    "##Tasks to be peformed\n",
    "Following are the deliverables (.ipynb files), which needed to be developed with respect to Modeling :\n",
    "\n",
    "1. The Simple Logistic Regression Model seems to have high accuracy. Is that what we need at\n",
    "all? What is the problem with this model?\n",
    "2. Why do you think f1-score is 0.0?\n",
    "3. What is the precision and recall score for the model?\n",
    "4. What is the most important inference you can draw from the result?\n",
    "5. What is the accuracy score and f1-score for the improved Logistic Regression model?\n",
    "6. Why do you think f1-score has improved?\n",
    "7. For model LinearSVC play with parameters – dual, max_iter and see if there is any\n",
    "improvement\n",
    "8. SVC with Imbalance Check & Feature Optimization & only 100K Records → is there\n",
    "improvement in scores?\n",
    "9. XGBoost is one the better classifiers -- but still f1-score is very low. What could be the\n",
    "reason?\n",
    "10. What is the increase in number of features after one-hot encoding of the data?\n",
    "11. Is there any improvement in scores after encoding?\n",
    "12. If not missing a positive sample is the priority which model is best so far?\n",
    "13. If not marking negative sample as positive is top priority, which model is best so far?\n",
    "14. Do you think using AdaBoost can give any significant improvement over XGBoost?\n",
    "15. MLPClassifier is the neural network we are trying. But how to choose the right no. of layers\n",
    "and size?\n",
    "16. At what layer size we get the best f1-score?\n",
    "\n",
    "\n"
   ]
  },
  {
   "cell_type": "code",
   "execution_count": 128,
   "metadata": {
    "colab": {
     "base_uri": "https://localhost:8080/",
     "height": 34
    },
    "colab_type": "code",
    "id": "wIBD2Z34CFU6",
    "outputId": "adde2a5a-f117-4bce-b10e-f1da7e76882f"
   },
   "outputs": [
    {
     "name": "stdout",
     "output_type": "stream",
     "text": [
      "(180212, 45) (180212,)\n"
     ]
    }
   ],
   "source": [
    "X = data_features.drop([\"target\"],axis=1)\n",
    "Y = data_features[\"target\"]\n",
    "print(X.shape,Y.shape)"
   ]
  },
  {
   "cell_type": "code",
   "execution_count": 129,
   "metadata": {
    "colab": {
     "base_uri": "https://localhost:8080/",
     "height": 51
    },
    "colab_type": "code",
    "id": "oesiTneLYLt0",
    "outputId": "f292ebbb-c99b-41cf-ccfe-4f015f776516"
   },
   "outputs": [
    {
     "name": "stdout",
     "output_type": "stream",
     "text": [
      "(144169, 45) (36043, 45)\n",
      "(144169,) (36043,)\n"
     ]
    }
   ],
   "source": [
    "from sklearn.model_selection import train_test_split\n",
    "x_train,x_test,y_train,y_test = train_test_split(X,Y,test_size=0.2,random_state=42)\n",
    "print(x_train.shape,x_test.shape)\n",
    "print(y_train.shape,y_test.shape)"
   ]
  },
  {
   "cell_type": "code",
   "execution_count": 130,
   "metadata": {
    "colab": {},
    "colab_type": "code",
    "id": "3C1aVbgG8Xlf"
   },
   "outputs": [],
   "source": [
    "from sklearn.linear_model import LogisticRegression\n",
    "\n",
    "LR = LogisticRegression(solver='saga', max_iter=2000,random_state=42)\n",
    "LR.fit(x_train,y_train)\n",
    "Ypred_LR = LR.predict(x_test)"
   ]
  },
  {
   "cell_type": "code",
   "execution_count": 131,
   "metadata": {
    "colab": {
     "base_uri": "https://localhost:8080/",
     "height": 34
    },
    "colab_type": "code",
    "id": "VdUbU4Oc2YzR",
    "outputId": "aa1332e4-5e09-49a9-aa66-d555f0f97d0a"
   },
   "outputs": [
    {
     "name": "stdout",
     "output_type": "stream",
     "text": [
      "the accuracy score in percentage is : 87.96\n"
     ]
    }
   ],
   "source": [
    "from sklearn.metrics import accuracy_score\n",
    "AC_LR = accuracy_score(y_test,Ypred_LR)*100\n",
    "print(\"the accuracy score in percentage is : %.2f\" % AC_LR)"
   ]
  },
  {
   "cell_type": "code",
   "execution_count": 132,
   "metadata": {
    "colab": {
     "base_uri": "https://localhost:8080/",
     "height": 51
    },
    "colab_type": "code",
    "id": "gW85xrO35KY2",
    "outputId": "8e177a8b-6843-4767-eb28-28b0c447b52f"
   },
   "outputs": [
    {
     "data": {
      "text/plain": [
       "array([[31703,     0],\n",
       "       [ 4340,     0]])"
      ]
     },
     "execution_count": 132,
     "metadata": {
      "tags": []
     },
     "output_type": "execute_result"
    }
   ],
   "source": [
    "from sklearn.metrics import confusion_matrix\n",
    "CM_LR = confusion_matrix(y_test,Ypred_LR)\n",
    "CM_LR "
   ]
  },
  {
   "cell_type": "markdown",
   "metadata": {
    "colab_type": "text",
    "id": "ek4OeasJLIHH"
   },
   "source": [
    "**Q-1** The Simple Logistic Regression Model seems to have high accuracy. Is that what we need at\n",
    "all? What is the problem with this model?\n",
    "\n",
    "*Ans-1*\n",
    "\n",
    "At first look, it looks that the model will work great as it has a high accuracy score but on printing the confusion matrix it is found out that the no. of true positive values and false positive values for this model  is 0, which means that it is not at at all an accurate model as will be seen from results of other model evaluation metrics."
   ]
  },
  {
   "cell_type": "code",
   "execution_count": 133,
   "metadata": {
    "colab": {
     "base_uri": "https://localhost:8080/",
     "height": 34
    },
    "colab_type": "code",
    "id": "gyFq6WlC6sRh",
    "outputId": "ddfdd7d9-a270-403c-973f-53a5e80e6224"
   },
   "outputs": [
    {
     "name": "stdout",
     "output_type": "stream",
     "text": [
      "the f1_score is : 0.0\n"
     ]
    }
   ],
   "source": [
    "from sklearn.metrics import f1_score\n",
    "print(\"the f1_score is : %.1f\" % f1_score(y_test,Ypred_LR))"
   ]
  },
  {
   "cell_type": "markdown",
   "metadata": {
    "colab_type": "text",
    "id": "2Hi0scP6MvAZ"
   },
   "source": [
    "**Q-2** Why do you think f1-score is 0.0?\n",
    "\n",
    "*Ans-2*\n",
    "\n",
    "The number of true positive values for this model is 0, because of which values of precision and recall also  came out to be 0 and ultimately f1-score is also 0."
   ]
  },
  {
   "cell_type": "code",
   "execution_count": 134,
   "metadata": {
    "colab": {
     "base_uri": "https://localhost:8080/",
     "height": 105
    },
    "colab_type": "code",
    "id": "9dq5NjT36KIg",
    "outputId": "82e1bc44-4a95-4cb4-c142-39b0281676fd"
   },
   "outputs": [
    {
     "name": "stdout",
     "output_type": "stream",
     "text": [
      "Precision score is : 0.00\n",
      "Recall score is : 0.00\n"
     ]
    },
    {
     "name": "stderr",
     "output_type": "stream",
     "text": [
      "/usr/local/lib/python3.6/dist-packages/sklearn/metrics/_classification.py:1272: UndefinedMetricWarning: Precision is ill-defined and being set to 0.0 due to no predicted samples. Use `zero_division` parameter to control this behavior.\n",
      "  _warn_prf(average, modifier, msg_start, len(result))\n"
     ]
    }
   ],
   "source": [
    "from sklearn.metrics import precision_score, recall_score\n",
    "print(\"Precision score is : %.2f\" % precision_score(y_test,Ypred_LR,zero_division=\"warn\"))\n",
    "print(\"Recall score is : %.2f\" % recall_score(y_test,Ypred_LR))\n"
   ]
  },
  {
   "cell_type": "markdown",
   "metadata": {
    "colab_type": "text",
    "id": "9DAI5WLtRk3l"
   },
   "source": [
    "**Q-3** What is the precision and recall score for the model?\n",
    "\n",
    "*Ans-3*\n",
    "\n",
    "the precision score and recall score is as follows:\n",
    "\n",
    "Precision score is : 0.00\n",
    "\n",
    "Recall score is : 0.00\n",
    "\n",
    "this happened as a result of no. of true positive values being 0."
   ]
  },
  {
   "cell_type": "markdown",
   "metadata": {
    "colab_type": "text",
    "id": "IZn9mWjmRvOj"
   },
   "source": [
    "**Q-4** What is the most important inference you can draw from the result?\n",
    "\n",
    "*Ans-4*\n",
    "\n",
    "The most important inference that can be drawn from the above result is that accuracy_score alone is not enough in determining the strength of a model, other metrics are also equally important in determining the strengh of a model  and finding anomalies in the data.\n",
    "  "
   ]
  },
  {
   "cell_type": "code",
   "execution_count": 135,
   "metadata": {
    "colab": {
     "base_uri": "https://localhost:8080/",
     "height": 51
    },
    "colab_type": "code",
    "id": "VHceUelSJFwr",
    "outputId": "d87d1abf-5b83-4e81-e28f-a62702e797cd"
   },
   "outputs": [
    {
     "data": {
      "text/plain": [
       "array([[19320, 12383],\n",
       "       [ 1932,  2408]])"
      ]
     },
     "execution_count": 135,
     "metadata": {
      "tags": []
     },
     "output_type": "execute_result"
    }
   ],
   "source": [
    "LR2 = LogisticRegression(solver='saga',max_iter=2000,random_state=42,class_weight='balanced')\n",
    "LR2.fit(x_train,y_train)\n",
    "Ypred_LR2 = LR2.predict(x_test)\n",
    "\n",
    "CM_LR2 = confusion_matrix(y_test,Ypred_LR2)\n",
    "CM_LR2"
   ]
  },
  {
   "cell_type": "code",
   "execution_count": 136,
   "metadata": {
    "colab": {
     "base_uri": "https://localhost:8080/",
     "height": 51
    },
    "colab_type": "code",
    "id": "xhI18_OuJGFy",
    "outputId": "6bafb26d-755d-4c76-8b4a-83804d74f6ca"
   },
   "outputs": [
    {
     "name": "stdout",
     "output_type": "stream",
     "text": [
      "the accuracy score in percentage is : 60.28\n",
      "the f1_score  is : 0.25\n"
     ]
    }
   ],
   "source": [
    "AC_LR2 = accuracy_score(y_test,Ypred_LR2)*100\n",
    "F1_LR2 = f1_score(y_test,Ypred_LR2)\n",
    "print(\"the accuracy score in percentage is : %.2f\" % AC_LR2)\n",
    "print(\"the f1_score  is : %.2f\" % F1_LR2)"
   ]
  },
  {
   "cell_type": "markdown",
   "metadata": {
    "colab_type": "text",
    "id": "4chgLYMIRmnr"
   },
   "source": [
    "**Q-5** *What is the accuracy score and f1-score for the improved Logistic Regression model ?*\n",
    "\n",
    "Ans-5\n",
    "\n",
    "the accuracy score and f1-score for the improved Logistic Regression model is as follows:\n",
    "\n",
    "the accuracy score in percentage comes to be around near 60% everytime\n",
    "\n",
    "the f1_score  is : 0.25\n",
    "\n",
    "in improving the model, the accuracy score decreased while the f1_score improved "
   ]
  },
  {
   "cell_type": "markdown",
   "metadata": {
    "colab_type": "text",
    "id": "wKCXOvQmJehU"
   },
   "source": [
    "**Q-6** *Why do you think f1-score has improved?*\n",
    "\n",
    "Ans-6 \n",
    "\n",
    "The f1-score improved because of using the class_weights parameter in LogisticRegression and setting it to \"balanced\"."
   ]
  },
  {
   "cell_type": "code",
   "execution_count": 137,
   "metadata": {
    "colab": {},
    "colab_type": "code",
    "id": "jKEyMimPNh1f"
   },
   "outputs": [],
   "source": [
    "from sklearn.svm import LinearSVC\n",
    "SVC = LinearSVC(dual=False,max_iter=2000)\n",
    "SVC.fit(x_train,y_train)\n",
    "Ypred_SVC = SVC.predict(x_test)"
   ]
  },
  {
   "cell_type": "code",
   "execution_count": 138,
   "metadata": {
    "colab": {
     "base_uri": "https://localhost:8080/",
     "height": 34
    },
    "colab_type": "code",
    "id": "N8rtjV86Iekf",
    "outputId": "c7eaa757-743c-4638-d503-e0b31d7d8704"
   },
   "outputs": [
    {
     "data": {
      "text/plain": [
       "87.95882695669061"
      ]
     },
     "execution_count": 138,
     "metadata": {
      "tags": []
     },
     "output_type": "execute_result"
    }
   ],
   "source": [
    "AC_SVC = accuracy_score(y_test,Ypred_SVC)*100\n",
    "AC_SVC"
   ]
  },
  {
   "cell_type": "code",
   "execution_count": 139,
   "metadata": {
    "colab": {
     "base_uri": "https://localhost:8080/",
     "height": 51
    },
    "colab_type": "code",
    "id": "1tCGbIF0LifO",
    "outputId": "fe2ae6b7-a957-40ff-fabe-c3a82ae00a98"
   },
   "outputs": [
    {
     "data": {
      "text/plain": [
       "array([[31703,     0],\n",
       "       [ 4340,     0]])"
      ]
     },
     "execution_count": 139,
     "metadata": {
      "tags": []
     },
     "output_type": "execute_result"
    }
   ],
   "source": [
    "CM_SVC = confusion_matrix(y_test,Ypred_SVC,)\n",
    "CM_SVC"
   ]
  },
  {
   "cell_type": "code",
   "execution_count": 140,
   "metadata": {
    "colab": {
     "base_uri": "https://localhost:8080/",
     "height": 34
    },
    "colab_type": "code",
    "id": "pypvu0IOIwHg",
    "outputId": "e34349c8-12b1-4cc5-9713-ee9abdb60762"
   },
   "outputs": [
    {
     "data": {
      "text/plain": [
       "0.0"
      ]
     },
     "execution_count": 140,
     "metadata": {
      "tags": []
     },
     "output_type": "execute_result"
    }
   ],
   "source": [
    "f1_SVC = f1_score(y_test,Ypred_SVC)\n",
    "f1_SVC"
   ]
  },
  {
   "cell_type": "markdown",
   "metadata": {
    "colab_type": "text",
    "id": "lOCOdUPPudwn"
   },
   "source": [
    "**Q-7** *For model LinearSVC play with parameters – dual, max_iter and see if there is any improvement.*\n",
    "\n",
    "*Ans-7*\n",
    "\n",
    "After implementing LinearSVC and playing with parameters dual and max_iter, there was a great improvement in the f1-score of the model.\n",
    "the model didn't even converge if the parameter dual is not set to False, and on trying many different values in max_iter parameter, we found that the "
   ]
  },
  {
   "cell_type": "code",
   "execution_count": 141,
   "metadata": {
    "colab": {
     "base_uri": "https://localhost:8080/",
     "height": 34
    },
    "colab_type": "code",
    "id": "xCNDZ8irNh29",
    "outputId": "ea0fbe24-9e98-443d-a211-9e8f9222df3c"
   },
   "outputs": [
    {
     "data": {
      "text/plain": [
       "(100000, 46)"
      ]
     },
     "execution_count": 141,
     "metadata": {
      "tags": []
     },
     "output_type": "execute_result"
    }
   ],
   "source": [
    "# Creating a sample with only 100K records\n",
    "data_100K = data_features.sample(n=100000,random_state=1,axis=0)\n",
    "data_100K.shape"
   ]
  },
  {
   "cell_type": "code",
   "execution_count": 142,
   "metadata": {
    "colab": {
     "base_uri": "https://localhost:8080/",
     "height": 386
    },
    "colab_type": "code",
    "id": "u5ZKbxsQrxUM",
    "outputId": "1740c94b-8c5e-453f-b077-118b252b42cf"
   },
   "outputs": [
    {
     "name": "stdout",
     "output_type": "stream",
     "text": [
      "87879 12121\n"
     ]
    },
    {
     "data": {
      "image/png": "[encoded data removed]",
      "text/plain": [
       "<Figure size 360x360 with 1 Axes>"
      ]
     },
     "metadata": {
      "needs_background": "light",
      "tags": []
     },
     "output_type": "display_data"
    }
   ],
   "source": [
    "# Imbalance Check\n",
    "sns.catplot(\"target\",data = data_100K,kind=\"count\")\n",
    "N0 = data_100K[data_100K[\"target\"]==0].shape[0]\n",
    "N1 = data_100K[data_100K[\"target\"]==1].shape[0]\n",
    "print(N0,N1)"
   ]
  },
  {
   "cell_type": "markdown",
   "metadata": {
    "colab_type": "text",
    "id": "TNtfbsbtmotF"
   },
   "source": [
    "As the percentage of minority class is almost 12%, the data is at a manageable rate of imbalance. "
   ]
  },
  {
   "cell_type": "code",
   "execution_count": 143,
   "metadata": {
    "colab": {},
    "colab_type": "code",
    "id": "gCDejf6e8ZGd"
   },
   "outputs": [],
   "source": [
    "def plot_feature_importance(importance,names,model_type):\n",
    "\n",
    "            #Create arrays from feature importance and feature names\n",
    "            feature_importance = np.array(importance)\n",
    "            feature_names = np.array(names)\n",
    "\n",
    "            #Create a DataFrame using a Dictionary\n",
    "            data={'feature_names':feature_names,'feature_importance':feature_importance}\n",
    "            fi_df = pd.DataFrame(data)\n",
    "\n",
    "            #Sort the DataFrame in order decreasing feature importance\n",
    "            fi_df.sort_values(by=['feature_importance'],ascending=False,inplace=True)\n",
    "\n",
    "            #Define size of bar plot\n",
    "            plt.figure(figsize=(10,8))\n",
    "            #Plot Searborn bar chart\n",
    "            sns.barplot(x=fi_df['feature_importance'], y=fi_df['feature_names'])\n",
    "            #Add chart labels\n",
    "            plt.title(model_type + 'FEATURE IMPORTANCE')\n",
    "            plt.xlabel('FEATURE IMPORTANCE')\n",
    "            plt.ylabel('FEATURE NAMES')\n",
    "\n",
    "\n",
    "def top_25_features(data,model):\n",
    "          featureImp =[]\n",
    "          for feat, importance in zip(data.columns, model.feature_importances_):  \n",
    "                temp = [feat, importance*100]\n",
    "                featureImp.append(temp)\n",
    "\n",
    "          fT_df = pd.DataFrame(featureImp, columns = ['Feature', 'Importance'])\n",
    "          top15_df = fT_df.sort_values('Importance', ascending = False).head(25)\n",
    "          return list(top15_df[\"Feature\"])            "
   ]
  },
  {
   "cell_type": "code",
   "execution_count": 144,
   "metadata": {
    "colab": {
     "base_uri": "https://localhost:8080/",
     "height": 51
    },
    "colab_type": "code",
    "id": "u7YNCW0Thezq",
    "outputId": "3a6021f5-c874-4595-9094-1f26f85574a6"
   },
   "outputs": [
    {
     "name": "stdout",
     "output_type": "stream",
     "text": [
      "(80000, 45) (20000, 45)\n",
      "(80000,) (20000,)\n"
     ]
    }
   ],
   "source": [
    "X_100K = data_100K.drop(\"target\",axis=1)\n",
    "Y_100K = data_100K.target\n",
    "x_train_100K,x_test_100K,y_train_100K,y_test_100K = train_test_split(X_100K,Y_100K,test_size=0.2,random_state=1)\n",
    "print(x_train_100K.shape,x_test_100K.shape)\n",
    "print(y_train_100K.shape,y_test_100K.shape)"
   ]
  },
  {
   "cell_type": "code",
   "execution_count": 145,
   "metadata": {
    "colab": {
     "base_uri": "https://localhost:8080/",
     "height": 513
    },
    "colab_type": "code",
    "id": "Dp5XUSRDT-o8",
    "outputId": "bb6ff12d-c277-4cb1-c4b2-21abce5b163f"
   },
   "outputs": [
    {
     "data": {
      "image/png": "[encoded data removed]",
      "text/plain": [
       "<Figure size 720x576 with 1 Axes>"
      ]
     },
     "metadata": {
      "needs_background": "light",
      "tags": []
     },
     "output_type": "display_data"
    }
   ],
   "source": [
    "from sklearn.ensemble import RandomForestClassifier\n",
    "\n",
    "RFC = RandomForestClassifier()\n",
    "RFC.fit(x_train_100K,y_train_100K)\n",
    "\n",
    "plot_feature_importance(RFC.feature_importances_,x_train_100K.columns,\"RFC \")"
   ]
  },
  {
   "cell_type": "code",
   "execution_count": 146,
   "metadata": {
    "colab": {
     "base_uri": "https://localhost:8080/",
     "height": 442
    },
    "colab_type": "code",
    "id": "BABxPoibsFbT",
    "outputId": "8a394670-5bc4-4dcb-dc5d-d66e92d5264b"
   },
   "outputs": [
    {
     "data": {
      "text/plain": [
       "['ps_car_11_cat_te',\n",
       " 'ps_car_13',\n",
       " 'ps_calc_10',\n",
       " 'ps_calc_14',\n",
       " 'ps_ind_03',\n",
       " 'ps_calc_11',\n",
       " 'ps_ind_15',\n",
       " 'ps_reg_02',\n",
       " 'ps_calc_03',\n",
       " 'ps_calc_02',\n",
       " 'ps_calc_01',\n",
       " 'ps_calc_13',\n",
       " 'ps_calc_08',\n",
       " 'ps_car_15',\n",
       " 'ps_calc_07',\n",
       " 'ps_calc_06',\n",
       " 'ps_reg_01',\n",
       " 'ps_calc_09',\n",
       " 'ps_car_06_cat',\n",
       " 'ps_ind_01',\n",
       " 'ps_calc_04',\n",
       " 'ps_car_12',\n",
       " 'ps_calc_05',\n",
       " 'ps_calc_12',\n",
       " 'ps_car_01_cat']"
      ]
     },
     "execution_count": 146,
     "metadata": {
      "tags": []
     },
     "output_type": "execute_result"
    }
   ],
   "source": [
    "optimized_features = top_25_features(x_train_100K,RFC)\n",
    "optimized_features"
   ]
  },
  {
   "cell_type": "code",
   "execution_count": 147,
   "metadata": {
    "colab": {
     "base_uri": "https://localhost:8080/",
     "height": 51
    },
    "colab_type": "code",
    "id": "xbsJQmgLYldy",
    "outputId": "4f050d7a-d0b5-45b7-bfd3-63eb95e17e25"
   },
   "outputs": [
    {
     "name": "stdout",
     "output_type": "stream",
     "text": [
      "(80000, 25) (20000, 25)\n",
      "(80000,) (20000,)\n"
     ]
    }
   ],
   "source": [
    "X_100K = data_100K[optimized_features]\n",
    "Y_100K = data_100K.target\n",
    "x_train_100K,x_test_100K,y_train_100K,y_test_100K = train_test_split(X_100K,Y_100K,test_size=0.2,random_state=1)\n",
    "print(x_train_100K.shape,x_test_100K.shape)\n",
    "print(y_train_100K.shape,y_test_100K.shape)"
   ]
  },
  {
   "cell_type": "code",
   "execution_count": 148,
   "metadata": {
    "colab": {},
    "colab_type": "code",
    "id": "GdqJ_PY8iW0A"
   },
   "outputs": [],
   "source": [
    "from sklearn.svm import LinearSVC\n",
    "SVC2 = LinearSVC(dual=False,max_iter=3500)\n",
    "SVC2.fit(x_train_100K,y_train_100K)\n",
    "Ypred_SVC2 = SVC2.predict(x_test_100K)"
   ]
  },
  {
   "cell_type": "code",
   "execution_count": 149,
   "metadata": {
    "colab": {
     "base_uri": "https://localhost:8080/",
     "height": 34
    },
    "colab_type": "code",
    "id": "7Jfiu3oki_aW",
    "outputId": "acfbc222-2a90-471b-a348-c06835185df2"
   },
   "outputs": [
    {
     "data": {
      "text/plain": [
       "87.96000000000001"
      ]
     },
     "execution_count": 149,
     "metadata": {
      "tags": []
     },
     "output_type": "execute_result"
    }
   ],
   "source": [
    "AC_SVC2 = accuracy_score(y_test_100K,Ypred_SVC2)*100\n",
    "AC_SVC2"
   ]
  },
  {
   "cell_type": "code",
   "execution_count": 150,
   "metadata": {
    "colab": {
     "base_uri": "https://localhost:8080/",
     "height": 34
    },
    "colab_type": "code",
    "id": "n8KnXrrkjAOl",
    "outputId": "3cd56051-b0c0-4954-b5d6-71bac3ab9f46"
   },
   "outputs": [
    {
     "data": {
      "text/plain": [
       "0.8796"
      ]
     },
     "execution_count": 150,
     "metadata": {
      "tags": []
     },
     "output_type": "execute_result"
    }
   ],
   "source": [
    "f1_SVC2 = f1_score(y_test_100K,Ypred_SVC2,average=\"micro\",zero_division='warn')\n",
    "f1_SVC2"
   ]
  },
  {
   "cell_type": "markdown",
   "metadata": {
    "colab_type": "text",
    "id": "3R8jcE7Yhnux"
   },
   "source": [
    "**Q-8** SVC with Imbalance Check & Feature Optimization & only 100K Records → is there improvement in scores?\n",
    "\n",
    "Ans-8\n",
    "\n",
    "yes, there is an improvement in scores after sampling down to 100K records, performing imbalance check, feature optimization and then applying LinearSVC on the data. The accuracy has increased a little bit and the f1_score has also improved drastically."
   ]
  },
  {
   "cell_type": "code",
   "execution_count": 151,
   "metadata": {
    "colab": {
     "base_uri": "https://localhost:8080/",
     "height": 136
    },
    "colab_type": "code",
    "id": "gSKfiEtIIygZ",
    "outputId": "edaac8ff-fba7-4054-fbee-cd3eaefaeadf"
   },
   "outputs": [
    {
     "data": {
      "text/plain": [
       "XGBClassifier(base_score=0.5, booster='gbtree', colsample_bylevel=1,\n",
       "              colsample_bynode=1, colsample_bytree=0.8, gamma=5,\n",
       "              learning_rate=0.05, max_delta_step=0, max_depth=4,\n",
       "              min_child_weight=1, missing=None, n_estimators=1000, n_jobs=1,\n",
       "              nthread=4, objective='binary:logistic', random_state=0,\n",
       "              reg_alpha=0, reg_lambda=1, scale_pos_weight=1, seed=1234,\n",
       "              silent=None, subsample=0.8, verbosity=1)"
      ]
     },
     "execution_count": 151,
     "metadata": {
      "tags": []
     },
     "output_type": "execute_result"
    }
   ],
   "source": [
    "from xgboost import XGBClassifier\n",
    "\n",
    "XGB = XGBClassifier(learning_rate =0.05,n_estimators=1000,max_depth=4 ,min_child_weight=1, gamma=5, subsample=0.8, colsample_bytree=0.8,objective= 'binary:logistic',nthread=4, scale_pos_weight=1, seed=1234)\n",
    "XGB.fit(x_train,y_train,eval_metric=\"auc\")"
   ]
  },
  {
   "cell_type": "code",
   "execution_count": 152,
   "metadata": {
    "colab": {
     "base_uri": "https://localhost:8080/",
     "height": 34
    },
    "colab_type": "code",
    "id": "MHt8kUYUGvbu",
    "outputId": "88edf7c9-9d0c-46fa-c4fd-2775a9e4f58a"
   },
   "outputs": [
    {
     "data": {
      "text/plain": [
       "87.95605249285575"
      ]
     },
     "execution_count": 152,
     "metadata": {
      "tags": []
     },
     "output_type": "execute_result"
    }
   ],
   "source": [
    "Ypred_XGB = XGB.predict(x_test)\n",
    "AC_XGB = accuracy_score(y_test,Ypred_XGB)*100\n",
    "AC_XGB"
   ]
  },
  {
   "cell_type": "code",
   "execution_count": 153,
   "metadata": {
    "colab": {
     "base_uri": "https://localhost:8080/",
     "height": 51
    },
    "colab_type": "code",
    "id": "fC__BiWJN4Fl",
    "outputId": "d51a67f7-a739-4cc5-f6f9-156d197d19fa"
   },
   "outputs": [
    {
     "data": {
      "text/plain": [
       "array([[31693,    10],\n",
       "       [ 4331,     9]])"
      ]
     },
     "execution_count": 153,
     "metadata": {
      "tags": []
     },
     "output_type": "execute_result"
    }
   ],
   "source": [
    "CM_XGB = confusion_matrix(y_test,Ypred_XGB)\n",
    "CM_XGB "
   ]
  },
  {
   "cell_type": "code",
   "execution_count": 154,
   "metadata": {
    "colab": {
     "base_uri": "https://localhost:8080/",
     "height": 34
    },
    "colab_type": "code",
    "id": "40-K4Nk8Oje9",
    "outputId": "017cfadc-d5d6-44aa-d2ba-207d33a3179e"
   },
   "outputs": [
    {
     "data": {
      "text/plain": [
       "0.0041293874741913286"
      ]
     },
     "execution_count": 154,
     "metadata": {
      "tags": []
     },
     "output_type": "execute_result"
    }
   ],
   "source": [
    "F1_XGB = f1_score(y_test,Ypred_XGB)\n",
    "F1_XGB "
   ]
  },
  {
   "cell_type": "markdown",
   "metadata": {
    "colab_type": "text",
    "id": "Wbtv02HXhzJV"
   },
   "source": [
    "**Q-9** XGBoost is one of the better classifiers -- but still f1-score is very low. What could be the reason?\n",
    "\n",
    "Ans-9\n",
    "\n",
    "f1-score is still very low even after applying XGBoost this tells that when it comes to giving high accuracy and low error, data quality is much  more important than the strength of the algorithm used. \n"
   ]
  },
  {
   "cell_type": "code",
   "execution_count": 155,
   "metadata": {
    "colab": {
     "base_uri": "https://localhost:8080/",
     "height": 51
    },
    "colab_type": "code",
    "id": "3nV4ZJpH0HzB",
    "outputId": "198ebdda-8a8f-4fec-e1c1-ee48ff4e1087"
   },
   "outputs": [
    {
     "name": "stdout",
     "output_type": "stream",
     "text": [
      "Before dummification we have 46 variables in train\n",
      "After dummification we have 61 variables in train\n"
     ]
    }
   ],
   "source": [
    "print('Before dummification we have {} variables in train'.format(data_features.shape[1]))\n",
    "categorical_variables = ['ps_ind_02_cat', 'ps_ind_04_cat', 'ps_car_01_cat', 'ps_car_02_cat']\n",
    "\n",
    "data_features = pd.get_dummies(data_features, columns=categorical_variables, drop_first=True)\n",
    "print('After dummification we have {} variables in train'.format(data_features.shape[1]))"
   ]
  },
  {
   "cell_type": "markdown",
   "metadata": {
    "colab_type": "text",
    "id": "_QLN3id0hpcP"
   },
   "source": [
    "**Q-10**What is the increase in number of features after one-hot encoding of the data?\n",
    "\n",
    "**Ans-10**\n",
    "\n",
    "Number of features after one-hot encoding of the data has increased from 46 features to 61 features.   "
   ]
  },
  {
   "cell_type": "code",
   "execution_count": null,
   "metadata": {
    "colab": {},
    "colab_type": "code",
    "id": "QHKFrxOrKtyF"
   },
   "outputs": [],
   "source": [
    "def top_50_features(data,model):\n",
    "          featureImp =[]\n",
    "          for feat, importance in zip(data.columns, model.feature_importances_):  \n",
    "                temp = [feat, importance*100]\n",
    "                featureImp.append(temp)\n",
    "\n",
    "          fT_df = pd.DataFrame(featureImp, columns = ['Feature', 'Importance'])\n",
    "          top15_df = fT_df.sort_values('Importance', ascending = False).head(50)\n",
    "          return list(top15_df[\"Feature\"])   "
   ]
  },
  {
   "cell_type": "markdown",
   "metadata": {
    "colab_type": "text",
    "id": "RvheWhn62eQd"
   },
   "source": [
    "**Q-11** Is there any improvement in scores after encoding?\n",
    "\n",
    "**Ans-11**\n",
    "\n",
    "I believe there will be no significant improvement in accuracy scores after encoding as only some categorical variables were encoded and the binary variables with huge imbalance are still present."
   ]
  },
  {
   "cell_type": "markdown",
   "metadata": {
    "colab_type": "text",
    "id": "NnzRKrAAFL69"
   },
   "source": [
    "**Q-12** If not missing a positive sample is the priority which model is best so far?\n",
    "\n",
    "**Ans-12**\n",
    "\n",
    "the model which seems to have a priority in not missing a positive sample(highest value of TP), is the improved version of LinearRegression  model(LR2)  with a magnitude approximately near to around 2400."
   ]
  },
  {
   "cell_type": "markdown",
   "metadata": {
    "colab_type": "text",
    "id": "RPLJxWsWFM-h"
   },
   "source": [
    "**Q-13** If not marking negative sample as positive is top priority, which model is best so far?\n",
    "\n",
    "**Ans-13**\n",
    "\n",
    "the model which seems to have a priority in not missing a positive sample(highest value of TN), are the  models LinearRegression(LR) and LinearSVC (SVC)  with a magnitude approximately near to around 32,500.\n"
   ]
  },
  {
   "cell_type": "code",
   "execution_count": 156,
   "metadata": {
    "colab": {},
    "colab_type": "code",
    "id": "hZR3nYfbHszH"
   },
   "outputs": [],
   "source": [
    "from sklearn.ensemble import AdaBoostClassifier\n",
    "AdaB = AdaBoostClassifier()\n",
    "AdaB.fit(x_train,y_train)\n",
    "Ypred_AdaB = AdaB.predict(x_test)"
   ]
  },
  {
   "cell_type": "code",
   "execution_count": 157,
   "metadata": {
    "colab": {
     "base_uri": "https://localhost:8080/",
     "height": 51
    },
    "colab_type": "code",
    "id": "AAlNUSP36IU6",
    "outputId": "8564987e-59af-414e-dbfc-c4e96b578e97"
   },
   "outputs": [
    {
     "data": {
      "text/plain": [
       "array([[31702,     1],\n",
       "       [ 4339,     1]])"
      ]
     },
     "execution_count": 157,
     "metadata": {
      "tags": []
     },
     "output_type": "execute_result"
    }
   ],
   "source": [
    "CM_AdaB = confusion_matrix(y_test,Ypred_AdaB)\n",
    "CM_AdaB"
   ]
  },
  {
   "cell_type": "markdown",
   "metadata": {
    "colab_type": "text",
    "id": "HTSAreWhFNhI"
   },
   "source": [
    "**Q-14** Do you think using AdaBoost can give any significant improvement over XGBoost?\n",
    "\n",
    "**Ans-14** \n",
    "\n",
    "Looking at the confusion matrix of AdaBoost classifier, i think that it's f1_score will be more or less same to that of XGBoost. "
   ]
  },
  {
   "cell_type": "code",
   "execution_count": 158,
   "metadata": {
    "colab": {
     "base_uri": "https://localhost:8080/",
     "height": 34
    },
    "colab_type": "code",
    "id": "rCBemqJ3ISbd",
    "outputId": "9e2eef71-462d-46eb-c59a-db604d94b600"
   },
   "outputs": [
    {
     "data": {
      "text/plain": [
       "0.000460617227084293"
      ]
     },
     "execution_count": 158,
     "metadata": {
      "tags": []
     },
     "output_type": "execute_result"
    }
   ],
   "source": [
    "F1_AdaB = f1_score(y_test,Ypred_AdaB)\n",
    "F1_AdaB"
   ]
  },
  {
   "cell_type": "markdown",
   "metadata": {
    "colab_type": "text",
    "id": "-c6d3zjkFNRO"
   },
   "source": [
    "**Q-15** MLPClassifier is the neural network we are trying. But how to choose the right no. of layers and size?\n",
    "\n",
    "**Ans-15**\n",
    "\n",
    "there is no analytical rule of thumb to choose the right no. of layers and size,but i think that the no. of layers should not be more than 2 or 3 for a classification problem and the size of layers should start from a number close to the no. of features (no. of features is 61, hence i chose 64 as size of first layer) and layer size should decrease while increasing the layer size."
   ]
  },
  {
   "cell_type": "code",
   "execution_count": 170,
   "metadata": {
    "colab": {
     "base_uri": "https://localhost:8080/",
     "height": 153
    },
    "colab_type": "code",
    "id": "WVTUtJfNInPe",
    "outputId": "f84e82b4-9e88-4c09-87b0-7ad22a83341a"
   },
   "outputs": [
    {
     "data": {
      "text/plain": [
       "MLPClassifier(activation='logistic', alpha=0.0001, batch_size='auto',\n",
       "              beta_1=0.9, beta_2=0.999, early_stopping=False, epsilon=1e-08,\n",
       "              hidden_layer_sizes=(64, 16, 4), learning_rate='constant',\n",
       "              learning_rate_init=0.002, max_fun=15000, max_iter=800,\n",
       "              momentum=0.9, n_iter_no_change=10, nesterovs_momentum=True,\n",
       "              power_t=0.5, random_state=1, shuffle=True, solver='adam',\n",
       "              tol=0.0001, validation_fraction=0.1, verbose=False,\n",
       "              warm_start=False)"
      ]
     },
     "execution_count": 170,
     "metadata": {
      "tags": []
     },
     "output_type": "execute_result"
    }
   ],
   "source": [
    "from sklearn.neural_network import MLPClassifier\n",
    "\n",
    "MLP = MLPClassifier(hidden_layer_sizes=(64,16,4), epsilon=1e-08, learning_rate='constant',learning_rate_init=0.002, max_iter=800,activation =\"logistic\",solver='adam',random_state=1)\n",
    "MLP.fit(x_train,y_train)"
   ]
  },
  {
   "cell_type": "code",
   "execution_count": 171,
   "metadata": {
    "colab": {
     "base_uri": "https://localhost:8080/",
     "height": 51
    },
    "colab_type": "code",
    "id": "VuFsjI18WEe5",
    "outputId": "8e868908-7955-42bb-c498-804f3f531818"
   },
   "outputs": [
    {
     "data": {
      "text/plain": [
       "array([[31424,   279],\n",
       "       [ 4257,    83]])"
      ]
     },
     "execution_count": 171,
     "metadata": {
      "tags": []
     },
     "output_type": "execute_result"
    }
   ],
   "source": [
    "Ypred_MLP = MLP.predict(x_test)\n",
    "CM_MLP = confusion_matrix(y_test,Ypred_MLP)\n",
    "CM_MLP"
   ]
  },
  {
   "cell_type": "code",
   "execution_count": 172,
   "metadata": {
    "colab": {
     "base_uri": "https://localhost:8080/",
     "height": 34
    },
    "colab_type": "code",
    "id": "IEmZYn6gpL80",
    "outputId": "9c259d3b-c570-4440-c376-c84b00405460"
   },
   "outputs": [
    {
     "data": {
      "text/plain": [
       "0.0353041259038707"
      ]
     },
     "execution_count": 172,
     "metadata": {
      "tags": []
     },
     "output_type": "execute_result"
    }
   ],
   "source": [
    "F1_MLP =f1_score(y_test,Ypred_MLP)\n",
    "F1_MLP"
   ]
  },
  {
   "cell_type": "markdown",
   "metadata": {
    "colab_type": "text",
    "id": "kDuj3FJJMf-L"
   },
   "source": [
    "**Q-16** At what layer size we get the best f1-score?\n",
    "\n",
    "**Ans-16**\n",
    "\n",
    "The no. of layers is 3 and the layer size is (64,16,4) which gave an f1_score of 0.035 which was the best ever in the last 5 iterations after trying a lot of changes in layer sizes and many other hyperparameters of the MLP model such as \"learning_rate_init\" and \"max_iter\"."
   ]
  }
 ],
 "metadata": {
  "accelerator": "GPU",
  "colab": {
   "collapsed_sections": [],
   "name": "Auto-insurance",
   "provenance": []
  },
  "kernelspec": {
   "display_name": "Python 3",
   "language": "python",
   "name": "python3"
  },
  "language_info": {
   "codemirror_mode": {
    "name": "ipython",
    "version": 3
   },
   "file_extension": ".py",
   "mimetype": "text/x-python",
   "name": "python",
   "nbconvert_exporter": "python",
   "pygments_lexer": "ipython3",
   "version": "3.8.5"
  }
 },
 "nbformat": 4,
 "nbformat_minor": 1
}
