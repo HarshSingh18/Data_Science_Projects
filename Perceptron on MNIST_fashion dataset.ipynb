{
 "cells": [
  {
   "cell_type": "markdown",
   "metadata": {
    "colab_type": "text",
    "id": "SXFT6VHBKDLM"
   },
   "source": [
    "#  **Perceptron on MNIST_fashion dataset**\n",
    "\n",
    "\n",
    "**Problem Statement**\n",
    "\n",
    "This dataset includes images of certain clothing and accessory. The objective is to classify images into specific classes using single layer perceptron and multilayer perceptron.\n",
    "\n",
    "**Dataset Description**\n",
    "\n",
    "Total Images: 70,000\n",
    "\n",
    "Train Images: 60,000\n",
    "\n",
    "Test Images: 10,000\n",
    "\n",
    "Image Size: 28 X 28\n",
    "\n",
    "Classes: 'T-shirt/top', 'Trouser', 'Pullover', 'Dress', 'Coat', 'Sandal', 'Shirt', 'Sneaker', 'Bag', 'Ankle Boot'\n",
    "\n",
    "**Tasks to be Performed:** \n",
    "\n",
    "As a part of this assignment I will be performing the following tasks:\n",
    "\n",
    "* Prepare a detailed python notebook(similar to this one) using multi-layer perceptron for classifing the images from MNIST Fashion Dataset with best accuracy\n",
    "*  Prepare the dataset for the model\n",
    "*  Develop Single Layer Perceptron model for classifying the 10 labels of clothes from fashion_mnist dataset\n",
    "*  Plot the change in accuracy per epochs\n",
    "*   Evaluate the model on the testing data\n",
    "*   Analyse the model summary\n",
    "*   Add hidden layer to the model to make it Multi-Layer Perceptron\n",
    "*   Add Dropout to prevent overfitting and check its effect on accuracy\n",
    "*   Increasing the number of Hidden Layer neuron and check its effect on     accuracy\n",
    "*   Use different optimizers and check its effect on accuracy\n",
    "*   Manipulate the batch_size and epochs and check its effect on accuracy\n",
    "\n",
    "**Question:** \n",
    "\n",
    "What parameters should be choosen to get best accuracy on classifying the images into various categories?"
   ]
  },
  {
   "cell_type": "code",
   "execution_count": 1,
   "metadata": {
    "colab": {},
    "colab_type": "code",
    "executionInfo": {
     "elapsed": 2692,
     "status": "ok",
     "timestamp": 1592562177038,
     "user": {
      "displayName": "harsh singh (RA1711003030254)",
      "photoUrl": "",
      "userId": "08414003933291615273"
     },
     "user_tz": -330
    },
    "id": "7kkxmv6SNnTe"
   },
   "outputs": [],
   "source": [
    "import tensorflow as tf\n",
    "from tensorflow import keras"
   ]
  },
  {
   "cell_type": "markdown",
   "metadata": {
    "colab_type": "text",
    "id": "tNYNQ7F1qcXv"
   },
   "source": [
    "# **Prepare the dataset for the model**"
   ]
  },
  {
   "cell_type": "code",
   "execution_count": 2,
   "metadata": {
    "colab": {
     "base_uri": "https://localhost:8080/",
     "height": 153
    },
    "colab_type": "code",
    "executionInfo": {
     "elapsed": 1880,
     "status": "ok",
     "timestamp": 1592562180355,
     "user": {
      "displayName": "harsh singh (RA1711003030254)",
      "photoUrl": "",
      "userId": "08414003933291615273"
     },
     "user_tz": -330
    },
    "id": "sFRJNNwsN-8x",
    "outputId": "94744ec4-1190-45dc-edf9-51e6d5bf7fad"
   },
   "outputs": [],
   "source": [
    "F_mnist = keras.datasets.fashion_mnist \n",
    "(X_train, Y_train), (X_test, Y_test) = F_mnist.load_data()"
   ]
  },
  {
   "cell_type": "code",
   "execution_count": 3,
   "metadata": {
    "colab": {
     "base_uri": "https://localhost:8080/",
     "height": 51
    },
    "colab_type": "code",
    "executionInfo": {
     "elapsed": 1341,
     "status": "ok",
     "timestamp": 1592562185044,
     "user": {
      "displayName": "harsh singh (RA1711003030254)",
      "photoUrl": "",
      "userId": "08414003933291615273"
     },
     "user_tz": -330
    },
    "id": "rreEgpyVXmUk",
    "outputId": "7c75569d-328e-4fe0-dc7a-82ec45dc883c"
   },
   "outputs": [
    {
     "name": "stdout",
     "output_type": "stream",
     "text": [
      "(60000, 28, 28)\n",
      "(10000, 28, 28)\n"
     ]
    }
   ],
   "source": [
    "print(X_train.shape)\n",
    "print(X_test.shape)"
   ]
  },
  {
   "cell_type": "code",
   "execution_count": 4,
   "metadata": {
    "colab": {},
    "colab_type": "code",
    "executionInfo": {
     "elapsed": 1283,
     "status": "ok",
     "timestamp": 1592562188815,
     "user": {
      "displayName": "harsh singh (RA1711003030254)",
      "photoUrl": "",
      "userId": "08414003933291615273"
     },
     "user_tz": -330
    },
    "id": "0CsCGhXNXwrw"
   },
   "outputs": [],
   "source": [
    "X_train = X_train.astype('float32')\n",
    "X_test = X_test.astype('float32') "
   ]
  },
  {
   "cell_type": "code",
   "execution_count": 5,
   "metadata": {
    "colab": {
     "base_uri": "https://localhost:8080/",
     "height": 51
    },
    "colab_type": "code",
    "executionInfo": {
     "elapsed": 1322,
     "status": "ok",
     "timestamp": 1592562248697,
     "user": {
      "displayName": "harsh singh (RA1711003030254)",
      "photoUrl": "",
      "userId": "08414003933291615273"
     },
     "user_tz": -330
    },
    "id": "4K-9yWXZYPY4",
    "outputId": "7e18e866-870c-41e9-b3d3-55e2689d0187"
   },
   "outputs": [
    {
     "name": "stdout",
     "output_type": "stream",
     "text": [
      "60000 train samples\n",
      "10000 test samples\n"
     ]
    }
   ],
   "source": [
    "X_train = X_train.reshape(60000,784)\n",
    "X_test = X_test.reshape(10000,784)\n",
    "\n",
    "X_train = X_train.astype('float32')\n",
    "X_test = X_test.astype('float32') \n",
    "\n",
    "# Normalizing the input to be within the range [0,1]\n",
    "X_train /= 255\n",
    "#intensity of each pixel is divided by 255, the maximum intensity value\n",
    "X_test /= 255\n",
    "print(X_train.shape[0], 'train samples') \n",
    "print(X_test.shape[0], 'test samples') \n",
    "\n",
    "# One-hot representation of the labels.\n",
    "Y_train = tf.keras.utils.to_categorical(Y_train, 10) \n",
    "Y_test = tf.keras.utils.to_categorical(Y_test, 10)\n"
   ]
  },
  {
   "cell_type": "markdown",
   "metadata": {
    "colab_type": "text",
    "id": "vUEJ1uCdg5_E"
   },
   "source": [
    "\n",
    "# **Develop Single Layer Perceptron model for classifying the 10 labels of clothes from fashion_mnist dataset**"
   ]
  },
  {
   "cell_type": "code",
   "execution_count": 6,
   "metadata": {
    "colab": {},
    "colab_type": "code",
    "executionInfo": {
     "elapsed": 1229,
     "status": "ok",
     "timestamp": 1592562197288,
     "user": {
      "displayName": "harsh singh (RA1711003030254)",
      "photoUrl": "",
      "userId": "08414003933291615273"
     },
     "user_tz": -330
    },
    "id": "NzY-yvUdZrJl"
   },
   "outputs": [],
   "source": [
    "import tensorflow as tf\n",
    "from tensorflow.keras.layers import Dense\n",
    "from tensorflow.keras import Sequential\n",
    "model_0 = Sequential()\n",
    "# Now the model will take as input arrays of shape (*, 784)\n",
    "# output arrays of shape (*, 10)\n",
    "model_0.add(Dense(10,input_shape=(784,),name='dense_layer', activation='softmax')) "
   ]
  },
  {
   "cell_type": "code",
   "execution_count": 7,
   "metadata": {
    "colab": {},
    "colab_type": "code",
    "executionInfo": {
     "elapsed": 4694,
     "status": "ok",
     "timestamp": 1592562211891,
     "user": {
      "displayName": "harsh singh (RA1711003030254)",
      "photoUrl": "",
      "userId": "08414003933291615273"
     },
     "user_tz": -330
    },
    "id": "1cnH9hjpfZxU"
   },
   "outputs": [],
   "source": [
    "\n",
    "def comp(model,opt):\n",
    "   model.compile( optimizer= opt, loss='categorical_crossentropy',metrics=['accuracy'])\n"
   ]
  },
  {
   "cell_type": "code",
   "execution_count": 8,
   "metadata": {
    "colab": {},
    "colab_type": "code",
    "executionInfo": {
     "elapsed": 1615,
     "status": "ok",
     "timestamp": 1592562214362,
     "user": {
      "displayName": "harsh singh (RA1711003030254)",
      "photoUrl": "",
      "userId": "08414003933291615273"
     },
     "user_tz": -330
    },
    "id": "GqZA-YCinMMl"
   },
   "outputs": [],
   "source": [
    "def show_test_acc(model):\n",
    "   test_loss, test_acc = model.evaluate(X_test, Y_test)\n",
    "   print('Test accuracy:', test_acc)"
   ]
  },
  {
   "cell_type": "code",
   "execution_count": 9,
   "metadata": {
    "colab": {},
    "colab_type": "code",
    "executionInfo": {
     "elapsed": 907,
     "status": "ok",
     "timestamp": 1592562220704,
     "user": {
      "displayName": "harsh singh (RA1711003030254)",
      "photoUrl": "",
      "userId": "08414003933291615273"
     },
     "user_tz": -330
    },
    "id": "-W4tFwYhi2eN"
   },
   "outputs": [],
   "source": [
    "def show_summary(model):\n",
    "   model.build()\n",
    "   model.summary()"
   ]
  },
  {
   "cell_type": "code",
   "execution_count": 10,
   "metadata": {
    "colab": {
     "base_uri": "https://localhost:8080/",
     "height": 1000
    },
    "colab_type": "code",
    "executionInfo": {
     "elapsed": 48658,
     "status": "ok",
     "timestamp": 1592562307522,
     "user": {
      "displayName": "harsh singh (RA1711003030254)",
      "photoUrl": "",
      "userId": "08414003933291615273"
     },
     "user_tz": -330
    },
    "id": "DT2qBBVVjH9P",
    "outputId": "638d5a06-e557-44ae-ae26-60265284968f"
   },
   "outputs": [
    {
     "name": "stdout",
     "output_type": "stream",
     "text": [
      "Epoch 1/40\n",
      "750/750 [==============================] - 1s 2ms/step - loss: 1.0288 - accuracy: 0.6805 - val_loss: 0.7542 - val_accuracy: 0.7567\n",
      "Epoch 2/40\n",
      "750/750 [==============================] - 1s 2ms/step - loss: 0.7030 - accuracy: 0.7728 - val_loss: 0.6523 - val_accuracy: 0.7877\n",
      "Epoch 3/40\n",
      "750/750 [==============================] - 1s 2ms/step - loss: 0.6318 - accuracy: 0.7956 - val_loss: 0.6083 - val_accuracy: 0.8005\n",
      "Epoch 4/40\n",
      "750/750 [==============================] - 1s 2ms/step - loss: 0.5934 - accuracy: 0.8078 - val_loss: 0.5797 - val_accuracy: 0.8073\n",
      "Epoch 5/40\n",
      "750/750 [==============================] - 1s 1ms/step - loss: 0.5679 - accuracy: 0.8158 - val_loss: 0.5570 - val_accuracy: 0.8155\n",
      "Epoch 6/40\n",
      "750/750 [==============================] - 1s 2ms/step - loss: 0.5492 - accuracy: 0.8208 - val_loss: 0.5440 - val_accuracy: 0.8167\n",
      "Epoch 7/40\n",
      "750/750 [==============================] - 1s 1ms/step - loss: 0.5349 - accuracy: 0.8236 - val_loss: 0.5310 - val_accuracy: 0.8206\n",
      "Epoch 8/40\n",
      "750/750 [==============================] - 1s 1ms/step - loss: 0.5236 - accuracy: 0.8276 - val_loss: 0.5213 - val_accuracy: 0.8247\n",
      "Epoch 9/40\n",
      "750/750 [==============================] - 1s 1ms/step - loss: 0.5142 - accuracy: 0.8298 - val_loss: 0.5132 - val_accuracy: 0.8266\n",
      "Epoch 10/40\n",
      "750/750 [==============================] - 1s 1ms/step - loss: 0.5061 - accuracy: 0.8317 - val_loss: 0.5064 - val_accuracy: 0.8290\n",
      "Epoch 11/40\n",
      "750/750 [==============================] - 1s 1ms/step - loss: 0.4990 - accuracy: 0.8342 - val_loss: 0.5018 - val_accuracy: 0.8289\n",
      "Epoch 12/40\n",
      "750/750 [==============================] - 1s 1ms/step - loss: 0.4932 - accuracy: 0.8354 - val_loss: 0.4956 - val_accuracy: 0.8311\n",
      "Epoch 13/40\n",
      "750/750 [==============================] - 1s 1ms/step - loss: 0.4880 - accuracy: 0.8363 - val_loss: 0.4903 - val_accuracy: 0.8331\n",
      "Epoch 14/40\n",
      "750/750 [==============================] - 1s 1ms/step - loss: 0.4832 - accuracy: 0.8380 - val_loss: 0.4896 - val_accuracy: 0.8346\n",
      "Epoch 15/40\n",
      "750/750 [==============================] - 1s 1ms/step - loss: 0.4790 - accuracy: 0.8394 - val_loss: 0.4832 - val_accuracy: 0.8366\n",
      "Epoch 16/40\n",
      "750/750 [==============================] - 1s 2ms/step - loss: 0.4753 - accuracy: 0.8409 - val_loss: 0.4794 - val_accuracy: 0.8360\n",
      "Epoch 17/40\n",
      "750/750 [==============================] - 1s 1ms/step - loss: 0.4713 - accuracy: 0.8419 - val_loss: 0.4783 - val_accuracy: 0.8371\n",
      "Epoch 18/40\n",
      "750/750 [==============================] - 1s 1ms/step - loss: 0.4682 - accuracy: 0.8425 - val_loss: 0.4737 - val_accuracy: 0.8382\n",
      "Epoch 19/40\n",
      "750/750 [==============================] - 1s 1ms/step - loss: 0.4652 - accuracy: 0.8446 - val_loss: 0.4716 - val_accuracy: 0.8385\n",
      "Epoch 20/40\n",
      "750/750 [==============================] - 1s 1ms/step - loss: 0.4625 - accuracy: 0.8438 - val_loss: 0.4708 - val_accuracy: 0.8378\n",
      "Epoch 21/40\n",
      "750/750 [==============================] - 1s 1ms/step - loss: 0.4600 - accuracy: 0.8459 - val_loss: 0.4663 - val_accuracy: 0.8413\n",
      "Epoch 22/40\n",
      "750/750 [==============================] - 1s 1ms/step - loss: 0.4575 - accuracy: 0.8461 - val_loss: 0.4649 - val_accuracy: 0.8420\n",
      "Epoch 23/40\n",
      "750/750 [==============================] - 1s 1ms/step - loss: 0.4554 - accuracy: 0.8469 - val_loss: 0.4632 - val_accuracy: 0.8427\n",
      "Epoch 24/40\n",
      "750/750 [==============================] - 1s 1ms/step - loss: 0.4532 - accuracy: 0.8477 - val_loss: 0.4607 - val_accuracy: 0.8418\n",
      "Epoch 25/40\n",
      "750/750 [==============================] - 1s 1ms/step - loss: 0.4510 - accuracy: 0.8486 - val_loss: 0.4599 - val_accuracy: 0.8425\n",
      "Epoch 26/40\n",
      "750/750 [==============================] - 1s 1ms/step - loss: 0.4493 - accuracy: 0.8487 - val_loss: 0.4578 - val_accuracy: 0.8441\n",
      "Epoch 27/40\n",
      "750/750 [==============================] - 1s 1ms/step - loss: 0.4475 - accuracy: 0.8488 - val_loss: 0.4580 - val_accuracy: 0.8429\n",
      "Epoch 28/40\n",
      "750/750 [==============================] - 1s 2ms/step - loss: 0.4457 - accuracy: 0.8496 - val_loss: 0.4548 - val_accuracy: 0.8459\n",
      "Epoch 29/40\n",
      "750/750 [==============================] - 1s 1ms/step - loss: 0.4441 - accuracy: 0.8501 - val_loss: 0.4537 - val_accuracy: 0.8443\n",
      "Epoch 30/40\n",
      "750/750 [==============================] - 1s 1ms/step - loss: 0.4426 - accuracy: 0.8507 - val_loss: 0.4550 - val_accuracy: 0.8438\n",
      "Epoch 31/40\n",
      "750/750 [==============================] - 1s 1ms/step - loss: 0.4409 - accuracy: 0.8514 - val_loss: 0.4514 - val_accuracy: 0.8462\n",
      "Epoch 32/40\n",
      "750/750 [==============================] - 1s 1ms/step - loss: 0.4396 - accuracy: 0.8516 - val_loss: 0.4516 - val_accuracy: 0.8450\n",
      "Epoch 33/40\n",
      "750/750 [==============================] - 1s 1ms/step - loss: 0.4385 - accuracy: 0.8520 - val_loss: 0.4494 - val_accuracy: 0.8463\n",
      "Epoch 34/40\n",
      "750/750 [==============================] - 1s 1ms/step - loss: 0.4374 - accuracy: 0.8527 - val_loss: 0.4494 - val_accuracy: 0.8464\n",
      "Epoch 35/40\n",
      "750/750 [==============================] - 1s 2ms/step - loss: 0.4358 - accuracy: 0.8528 - val_loss: 0.4503 - val_accuracy: 0.8460\n",
      "Epoch 36/40\n",
      "750/750 [==============================] - 1s 1ms/step - loss: 0.4347 - accuracy: 0.8529 - val_loss: 0.4467 - val_accuracy: 0.8464\n",
      "Epoch 37/40\n",
      "750/750 [==============================] - 1s 1ms/step - loss: 0.4336 - accuracy: 0.8531 - val_loss: 0.4454 - val_accuracy: 0.8467\n",
      "Epoch 38/40\n",
      "750/750 [==============================] - 1s 2ms/step - loss: 0.4324 - accuracy: 0.8541 - val_loss: 0.4449 - val_accuracy: 0.8471\n",
      "Epoch 39/40\n",
      "750/750 [==============================] - 1s 2ms/step - loss: 0.4316 - accuracy: 0.8539 - val_loss: 0.4439 - val_accuracy: 0.8489\n",
      "Epoch 40/40\n",
      "750/750 [==============================] - 1s 2ms/step - loss: 0.4305 - accuracy: 0.8540 - val_loss: 0.4425 - val_accuracy: 0.8495\n"
     ]
    }
   ],
   "source": [
    "comp(model_0,\"sgd\")\n",
    "training = model_0.fit(X_train, Y_train, batch_size= 64, epochs=40, validation_split=0.2) "
   ]
  },
  {
   "cell_type": "markdown",
   "metadata": {
    "colab_type": "text",
    "id": "oV2M_6nxrSKk"
   },
   "source": [
    "# **Plot the change in accuracy per epochs**"
   ]
  },
  {
   "cell_type": "code",
   "execution_count": 11,
   "metadata": {
    "colab": {
     "base_uri": "https://localhost:8080/",
     "height": 312
    },
    "colab_type": "code",
    "executionInfo": {
     "elapsed": 1642,
     "status": "ok",
     "timestamp": 1592562332174,
     "user": {
      "displayName": "harsh singh (RA1711003030254)",
      "photoUrl": "",
      "userId": "08414003933291615273"
     },
     "user_tz": -330
    },
    "id": "1xDXfm8_jSIB",
    "outputId": "1294d7fd-8e1a-4c76-8820-b33a3cbaca4d"
   },
   "outputs": [
    {
     "name": "stdout",
     "output_type": "stream",
     "text": [
      "dict_keys(['loss', 'accuracy', 'val_loss', 'val_accuracy'])\n"
     ]
    },
    {
     "data": {
      "image/png": "[encoded data removed]",
      "text/plain": [
       "<Figure size 432x288 with 1 Axes>"
      ]
     },
     "metadata": {
      "needs_background": "light"
     },
     "output_type": "display_data"
    }
   ],
   "source": [
    "import matplotlib.pyplot as plt\n",
    "%matplotlib inline\n",
    "# list all data in training\n",
    "print(training.history.keys())\n",
    "# summarize training for accuracy\n",
    "plt.plot(training.history['accuracy'])\n",
    "plt.plot(training.history['val_accuracy'])\n",
    "plt.title('model accuracy')\n",
    "plt.ylabel('accuracy')\n",
    "plt.xlabel('epoch')\n",
    "plt.legend(['train', 'test'], loc='upper left')\n",
    "plt.show()\n"
   ]
  },
  {
   "cell_type": "markdown",
   "metadata": {
    "colab_type": "text",
    "id": "ASFqB4f-rvVV"
   },
   "source": [
    "# **Evaluate the model on the testing data**"
   ]
  },
  {
   "cell_type": "code",
   "execution_count": 12,
   "metadata": {
    "colab": {
     "base_uri": "https://localhost:8080/",
     "height": 51
    },
    "colab_type": "code",
    "executionInfo": {
     "elapsed": 1130,
     "status": "ok",
     "timestamp": 1592562362539,
     "user": {
      "displayName": "harsh singh (RA1711003030254)",
      "photoUrl": "",
      "userId": "08414003933291615273"
     },
     "user_tz": -330
    },
    "id": "RBzg9bdoMRPV",
    "outputId": "8d2b0fec-909a-43d9-bbb7-6a188d8fd616"
   },
   "outputs": [
    {
     "name": "stdout",
     "output_type": "stream",
     "text": [
      "313/313 [==============================] - 0s 823us/step - loss: 0.4685 - accuracy: 0.8385\n",
      "Test accuracy: 0.8385000228881836\n"
     ]
    }
   ],
   "source": [
    "show_test_acc(model_0)"
   ]
  },
  {
   "cell_type": "markdown",
   "metadata": {
    "colab_type": "text",
    "id": "YpMCiLkusBbi"
   },
   "source": [
    "# **Analyse the model summary**"
   ]
  },
  {
   "cell_type": "code",
   "execution_count": 13,
   "metadata": {
    "colab": {
     "base_uri": "https://localhost:8080/",
     "height": 187
    },
    "colab_type": "code",
    "executionInfo": {
     "elapsed": 1160,
     "status": "ok",
     "timestamp": 1592562369812,
     "user": {
      "displayName": "harsh singh (RA1711003030254)",
      "photoUrl": "",
      "userId": "08414003933291615273"
     },
     "user_tz": -330
    },
    "id": "4mxhdErFi7Z8",
    "outputId": "53ce5ac4-cfe0-401c-cd88-204189531b9d"
   },
   "outputs": [
    {
     "name": "stdout",
     "output_type": "stream",
     "text": [
      "Model: \"sequential\"\n",
      "_________________________________________________________________\n",
      "Layer (type)                 Output Shape              Param #   \n",
      "=================================================================\n",
      "dense_layer (Dense)          (None, 10)                7850      \n",
      "=================================================================\n",
      "Total params: 7,850\n",
      "Trainable params: 7,850\n",
      "Non-trainable params: 0\n",
      "_________________________________________________________________\n"
     ]
    }
   ],
   "source": [
    "show_summary(model_0)"
   ]
  },
  {
   "cell_type": "markdown",
   "metadata": {
    "colab_type": "text",
    "id": "HmY0vbVasFMN"
   },
   "source": [
    "# **Add hidden layer to the model to make it Multi-Layer Perceptron**\n",
    "\n",
    "# **Add Dropout to prevent overfitting and check its effect on accuracy**"
   ]
  },
  {
   "cell_type": "code",
   "execution_count": 14,
   "metadata": {
    "colab": {},
    "colab_type": "code",
    "executionInfo": {
     "elapsed": 2071,
     "status": "ok",
     "timestamp": 1592562385912,
     "user": {
      "displayName": "harsh singh (RA1711003030254)",
      "photoUrl": "",
      "userId": "08414003933291615273"
     },
     "user_tz": -330
    },
    "id": "Qjxq9zYqn9XO"
   },
   "outputs": [],
   "source": [
    "from tensorflow.keras.layers import Dropout\n",
    "\n",
    "model_1 = tf.keras.Sequential()\n",
    "N_hidden = 64\n",
    "# Adding a densely-connected layer with 64 units to the model:\n",
    "model_1.add(Dense(N_hidden, name='dense_layer', input_shape=(784,), activation = 'relu'))\n",
    "# Adding a dropout value of 0.2 after every layer to prevent overfitting\n",
    "model_1.add(Dropout(0.2))\n",
    "model_1.add(Dense(10,name='dense_layer_1', activation='softmax'))\n"
   ]
  },
  {
   "cell_type": "code",
   "execution_count": 15,
   "metadata": {
    "colab": {},
    "colab_type": "code",
    "executionInfo": {
     "elapsed": 2149,
     "status": "ok",
     "timestamp": 1592562397325,
     "user": {
      "displayName": "harsh singh (RA1711003030254)",
      "photoUrl": "",
      "userId": "08414003933291615273"
     },
     "user_tz": -330
    },
    "id": "Qowsg5JS-j9H"
   },
   "outputs": [],
   "source": [
    "def comp_train(model,opt,b_s,eph):\n",
    "   model.compile( optimizer= opt, loss='categorical_crossentropy',metrics=['accuracy'])\n",
    "   model.fit(X_train, Y_train, batch_size= b_s, epochs=eph, validation_split=0.2) "
   ]
  },
  {
   "cell_type": "code",
   "execution_count": 16,
   "metadata": {
    "colab": {
     "base_uri": "https://localhost:8080/",
     "height": 1000
    },
    "colab_type": "code",
    "executionInfo": {
     "elapsed": 68611,
     "status": "ok",
     "timestamp": 1592562545093,
     "user": {
      "displayName": "harsh singh (RA1711003030254)",
      "photoUrl": "",
      "userId": "08414003933291615273"
     },
     "user_tz": -330
    },
    "id": "sGGZL-kx-7Rq",
    "outputId": "4ad95f21-9e46-4d99-9eb2-b89d555d4a46"
   },
   "outputs": [
    {
     "name": "stdout",
     "output_type": "stream",
     "text": [
      "Epoch 1/40\n",
      "750/750 [==============================] - 2s 2ms/step - loss: 1.0866 - accuracy: 0.6430 - val_loss: 0.7189 - val_accuracy: 0.7623\n",
      "Epoch 2/40\n",
      "750/750 [==============================] - 1s 2ms/step - loss: 0.7178 - accuracy: 0.7557 - val_loss: 0.6075 - val_accuracy: 0.7951\n",
      "Epoch 3/40\n",
      "750/750 [==============================] - 1s 2ms/step - loss: 0.6332 - accuracy: 0.7857 - val_loss: 0.5574 - val_accuracy: 0.8105\n",
      "Epoch 4/40\n",
      "750/750 [==============================] - 1s 2ms/step - loss: 0.5865 - accuracy: 0.8006 - val_loss: 0.5280 - val_accuracy: 0.8171\n",
      "Epoch 5/40\n",
      "750/750 [==============================] - 1s 2ms/step - loss: 0.5556 - accuracy: 0.8097 - val_loss: 0.5040 - val_accuracy: 0.8253\n",
      "Epoch 6/40\n",
      "750/750 [==============================] - 1s 2ms/step - loss: 0.5315 - accuracy: 0.8162 - val_loss: 0.4899 - val_accuracy: 0.8257\n",
      "Epoch 7/40\n",
      "750/750 [==============================] - 1s 2ms/step - loss: 0.5151 - accuracy: 0.8219 - val_loss: 0.4757 - val_accuracy: 0.8311\n",
      "Epoch 8/40\n",
      "750/750 [==============================] - 1s 2ms/step - loss: 0.5015 - accuracy: 0.8261 - val_loss: 0.4641 - val_accuracy: 0.8370\n",
      "Epoch 9/40\n",
      "750/750 [==============================] - 1s 2ms/step - loss: 0.4894 - accuracy: 0.8306 - val_loss: 0.4553 - val_accuracy: 0.8380\n",
      "Epoch 10/40\n",
      "750/750 [==============================] - 1s 2ms/step - loss: 0.4804 - accuracy: 0.8322 - val_loss: 0.4499 - val_accuracy: 0.8391\n",
      "Epoch 11/40\n",
      "750/750 [==============================] - 1s 2ms/step - loss: 0.4676 - accuracy: 0.8369 - val_loss: 0.4425 - val_accuracy: 0.8432\n",
      "Epoch 12/40\n",
      "750/750 [==============================] - 1s 2ms/step - loss: 0.4621 - accuracy: 0.8383 - val_loss: 0.4363 - val_accuracy: 0.8441\n",
      "Epoch 13/40\n",
      "750/750 [==============================] - 1s 2ms/step - loss: 0.4558 - accuracy: 0.8393 - val_loss: 0.4296 - val_accuracy: 0.8487\n",
      "Epoch 14/40\n",
      "750/750 [==============================] - 1s 2ms/step - loss: 0.4495 - accuracy: 0.8433 - val_loss: 0.4248 - val_accuracy: 0.8490\n",
      "Epoch 15/40\n",
      "750/750 [==============================] - 1s 2ms/step - loss: 0.4425 - accuracy: 0.8454 - val_loss: 0.4193 - val_accuracy: 0.8512\n",
      "Epoch 16/40\n",
      "750/750 [==============================] - 1s 2ms/step - loss: 0.4367 - accuracy: 0.8459 - val_loss: 0.4194 - val_accuracy: 0.8505\n",
      "Epoch 17/40\n",
      "750/750 [==============================] - 1s 2ms/step - loss: 0.4334 - accuracy: 0.8487 - val_loss: 0.4113 - val_accuracy: 0.8534\n",
      "Epoch 18/40\n",
      "750/750 [==============================] - 1s 2ms/step - loss: 0.4287 - accuracy: 0.8495 - val_loss: 0.4085 - val_accuracy: 0.8550\n",
      "Epoch 19/40\n",
      "750/750 [==============================] - 1s 2ms/step - loss: 0.4251 - accuracy: 0.8513 - val_loss: 0.4045 - val_accuracy: 0.8543\n",
      "Epoch 20/40\n",
      "750/750 [==============================] - 1s 2ms/step - loss: 0.4206 - accuracy: 0.8524 - val_loss: 0.4020 - val_accuracy: 0.8574\n",
      "Epoch 21/40\n",
      "750/750 [==============================] - 1s 2ms/step - loss: 0.4148 - accuracy: 0.8536 - val_loss: 0.3979 - val_accuracy: 0.8596\n",
      "Epoch 22/40\n",
      "750/750 [==============================] - 1s 2ms/step - loss: 0.4136 - accuracy: 0.8550 - val_loss: 0.3959 - val_accuracy: 0.8595\n",
      "Epoch 23/40\n",
      "750/750 [==============================] - 1s 2ms/step - loss: 0.4088 - accuracy: 0.8570 - val_loss: 0.3928 - val_accuracy: 0.8611\n",
      "Epoch 24/40\n",
      "750/750 [==============================] - 1s 2ms/step - loss: 0.4047 - accuracy: 0.8583 - val_loss: 0.3908 - val_accuracy: 0.8612\n",
      "Epoch 25/40\n",
      "750/750 [==============================] - 1s 2ms/step - loss: 0.4030 - accuracy: 0.8585 - val_loss: 0.3889 - val_accuracy: 0.8622\n",
      "Epoch 26/40\n",
      "750/750 [==============================] - 1s 2ms/step - loss: 0.3997 - accuracy: 0.8601 - val_loss: 0.3873 - val_accuracy: 0.8633\n",
      "Epoch 27/40\n",
      "750/750 [==============================] - 1s 2ms/step - loss: 0.3951 - accuracy: 0.8605 - val_loss: 0.3852 - val_accuracy: 0.8631\n",
      "Epoch 28/40\n",
      "750/750 [==============================] - 1s 2ms/step - loss: 0.3944 - accuracy: 0.8620 - val_loss: 0.3810 - val_accuracy: 0.8649\n",
      "Epoch 29/40\n",
      "750/750 [==============================] - 1s 2ms/step - loss: 0.3937 - accuracy: 0.8619 - val_loss: 0.3794 - val_accuracy: 0.8636\n",
      "Epoch 30/40\n",
      "750/750 [==============================] - 1s 2ms/step - loss: 0.3893 - accuracy: 0.8634 - val_loss: 0.3780 - val_accuracy: 0.8635\n",
      "Epoch 31/40\n",
      "750/750 [==============================] - 1s 2ms/step - loss: 0.3867 - accuracy: 0.8642 - val_loss: 0.3779 - val_accuracy: 0.8673\n",
      "Epoch 32/40\n",
      "750/750 [==============================] - 1s 2ms/step - loss: 0.3845 - accuracy: 0.8652 - val_loss: 0.3760 - val_accuracy: 0.8667\n",
      "Epoch 33/40\n",
      "750/750 [==============================] - 1s 2ms/step - loss: 0.3831 - accuracy: 0.8652 - val_loss: 0.3741 - val_accuracy: 0.8672\n",
      "Epoch 34/40\n",
      "750/750 [==============================] - 1s 2ms/step - loss: 0.3801 - accuracy: 0.8664 - val_loss: 0.3784 - val_accuracy: 0.8651\n",
      "Epoch 35/40\n",
      "750/750 [==============================] - 1s 2ms/step - loss: 0.3786 - accuracy: 0.8674 - val_loss: 0.3712 - val_accuracy: 0.8688\n",
      "Epoch 36/40\n",
      "750/750 [==============================] - 1s 2ms/step - loss: 0.3773 - accuracy: 0.8662 - val_loss: 0.3687 - val_accuracy: 0.8677\n",
      "Epoch 37/40\n",
      "750/750 [==============================] - 1s 2ms/step - loss: 0.3750 - accuracy: 0.8682 - val_loss: 0.3678 - val_accuracy: 0.8694\n",
      "Epoch 38/40\n",
      "750/750 [==============================] - 1s 2ms/step - loss: 0.3725 - accuracy: 0.8683 - val_loss: 0.3670 - val_accuracy: 0.8710\n",
      "Epoch 39/40\n",
      "750/750 [==============================] - 2s 2ms/step - loss: 0.3686 - accuracy: 0.8699 - val_loss: 0.3670 - val_accuracy: 0.8698\n",
      "Epoch 40/40\n",
      "750/750 [==============================] - 1s 2ms/step - loss: 0.3679 - accuracy: 0.8698 - val_loss: 0.3673 - val_accuracy: 0.8687\n"
     ]
    }
   ],
   "source": [
    "comp_train(model_1,'sgd',64,40)"
   ]
  },
  {
   "cell_type": "code",
   "execution_count": 17,
   "metadata": {
    "colab": {
     "base_uri": "https://localhost:8080/",
     "height": 51
    },
    "colab_type": "code",
    "executionInfo": {
     "elapsed": 1438,
     "status": "ok",
     "timestamp": 1592562552553,
     "user": {
      "displayName": "harsh singh (RA1711003030254)",
      "photoUrl": "",
      "userId": "08414003933291615273"
     },
     "user_tz": -330
    },
    "id": "vvtz0bY-_U28",
    "outputId": "4dc41ab2-13c8-41c3-dc26-85cf266c9bda"
   },
   "outputs": [
    {
     "name": "stdout",
     "output_type": "stream",
     "text": [
      "313/313 [==============================] - 0s 904us/step - loss: 0.3886 - accuracy: 0.8592\n",
      "Test accuracy: 0.8592000007629395\n"
     ]
    }
   ],
   "source": [
    "show_test_acc(model_1)"
   ]
  },
  {
   "cell_type": "code",
   "execution_count": 18,
   "metadata": {
    "colab": {
     "base_uri": "https://localhost:8080/",
     "height": 255
    },
    "colab_type": "code",
    "executionInfo": {
     "elapsed": 1122,
     "status": "ok",
     "timestamp": 1592562563656,
     "user": {
      "displayName": "harsh singh (RA1711003030254)",
      "photoUrl": "",
      "userId": "08414003933291615273"
     },
     "user_tz": -330
    },
    "id": "Ul9jTfn_3mmI",
    "outputId": "502cafbb-9bb9-4d85-f162-33112f6c07ee"
   },
   "outputs": [
    {
     "name": "stdout",
     "output_type": "stream",
     "text": [
      "Model: \"sequential_1\"\n",
      "_________________________________________________________________\n",
      "Layer (type)                 Output Shape              Param #   \n",
      "=================================================================\n",
      "dense_layer (Dense)          (None, 64)                50240     \n",
      "_________________________________________________________________\n",
      "dropout (Dropout)            (None, 64)                0         \n",
      "_________________________________________________________________\n",
      "dense_layer_1 (Dense)        (None, 10)                650       \n",
      "=================================================================\n",
      "Total params: 50,890\n",
      "Trainable params: 50,890\n",
      "Non-trainable params: 0\n",
      "_________________________________________________________________\n"
     ]
    }
   ],
   "source": [
    "show_summary(model_1)"
   ]
  },
  {
   "cell_type": "markdown",
   "metadata": {
    "colab_type": "text",
    "id": "Mu28PXy_5v78"
   },
   "source": [
    "# **Increasing the number of Hidden Layer neuron and check its effect on accuracy**"
   ]
  },
  {
   "cell_type": "code",
   "execution_count": 19,
   "metadata": {
    "colab": {},
    "colab_type": "code",
    "executionInfo": {
     "elapsed": 1429,
     "status": "ok",
     "timestamp": 1592562589615,
     "user": {
      "displayName": "harsh singh (RA1711003030254)",
      "photoUrl": "",
      "userId": "08414003933291615273"
     },
     "user_tz": -330
    },
    "id": "Jx9to--m3nlL"
   },
   "outputs": [],
   "source": [
    "model_2 = tf.keras.Sequential()\n",
    "N_hidden = 64\n",
    "# Adding two more hidden layers to the previous model  to improve accuracy\n",
    "model_2.add(Dense(N_hidden, name='dense_layer', input_shape=(784,), activation = 'relu'))\n",
    "model_2.add(Dropout(0.3))\n",
    "model_2.add(Dense(N_hidden,name=\"dense_layer_1\",activation = 'relu'))\n",
    "model_2.add(Dropout(0.3))\n",
    "model_2.add(Dense(N_hidden,name=\"dense_layer_2\",activation = 'relu'))\n",
    "model_2.add(Dropout(0.3))\n",
    "model_2.add(Dense(10,name='dense_layer_3', activation='softmax'))\n"
   ]
  },
  {
   "cell_type": "code",
   "execution_count": 20,
   "metadata": {
    "colab": {
     "base_uri": "https://localhost:8080/",
     "height": 1000
    },
    "colab_type": "code",
    "executionInfo": {
     "elapsed": 52731,
     "status": "ok",
     "timestamp": 1592562651161,
     "user": {
      "displayName": "harsh singh (RA1711003030254)",
      "photoUrl": "",
      "userId": "08414003933291615273"
     },
     "user_tz": -330
    },
    "id": "XWyayRO3C_lf",
    "outputId": "5f10a532-02cf-4398-cdc5-40aeb11dd03a"
   },
   "outputs": [
    {
     "name": "stdout",
     "output_type": "stream",
     "text": [
      "Epoch 1/30\n",
      "750/750 [==============================] - 1s 2ms/step - loss: 1.6162 - accuracy: 0.4054 - val_loss: 0.8889 - val_accuracy: 0.6907\n",
      "Epoch 2/30\n",
      "750/750 [==============================] - 1s 2ms/step - loss: 1.0390 - accuracy: 0.6024 - val_loss: 0.7294 - val_accuracy: 0.7182\n",
      "Epoch 3/30\n",
      "750/750 [==============================] - 1s 2ms/step - loss: 0.8881 - accuracy: 0.6635 - val_loss: 0.6487 - val_accuracy: 0.7657\n",
      "Epoch 4/30\n",
      "750/750 [==============================] - 1s 2ms/step - loss: 0.8066 - accuracy: 0.6986 - val_loss: 0.6006 - val_accuracy: 0.7833\n",
      "Epoch 5/30\n",
      "750/750 [==============================] - 1s 2ms/step - loss: 0.7499 - accuracy: 0.7234 - val_loss: 0.5666 - val_accuracy: 0.8013\n",
      "Epoch 6/30\n",
      "750/750 [==============================] - 1s 2ms/step - loss: 0.7072 - accuracy: 0.7437 - val_loss: 0.5352 - val_accuracy: 0.8100\n",
      "Epoch 7/30\n",
      "750/750 [==============================] - 1s 2ms/step - loss: 0.6706 - accuracy: 0.7613 - val_loss: 0.5086 - val_accuracy: 0.8163\n",
      "Epoch 8/30\n",
      "750/750 [==============================] - 1s 2ms/step - loss: 0.6434 - accuracy: 0.7729 - val_loss: 0.4910 - val_accuracy: 0.8283\n",
      "Epoch 9/30\n",
      "750/750 [==============================] - 1s 2ms/step - loss: 0.6223 - accuracy: 0.7789 - val_loss: 0.4738 - val_accuracy: 0.8305\n",
      "Epoch 10/30\n",
      "750/750 [==============================] - 1s 2ms/step - loss: 0.6044 - accuracy: 0.7890 - val_loss: 0.4597 - val_accuracy: 0.8343\n",
      "Epoch 11/30\n",
      "750/750 [==============================] - 1s 2ms/step - loss: 0.5806 - accuracy: 0.7963 - val_loss: 0.4497 - val_accuracy: 0.8395\n",
      "Epoch 12/30\n",
      "750/750 [==============================] - 1s 2ms/step - loss: 0.5698 - accuracy: 0.7998 - val_loss: 0.4499 - val_accuracy: 0.8383\n",
      "Epoch 13/30\n",
      "750/750 [==============================] - 2s 2ms/step - loss: 0.5590 - accuracy: 0.8049 - val_loss: 0.4339 - val_accuracy: 0.8439\n",
      "Epoch 14/30\n",
      "750/750 [==============================] - 2s 2ms/step - loss: 0.5448 - accuracy: 0.8119 - val_loss: 0.4258 - val_accuracy: 0.8481\n",
      "Epoch 15/30\n",
      "750/750 [==============================] - 1s 2ms/step - loss: 0.5410 - accuracy: 0.8145 - val_loss: 0.4219 - val_accuracy: 0.8489\n",
      "Epoch 16/30\n",
      "750/750 [==============================] - 1s 2ms/step - loss: 0.5312 - accuracy: 0.8162 - val_loss: 0.4162 - val_accuracy: 0.8506\n",
      "Epoch 17/30\n",
      "750/750 [==============================] - 1s 2ms/step - loss: 0.5198 - accuracy: 0.8197 - val_loss: 0.4154 - val_accuracy: 0.8515\n",
      "Epoch 18/30\n",
      "750/750 [==============================] - 1s 2ms/step - loss: 0.5107 - accuracy: 0.8247 - val_loss: 0.4091 - val_accuracy: 0.8543\n",
      "Epoch 19/30\n",
      "750/750 [==============================] - 1s 2ms/step - loss: 0.5043 - accuracy: 0.8259 - val_loss: 0.4058 - val_accuracy: 0.8553\n",
      "Epoch 20/30\n",
      "750/750 [==============================] - 1s 2ms/step - loss: 0.4924 - accuracy: 0.8286 - val_loss: 0.3997 - val_accuracy: 0.8552\n",
      "Epoch 21/30\n",
      "750/750 [==============================] - 1s 2ms/step - loss: 0.4890 - accuracy: 0.8309 - val_loss: 0.3970 - val_accuracy: 0.8562\n",
      "Epoch 22/30\n",
      "750/750 [==============================] - 2s 2ms/step - loss: 0.4833 - accuracy: 0.8347 - val_loss: 0.3929 - val_accuracy: 0.8597\n",
      "Epoch 23/30\n",
      "750/750 [==============================] - 2s 2ms/step - loss: 0.4829 - accuracy: 0.8338 - val_loss: 0.3940 - val_accuracy: 0.8577\n",
      "Epoch 24/30\n",
      "750/750 [==============================] - 2s 2ms/step - loss: 0.4744 - accuracy: 0.8367 - val_loss: 0.3909 - val_accuracy: 0.8597\n",
      "Epoch 25/30\n",
      "750/750 [==============================] - 2s 2ms/step - loss: 0.4722 - accuracy: 0.8383 - val_loss: 0.3873 - val_accuracy: 0.8620\n",
      "Epoch 26/30\n",
      "750/750 [==============================] - 2s 2ms/step - loss: 0.4702 - accuracy: 0.8400 - val_loss: 0.3821 - val_accuracy: 0.8631\n",
      "Epoch 27/30\n",
      "750/750 [==============================] - 2s 2ms/step - loss: 0.4625 - accuracy: 0.8419 - val_loss: 0.3788 - val_accuracy: 0.8640\n",
      "Epoch 28/30\n",
      "750/750 [==============================] - 2s 2ms/step - loss: 0.4610 - accuracy: 0.8409 - val_loss: 0.3791 - val_accuracy: 0.8669\n",
      "Epoch 29/30\n",
      "750/750 [==============================] - 2s 2ms/step - loss: 0.4584 - accuracy: 0.8421 - val_loss: 0.3818 - val_accuracy: 0.8655\n",
      "Epoch 30/30\n",
      "750/750 [==============================] - 1s 2ms/step - loss: 0.4498 - accuracy: 0.8444 - val_loss: 0.3757 - val_accuracy: 0.8658\n"
     ]
    }
   ],
   "source": [
    "comp_train(model_2,'sgd',64,30)"
   ]
  },
  {
   "cell_type": "code",
   "execution_count": 21,
   "metadata": {
    "colab": {
     "base_uri": "https://localhost:8080/",
     "height": 51
    },
    "colab_type": "code",
    "executionInfo": {
     "elapsed": 1241,
     "status": "ok",
     "timestamp": 1592562657969,
     "user": {
      "displayName": "harsh singh (RA1711003030254)",
      "photoUrl": "",
      "userId": "08414003933291615273"
     },
     "user_tz": -330
    },
    "id": "CWeQyRIQ8kPQ",
    "outputId": "926fb3cf-fe85-4f89-aebb-b2b5fca2ead0"
   },
   "outputs": [
    {
     "name": "stdout",
     "output_type": "stream",
     "text": [
      "313/313 [==============================] - 0s 1ms/step - loss: 0.4004 - accuracy: 0.8553\n",
      "Test accuracy: 0.8553000092506409\n"
     ]
    }
   ],
   "source": [
    "show_test_acc(model_2)"
   ]
  },
  {
   "cell_type": "markdown",
   "metadata": {
    "colab_type": "text",
    "id": "YuId3oII8_1r"
   },
   "source": [
    "# **Use different optimizers and check its effect on accuracy**"
   ]
  },
  {
   "cell_type": "code",
   "execution_count": 22,
   "metadata": {
    "colab": {},
    "colab_type": "code",
    "executionInfo": {
     "elapsed": 1117,
     "status": "ok",
     "timestamp": 1592562699172,
     "user": {
      "displayName": "harsh singh (RA1711003030254)",
      "photoUrl": "",
      "userId": "08414003933291615273"
     },
     "user_tz": -330
    },
    "id": "uAtQIj5QAIlS"
   },
   "outputs": [],
   "source": [
    "from tensorflow.keras.layers import Dense\n",
    "from tensorflow.keras import Sequential\n",
    "from tensorflow.keras.layers import Dropout\n",
    "\n",
    "model_3 = tf.keras.Sequential()\n",
    "N_hidden = 64\n",
    "\n",
    "model_3.add(Dense(N_hidden, name='dense_layer', input_shape=(784,), activation = 'relu'))\n",
    "model_3.add(Dropout(0.2))\n",
    "model_3.add(Dense(N_hidden,name=\"dense_layer_1\",activation = 'relu'))\n",
    "model_3.add(Dropout(0.2))\n",
    "model_3.add(Dense(N_hidden,name=\"dense_layer_2\",activation = 'relu'))\n",
    "model_3.add(Dropout(0.2))\n",
    "model_3.add(Dense(10,name='dense_layer_3', activation='softmax'))\n"
   ]
  },
  {
   "cell_type": "code",
   "execution_count": 23,
   "metadata": {
    "colab": {
     "base_uri": "https://localhost:8080/",
     "height": 1000
    },
    "colab_type": "code",
    "executionInfo": {
     "elapsed": 79676,
     "status": "ok",
     "timestamp": 1592562785826,
     "user": {
      "displayName": "harsh singh (RA1711003030254)",
      "photoUrl": "",
      "userId": "08414003933291615273"
     },
     "user_tz": -330
    },
    "id": "niEVKqhK9DNb",
    "outputId": "555d8a8e-32e6-4f95-ffc9-4de39ab7a3ad"
   },
   "outputs": [
    {
     "name": "stdout",
     "output_type": "stream",
     "text": [
      "Epoch 1/40\n",
      "750/750 [==============================] - 2s 3ms/step - loss: 0.7489 - accuracy: 0.7320 - val_loss: 0.4515 - val_accuracy: 0.8364\n",
      "Epoch 2/40\n",
      "750/750 [==============================] - 2s 2ms/step - loss: 0.5071 - accuracy: 0.8227 - val_loss: 0.4065 - val_accuracy: 0.8565\n",
      "Epoch 3/40\n",
      "750/750 [==============================] - 2s 2ms/step - loss: 0.4596 - accuracy: 0.8394 - val_loss: 0.3893 - val_accuracy: 0.8621\n",
      "Epoch 4/40\n",
      "750/750 [==============================] - 2s 2ms/step - loss: 0.4342 - accuracy: 0.8485 - val_loss: 0.3725 - val_accuracy: 0.8673\n",
      "Epoch 5/40\n",
      "750/750 [==============================] - 2s 2ms/step - loss: 0.4167 - accuracy: 0.8537 - val_loss: 0.3821 - val_accuracy: 0.8638\n",
      "Epoch 6/40\n",
      "750/750 [==============================] - 2s 2ms/step - loss: 0.4042 - accuracy: 0.8584 - val_loss: 0.3690 - val_accuracy: 0.8710\n",
      "Epoch 7/40\n",
      "750/750 [==============================] - 2s 2ms/step - loss: 0.3961 - accuracy: 0.8618 - val_loss: 0.3582 - val_accuracy: 0.8766\n",
      "Epoch 8/40\n",
      "750/750 [==============================] - 2s 2ms/step - loss: 0.3882 - accuracy: 0.8638 - val_loss: 0.3580 - val_accuracy: 0.8802\n",
      "Epoch 9/40\n",
      "750/750 [==============================] - 2s 2ms/step - loss: 0.3831 - accuracy: 0.8664 - val_loss: 0.3798 - val_accuracy: 0.8691\n",
      "Epoch 10/40\n",
      "750/750 [==============================] - 2s 2ms/step - loss: 0.3757 - accuracy: 0.8694 - val_loss: 0.3617 - val_accuracy: 0.8776\n",
      "Epoch 11/40\n",
      "750/750 [==============================] - 2s 2ms/step - loss: 0.3760 - accuracy: 0.8696 - val_loss: 0.3604 - val_accuracy: 0.8754\n",
      "Epoch 12/40\n",
      "750/750 [==============================] - 2s 2ms/step - loss: 0.3681 - accuracy: 0.8709 - val_loss: 0.3641 - val_accuracy: 0.8795\n",
      "Epoch 13/40\n",
      "750/750 [==============================] - 2s 3ms/step - loss: 0.3687 - accuracy: 0.8715 - val_loss: 0.3714 - val_accuracy: 0.8769\n",
      "Epoch 14/40\n",
      "750/750 [==============================] - 2s 2ms/step - loss: 0.3670 - accuracy: 0.8729 - val_loss: 0.3541 - val_accuracy: 0.8767\n",
      "Epoch 15/40\n",
      "750/750 [==============================] - 2s 2ms/step - loss: 0.3611 - accuracy: 0.8752 - val_loss: 0.3663 - val_accuracy: 0.8773\n",
      "Epoch 16/40\n",
      "750/750 [==============================] - 2s 3ms/step - loss: 0.3608 - accuracy: 0.8742 - val_loss: 0.3691 - val_accuracy: 0.8783\n",
      "Epoch 17/40\n",
      "750/750 [==============================] - 2s 2ms/step - loss: 0.3604 - accuracy: 0.8742 - val_loss: 0.3614 - val_accuracy: 0.8770\n",
      "Epoch 18/40\n",
      "750/750 [==============================] - 2s 2ms/step - loss: 0.3569 - accuracy: 0.8764 - val_loss: 0.3644 - val_accuracy: 0.8817\n",
      "Epoch 19/40\n",
      "750/750 [==============================] - 2s 2ms/step - loss: 0.3565 - accuracy: 0.8774 - val_loss: 0.3688 - val_accuracy: 0.8809\n",
      "Epoch 20/40\n",
      "750/750 [==============================] - 2s 2ms/step - loss: 0.3546 - accuracy: 0.8803 - val_loss: 0.3695 - val_accuracy: 0.8778\n",
      "Epoch 21/40\n",
      "750/750 [==============================] - 2s 2ms/step - loss: 0.3546 - accuracy: 0.8783 - val_loss: 0.3573 - val_accuracy: 0.8802\n",
      "Epoch 22/40\n",
      "750/750 [==============================] - 2s 2ms/step - loss: 0.3561 - accuracy: 0.8767 - val_loss: 0.3632 - val_accuracy: 0.8810\n",
      "Epoch 23/40\n",
      "750/750 [==============================] - 2s 2ms/step - loss: 0.3560 - accuracy: 0.8791 - val_loss: 0.3739 - val_accuracy: 0.8822\n",
      "Epoch 24/40\n",
      "750/750 [==============================] - 2s 2ms/step - loss: 0.3608 - accuracy: 0.8765 - val_loss: 0.3909 - val_accuracy: 0.8729\n",
      "Epoch 25/40\n",
      "750/750 [==============================] - 2s 2ms/step - loss: 0.3570 - accuracy: 0.8782 - val_loss: 0.3589 - val_accuracy: 0.8794\n",
      "Epoch 26/40\n",
      "750/750 [==============================] - 2s 2ms/step - loss: 0.3522 - accuracy: 0.8783 - val_loss: 0.3647 - val_accuracy: 0.8833\n",
      "Epoch 27/40\n",
      "750/750 [==============================] - 2s 2ms/step - loss: 0.3544 - accuracy: 0.8792 - val_loss: 0.3857 - val_accuracy: 0.8770\n",
      "Epoch 28/40\n",
      "750/750 [==============================] - 2s 2ms/step - loss: 0.3543 - accuracy: 0.8811 - val_loss: 0.3650 - val_accuracy: 0.8823\n",
      "Epoch 29/40\n",
      "750/750 [==============================] - 2s 2ms/step - loss: 0.3534 - accuracy: 0.8816 - val_loss: 0.3746 - val_accuracy: 0.8819\n",
      "Epoch 30/40\n",
      "750/750 [==============================] - 2s 2ms/step - loss: 0.3508 - accuracy: 0.8829 - val_loss: 0.3700 - val_accuracy: 0.8801\n",
      "Epoch 31/40\n",
      "750/750 [==============================] - 2s 2ms/step - loss: 0.3550 - accuracy: 0.8801 - val_loss: 0.3805 - val_accuracy: 0.8827\n",
      "Epoch 32/40\n",
      "750/750 [==============================] - 2s 2ms/step - loss: 0.3535 - accuracy: 0.8822 - val_loss: 0.3766 - val_accuracy: 0.8816\n",
      "Epoch 33/40\n",
      "750/750 [==============================] - 2s 2ms/step - loss: 0.3533 - accuracy: 0.8807 - val_loss: 0.3789 - val_accuracy: 0.8813\n",
      "Epoch 34/40\n",
      "750/750 [==============================] - 2s 2ms/step - loss: 0.3537 - accuracy: 0.8821 - val_loss: 0.3830 - val_accuracy: 0.8828\n",
      "Epoch 35/40\n",
      "750/750 [==============================] - 2s 2ms/step - loss: 0.3545 - accuracy: 0.8812 - val_loss: 0.3893 - val_accuracy: 0.8781\n",
      "Epoch 36/40\n",
      "750/750 [==============================] - 2s 2ms/step - loss: 0.3560 - accuracy: 0.8816 - val_loss: 0.3876 - val_accuracy: 0.8845\n",
      "Epoch 37/40\n",
      "750/750 [==============================] - 2s 2ms/step - loss: 0.3543 - accuracy: 0.8818 - val_loss: 0.3921 - val_accuracy: 0.8807\n",
      "Epoch 38/40\n",
      "750/750 [==============================] - 2s 2ms/step - loss: 0.3535 - accuracy: 0.8820 - val_loss: 0.4064 - val_accuracy: 0.8770\n",
      "Epoch 39/40\n",
      "750/750 [==============================] - 2s 2ms/step - loss: 0.3563 - accuracy: 0.8830 - val_loss: 0.4005 - val_accuracy: 0.8802\n",
      "Epoch 40/40\n",
      "750/750 [==============================] - 2s 2ms/step - loss: 0.3590 - accuracy: 0.8812 - val_loss: 0.3958 - val_accuracy: 0.8823\n"
     ]
    }
   ],
   "source": [
    "# running the same model with optimizer = \"rmsprop\"\n",
    "\n",
    "comp_train(model_3,\"rmsprop\",64,40)"
   ]
  },
  {
   "cell_type": "code",
   "execution_count": 24,
   "metadata": {
    "colab": {
     "base_uri": "https://localhost:8080/",
     "height": 51
    },
    "colab_type": "code",
    "executionInfo": {
     "elapsed": 1242,
     "status": "ok",
     "timestamp": 1592562812243,
     "user": {
      "displayName": "harsh singh (RA1711003030254)",
      "photoUrl": "",
      "userId": "08414003933291615273"
     },
     "user_tz": -330
    },
    "id": "zYyc_NiH-BJL",
    "outputId": "f1d3ceb6-f3b3-4c75-a535-19e18c2c48c6"
   },
   "outputs": [
    {
     "name": "stdout",
     "output_type": "stream",
     "text": [
      "313/313 [==============================] - 0s 1ms/step - loss: 0.4282 - accuracy: 0.8738\n",
      "Test accuracy: 0.8737999796867371\n"
     ]
    }
   ],
   "source": [
    "show_test_acc(model_3)"
   ]
  },
  {
   "cell_type": "code",
   "execution_count": 25,
   "metadata": {
    "colab": {
     "base_uri": "https://localhost:8080/",
     "height": 391
    },
    "colab_type": "code",
    "executionInfo": {
     "elapsed": 1160,
     "status": "ok",
     "timestamp": 1592562823269,
     "user": {
      "displayName": "harsh singh (RA1711003030254)",
      "photoUrl": "",
      "userId": "08414003933291615273"
     },
     "user_tz": -330
    },
    "id": "LsKYhVbtJMnr",
    "outputId": "426d2762-f68c-4098-8aa8-559a5b46bae8"
   },
   "outputs": [
    {
     "name": "stdout",
     "output_type": "stream",
     "text": [
      "Model: \"sequential_3\"\n",
      "_________________________________________________________________\n",
      "Layer (type)                 Output Shape              Param #   \n",
      "=================================================================\n",
      "dense_layer (Dense)          (None, 64)                50240     \n",
      "_________________________________________________________________\n",
      "dropout_4 (Dropout)          (None, 64)                0         \n",
      "_________________________________________________________________\n",
      "dense_layer_1 (Dense)        (None, 64)                4160      \n",
      "_________________________________________________________________\n",
      "dropout_5 (Dropout)          (None, 64)                0         \n",
      "_________________________________________________________________\n",
      "dense_layer_2 (Dense)        (None, 64)                4160      \n",
      "_________________________________________________________________\n",
      "dropout_6 (Dropout)          (None, 64)                0         \n",
      "_________________________________________________________________\n",
      "dense_layer_3 (Dense)        (None, 10)                650       \n",
      "=================================================================\n",
      "Total params: 59,210\n",
      "Trainable params: 59,210\n",
      "Non-trainable params: 0\n",
      "_________________________________________________________________\n"
     ]
    }
   ],
   "source": [
    "show_summary(model_3)\n"
   ]
  },
  {
   "cell_type": "code",
   "execution_count": 26,
   "metadata": {
    "colab": {},
    "colab_type": "code",
    "executionInfo": {
     "elapsed": 1397,
     "status": "ok",
     "timestamp": 1592562844934,
     "user": {
      "displayName": "harsh singh (RA1711003030254)",
      "photoUrl": "",
      "userId": "08414003933291615273"
     },
     "user_tz": -330
    },
    "id": "fLi33uoyBhP-"
   },
   "outputs": [],
   "source": [
    "model_4 = tf.keras.Sequential()\n",
    "N_hidden = 64\n",
    "\n",
    "model_4.add(Dense(N_hidden, name='dense_layer', input_shape=(784,), activation = 'relu'))\n",
    "model_4.add(Dropout(0.3))\n",
    "model_4.add(Dense(N_hidden,name=\"dense_layer_1\",activation = 'relu'))\n",
    "model_4.add(Dropout(0.3))\n",
    "model_4.add(Dense(N_hidden,name=\"dense_layer_2\",activation = 'relu'))\n",
    "model_4.add(Dropout(0.3))\n",
    "model_4.add(Dense(10,name='dense_layer_3', activation='softmax'))"
   ]
  },
  {
   "cell_type": "code",
   "execution_count": 27,
   "metadata": {
    "colab": {
     "base_uri": "https://localhost:8080/",
     "height": 1000
    },
    "colab_type": "code",
    "executionInfo": {
     "elapsed": 81026,
     "status": "ok",
     "timestamp": 1592562932001,
     "user": {
      "displayName": "harsh singh (RA1711003030254)",
      "photoUrl": "",
      "userId": "08414003933291615273"
     },
     "user_tz": -330
    },
    "id": "KEg7FW_M-D3D",
    "outputId": "286d203b-8eb2-40c8-f8b7-2163a2a71427"
   },
   "outputs": [
    {
     "name": "stdout",
     "output_type": "stream",
     "text": [
      "Epoch 1/40\n",
      "750/750 [==============================] - 2s 2ms/step - loss: 0.8736 - accuracy: 0.6790 - val_loss: 0.4933 - val_accuracy: 0.8226\n",
      "Epoch 2/40\n",
      "750/750 [==============================] - 2s 2ms/step - loss: 0.5760 - accuracy: 0.7975 - val_loss: 0.4451 - val_accuracy: 0.8387\n",
      "Epoch 3/40\n",
      "750/750 [==============================] - 2s 2ms/step - loss: 0.5176 - accuracy: 0.8179 - val_loss: 0.4193 - val_accuracy: 0.8468\n",
      "Epoch 4/40\n",
      "750/750 [==============================] - 2s 2ms/step - loss: 0.4860 - accuracy: 0.8301 - val_loss: 0.3880 - val_accuracy: 0.8556\n",
      "Epoch 5/40\n",
      "750/750 [==============================] - 2s 2ms/step - loss: 0.4659 - accuracy: 0.8357 - val_loss: 0.3783 - val_accuracy: 0.8606\n",
      "Epoch 6/40\n",
      "750/750 [==============================] - 2s 2ms/step - loss: 0.4585 - accuracy: 0.8379 - val_loss: 0.3874 - val_accuracy: 0.8622\n",
      "Epoch 7/40\n",
      "750/750 [==============================] - 2s 2ms/step - loss: 0.4413 - accuracy: 0.8441 - val_loss: 0.4025 - val_accuracy: 0.8550\n",
      "Epoch 8/40\n",
      "750/750 [==============================] - 2s 2ms/step - loss: 0.4364 - accuracy: 0.8453 - val_loss: 0.3734 - val_accuracy: 0.8638\n",
      "Epoch 9/40\n",
      "750/750 [==============================] - 2s 2ms/step - loss: 0.4267 - accuracy: 0.8475 - val_loss: 0.3664 - val_accuracy: 0.8658\n",
      "Epoch 10/40\n",
      "750/750 [==============================] - 2s 2ms/step - loss: 0.4208 - accuracy: 0.8505 - val_loss: 0.3601 - val_accuracy: 0.8711\n",
      "Epoch 11/40\n",
      "750/750 [==============================] - 2s 2ms/step - loss: 0.4118 - accuracy: 0.8530 - val_loss: 0.3659 - val_accuracy: 0.8651\n",
      "Epoch 12/40\n",
      "750/750 [==============================] - 2s 2ms/step - loss: 0.4066 - accuracy: 0.8549 - val_loss: 0.3676 - val_accuracy: 0.8712\n",
      "Epoch 13/40\n",
      "750/750 [==============================] - 2s 2ms/step - loss: 0.4037 - accuracy: 0.8564 - val_loss: 0.3623 - val_accuracy: 0.8699\n",
      "Epoch 14/40\n",
      "750/750 [==============================] - 2s 2ms/step - loss: 0.3997 - accuracy: 0.8571 - val_loss: 0.3555 - val_accuracy: 0.8681\n",
      "Epoch 15/40\n",
      "750/750 [==============================] - 2s 2ms/step - loss: 0.3960 - accuracy: 0.8580 - val_loss: 0.3633 - val_accuracy: 0.8707\n",
      "Epoch 16/40\n",
      "750/750 [==============================] - 2s 2ms/step - loss: 0.3906 - accuracy: 0.8613 - val_loss: 0.3553 - val_accuracy: 0.8748\n",
      "Epoch 17/40\n",
      "750/750 [==============================] - 2s 2ms/step - loss: 0.3842 - accuracy: 0.8631 - val_loss: 0.3565 - val_accuracy: 0.8736\n",
      "Epoch 18/40\n",
      "750/750 [==============================] - 2s 2ms/step - loss: 0.3838 - accuracy: 0.8642 - val_loss: 0.3512 - val_accuracy: 0.8733\n",
      "Epoch 19/40\n",
      "750/750 [==============================] - 2s 2ms/step - loss: 0.3799 - accuracy: 0.8637 - val_loss: 0.3475 - val_accuracy: 0.8760\n",
      "Epoch 20/40\n",
      "750/750 [==============================] - 2s 2ms/step - loss: 0.3781 - accuracy: 0.8657 - val_loss: 0.3504 - val_accuracy: 0.8742\n",
      "Epoch 21/40\n",
      "750/750 [==============================] - 2s 2ms/step - loss: 0.3739 - accuracy: 0.8673 - val_loss: 0.3545 - val_accuracy: 0.8734\n",
      "Epoch 22/40\n",
      "750/750 [==============================] - 2s 2ms/step - loss: 0.3690 - accuracy: 0.8695 - val_loss: 0.3492 - val_accuracy: 0.8765\n",
      "Epoch 23/40\n",
      "750/750 [==============================] - 2s 2ms/step - loss: 0.3654 - accuracy: 0.8689 - val_loss: 0.3435 - val_accuracy: 0.8764\n",
      "Epoch 24/40\n",
      "750/750 [==============================] - 2s 2ms/step - loss: 0.3668 - accuracy: 0.8679 - val_loss: 0.3507 - val_accuracy: 0.8733\n",
      "Epoch 25/40\n",
      "750/750 [==============================] - 2s 2ms/step - loss: 0.3676 - accuracy: 0.8683 - val_loss: 0.3438 - val_accuracy: 0.8770\n",
      "Epoch 26/40\n",
      "750/750 [==============================] - 2s 2ms/step - loss: 0.3610 - accuracy: 0.8711 - val_loss: 0.3439 - val_accuracy: 0.8776\n",
      "Epoch 27/40\n",
      "750/750 [==============================] - 2s 2ms/step - loss: 0.3625 - accuracy: 0.8693 - val_loss: 0.3484 - val_accuracy: 0.8784\n",
      "Epoch 28/40\n",
      "750/750 [==============================] - 2s 2ms/step - loss: 0.3620 - accuracy: 0.8704 - val_loss: 0.3519 - val_accuracy: 0.8742\n",
      "Epoch 29/40\n",
      "750/750 [==============================] - 2s 2ms/step - loss: 0.3575 - accuracy: 0.8717 - val_loss: 0.3424 - val_accuracy: 0.8793\n",
      "Epoch 30/40\n",
      "750/750 [==============================] - 2s 2ms/step - loss: 0.3571 - accuracy: 0.8724 - val_loss: 0.3368 - val_accuracy: 0.8796\n",
      "Epoch 31/40\n",
      "750/750 [==============================] - 2s 2ms/step - loss: 0.3557 - accuracy: 0.8719 - val_loss: 0.3493 - val_accuracy: 0.8764\n",
      "Epoch 32/40\n",
      "750/750 [==============================] - 2s 2ms/step - loss: 0.3565 - accuracy: 0.8705 - val_loss: 0.3475 - val_accuracy: 0.8742\n",
      "Epoch 33/40\n",
      "750/750 [==============================] - 2s 2ms/step - loss: 0.3541 - accuracy: 0.8727 - val_loss: 0.3482 - val_accuracy: 0.8774\n",
      "Epoch 34/40\n",
      "750/750 [==============================] - 2s 2ms/step - loss: 0.3522 - accuracy: 0.8729 - val_loss: 0.3618 - val_accuracy: 0.8690\n",
      "Epoch 35/40\n",
      "750/750 [==============================] - 2s 3ms/step - loss: 0.3508 - accuracy: 0.8727 - val_loss: 0.3412 - val_accuracy: 0.8815\n",
      "Epoch 36/40\n",
      "750/750 [==============================] - 2s 2ms/step - loss: 0.3480 - accuracy: 0.8748 - val_loss: 0.3429 - val_accuracy: 0.8763\n",
      "Epoch 37/40\n",
      "750/750 [==============================] - 2s 2ms/step - loss: 0.3477 - accuracy: 0.8752 - val_loss: 0.3425 - val_accuracy: 0.8773\n",
      "Epoch 38/40\n",
      "750/750 [==============================] - 2s 2ms/step - loss: 0.3448 - accuracy: 0.8748 - val_loss: 0.3461 - val_accuracy: 0.8768\n",
      "Epoch 39/40\n",
      "750/750 [==============================] - 1s 2ms/step - loss: 0.3405 - accuracy: 0.8779 - val_loss: 0.3464 - val_accuracy: 0.8785\n",
      "Epoch 40/40\n",
      "750/750 [==============================] - 2s 2ms/step - loss: 0.3401 - accuracy: 0.8776 - val_loss: 0.3439 - val_accuracy: 0.8767\n"
     ]
    }
   ],
   "source": [
    "# running the same model with optimizer = \"adam\"\n",
    "\n",
    "comp_train(model_4,'adam',64,40)\n"
   ]
  },
  {
   "cell_type": "code",
   "execution_count": 28,
   "metadata": {
    "colab": {
     "base_uri": "https://localhost:8080/",
     "height": 51
    },
    "colab_type": "code",
    "executionInfo": {
     "elapsed": 4017,
     "status": "ok",
     "timestamp": 1592562944408,
     "user": {
      "displayName": "harsh singh (RA1711003030254)",
      "photoUrl": "",
      "userId": "08414003933291615273"
     },
     "user_tz": -330
    },
    "id": "ALddnQjUJFDQ",
    "outputId": "249a4894-a7b5-4af9-9969-9e2384776180"
   },
   "outputs": [
    {
     "name": "stdout",
     "output_type": "stream",
     "text": [
      "313/313 [==============================] - 0s 944us/step - loss: 0.3699 - accuracy: 0.8722\n",
      "Test accuracy: 0.8722000122070312\n"
     ]
    }
   ],
   "source": [
    "show_test_acc(model_4)"
   ]
  },
  {
   "cell_type": "markdown",
   "metadata": {
    "colab_type": "text",
    "id": "BWCEiJSOBeUj"
   },
   "source": [
    "# **Manipulate the batch_size and epochs and check its effect on accuracy**"
   ]
  },
  {
   "cell_type": "code",
   "execution_count": 29,
   "metadata": {
    "colab": {},
    "colab_type": "code",
    "executionInfo": {
     "elapsed": 1437,
     "status": "ok",
     "timestamp": 1592563026711,
     "user": {
      "displayName": "harsh singh (RA1711003030254)",
      "photoUrl": "",
      "userId": "08414003933291615273"
     },
     "user_tz": -330
    },
    "id": "AMzSHPweBdOK"
   },
   "outputs": [],
   "source": [
    "model_5 = tf.keras.Sequential()\n",
    "N_hidden = 128\n",
    "\n",
    "model_5.add(Dense(N_hidden, name='dense_layer', input_shape=(784,), activation = 'relu'))\n",
    "model_5.add(Dropout(0.4))\n",
    "model_5.add(Dense(N_hidden,name=\"dense_layer_1\",activation = 'relu'))\n",
    "model_5.add(Dropout(0.4))\n",
    "model_5.add(Dense(N_hidden,name=\"dense_layer_2\",activation = 'relu'))\n",
    "model_5.add(Dropout(0.4))\n",
    "model_5.add(Dense(10,name='dense_layer_3', activation='softmax'))\n"
   ]
  },
  {
   "cell_type": "code",
   "execution_count": 30,
   "metadata": {
    "colab": {
     "base_uri": "https://localhost:8080/",
     "height": 1000
    },
    "colab_type": "code",
    "executionInfo": {
     "elapsed": 54727,
     "status": "ok",
     "timestamp": 1592563085927,
     "user": {
      "displayName": "harsh singh (RA1711003030254)",
      "photoUrl": "",
      "userId": "08414003933291615273"
     },
     "user_tz": -330
    },
    "id": "q0pA-nfLC2F4",
    "outputId": "37ef2055-7be4-4016-c6b4-f144b8a7b9c6"
   },
   "outputs": [
    {
     "name": "stdout",
     "output_type": "stream",
     "text": [
      "Epoch 1/30\n",
      "375/375 [==============================] - 1s 4ms/step - loss: 1.8984 - accuracy: 0.3140 - val_loss: 1.1678 - val_accuracy: 0.6247\n",
      "Epoch 2/30\n",
      "375/375 [==============================] - 1s 4ms/step - loss: 1.2839 - accuracy: 0.5154 - val_loss: 0.8500 - val_accuracy: 0.6964\n",
      "Epoch 3/30\n",
      "375/375 [==============================] - 1s 4ms/step - loss: 1.0545 - accuracy: 0.6003 - val_loss: 0.7547 - val_accuracy: 0.7224\n",
      "Epoch 4/30\n",
      "375/375 [==============================] - 1s 4ms/step - loss: 0.9435 - accuracy: 0.6426 - val_loss: 0.6962 - val_accuracy: 0.7406\n",
      "Epoch 5/30\n",
      "375/375 [==============================] - 1s 4ms/step - loss: 0.8749 - accuracy: 0.6720 - val_loss: 0.6567 - val_accuracy: 0.7556\n",
      "Epoch 6/30\n",
      "375/375 [==============================] - 1s 4ms/step - loss: 0.8210 - accuracy: 0.6956 - val_loss: 0.6237 - val_accuracy: 0.7669\n",
      "Epoch 7/30\n",
      "375/375 [==============================] - 1s 4ms/step - loss: 0.7838 - accuracy: 0.7119 - val_loss: 0.5952 - val_accuracy: 0.7711\n",
      "Epoch 8/30\n",
      "375/375 [==============================] - 1s 4ms/step - loss: 0.7486 - accuracy: 0.7259 - val_loss: 0.5687 - val_accuracy: 0.7876\n",
      "Epoch 9/30\n",
      "375/375 [==============================] - 1s 4ms/step - loss: 0.7180 - accuracy: 0.7389 - val_loss: 0.5461 - val_accuracy: 0.7964\n",
      "Epoch 10/30\n",
      "375/375 [==============================] - 1s 4ms/step - loss: 0.6928 - accuracy: 0.7495 - val_loss: 0.5326 - val_accuracy: 0.8059\n",
      "Epoch 11/30\n",
      "375/375 [==============================] - 1s 4ms/step - loss: 0.6719 - accuracy: 0.7605 - val_loss: 0.5140 - val_accuracy: 0.8151\n",
      "Epoch 12/30\n",
      "375/375 [==============================] - 1s 4ms/step - loss: 0.6505 - accuracy: 0.7669 - val_loss: 0.5027 - val_accuracy: 0.8202\n",
      "Epoch 13/30\n",
      "375/375 [==============================] - 1s 4ms/step - loss: 0.6343 - accuracy: 0.7762 - val_loss: 0.4894 - val_accuracy: 0.8253\n",
      "Epoch 14/30\n",
      "375/375 [==============================] - 1s 4ms/step - loss: 0.6220 - accuracy: 0.7801 - val_loss: 0.4829 - val_accuracy: 0.8269\n",
      "Epoch 15/30\n",
      "375/375 [==============================] - 1s 4ms/step - loss: 0.6079 - accuracy: 0.7866 - val_loss: 0.4743 - val_accuracy: 0.8302\n",
      "Epoch 16/30\n",
      "375/375 [==============================] - 1s 4ms/step - loss: 0.5912 - accuracy: 0.7929 - val_loss: 0.4663 - val_accuracy: 0.8326\n",
      "Epoch 17/30\n",
      "375/375 [==============================] - 1s 4ms/step - loss: 0.5820 - accuracy: 0.7976 - val_loss: 0.4579 - val_accuracy: 0.8367\n",
      "Epoch 18/30\n",
      "375/375 [==============================] - 1s 4ms/step - loss: 0.5738 - accuracy: 0.8002 - val_loss: 0.4580 - val_accuracy: 0.8340\n",
      "Epoch 19/30\n",
      "375/375 [==============================] - 1s 4ms/step - loss: 0.5649 - accuracy: 0.8023 - val_loss: 0.4484 - val_accuracy: 0.8372\n",
      "Epoch 20/30\n",
      "375/375 [==============================] - 1s 4ms/step - loss: 0.5526 - accuracy: 0.8075 - val_loss: 0.4418 - val_accuracy: 0.8409\n",
      "Epoch 21/30\n",
      "375/375 [==============================] - 1s 4ms/step - loss: 0.5496 - accuracy: 0.8098 - val_loss: 0.4409 - val_accuracy: 0.8401\n",
      "Epoch 22/30\n",
      "375/375 [==============================] - 1s 4ms/step - loss: 0.5425 - accuracy: 0.8119 - val_loss: 0.4341 - val_accuracy: 0.8419\n",
      "Epoch 23/30\n",
      "375/375 [==============================] - 1s 4ms/step - loss: 0.5345 - accuracy: 0.8141 - val_loss: 0.4310 - val_accuracy: 0.8457\n",
      "Epoch 24/30\n",
      "375/375 [==============================] - 1s 4ms/step - loss: 0.5267 - accuracy: 0.8158 - val_loss: 0.4250 - val_accuracy: 0.8454\n",
      "Epoch 25/30\n",
      "375/375 [==============================] - 1s 4ms/step - loss: 0.5210 - accuracy: 0.8186 - val_loss: 0.4222 - val_accuracy: 0.8470\n",
      "Epoch 26/30\n",
      "375/375 [==============================] - 1s 4ms/step - loss: 0.5165 - accuracy: 0.8207 - val_loss: 0.4191 - val_accuracy: 0.8475\n",
      "Epoch 27/30\n",
      "375/375 [==============================] - 1s 4ms/step - loss: 0.5115 - accuracy: 0.8224 - val_loss: 0.4157 - val_accuracy: 0.8493\n",
      "Epoch 28/30\n",
      "375/375 [==============================] - 1s 4ms/step - loss: 0.5069 - accuracy: 0.8253 - val_loss: 0.4128 - val_accuracy: 0.8492\n",
      "Epoch 29/30\n",
      "375/375 [==============================] - 1s 4ms/step - loss: 0.5033 - accuracy: 0.8251 - val_loss: 0.4085 - val_accuracy: 0.8533\n",
      "Epoch 30/30\n",
      "375/375 [==============================] - 1s 4ms/step - loss: 0.4964 - accuracy: 0.8273 - val_loss: 0.4055 - val_accuracy: 0.8533\n"
     ]
    }
   ],
   "source": [
    "comp_train(model_5,\"sgd\",128,30)"
   ]
  },
  {
   "cell_type": "code",
   "execution_count": 31,
   "metadata": {
    "colab": {
     "base_uri": "https://localhost:8080/",
     "height": 51
    },
    "colab_type": "code",
    "executionInfo": {
     "elapsed": 2648,
     "status": "ok",
     "timestamp": 1592563101374,
     "user": {
      "displayName": "harsh singh (RA1711003030254)",
      "photoUrl": "",
      "userId": "08414003933291615273"
     },
     "user_tz": -330
    },
    "id": "RbYPvS2zDH_N",
    "outputId": "70eb042a-1763-4c3e-9bf5-74c55150a2f9"
   },
   "outputs": [
    {
     "name": "stdout",
     "output_type": "stream",
     "text": [
      "313/313 [==============================] - 0s 1ms/step - loss: 0.4295 - accuracy: 0.8453\n",
      "Test accuracy: 0.845300018787384\n"
     ]
    }
   ],
   "source": [
    "show_test_acc(model_5)"
   ]
  },
  {
   "cell_type": "code",
   "execution_count": 32,
   "metadata": {
    "colab": {
     "base_uri": "https://localhost:8080/",
     "height": 1000
    },
    "colab_type": "code",
    "executionInfo": {
     "elapsed": 58075,
     "status": "ok",
     "timestamp": 1592563171392,
     "user": {
      "displayName": "harsh singh (RA1711003030254)",
      "photoUrl": "",
      "userId": "08414003933291615273"
     },
     "user_tz": -330
    },
    "id": "cKFFF0SXDqXw",
    "outputId": "c2732303-8e22-473c-ade1-0c7dca3ef8e5"
   },
   "outputs": [
    {
     "name": "stdout",
     "output_type": "stream",
     "text": [
      "Epoch 1/30\n",
      "375/375 [==============================] - 2s 4ms/step - loss: 0.5372 - accuracy: 0.8155 - val_loss: 0.4132 - val_accuracy: 0.8521\n",
      "Epoch 2/30\n",
      "375/375 [==============================] - 1s 4ms/step - loss: 0.4884 - accuracy: 0.8291 - val_loss: 0.3959 - val_accuracy: 0.8579\n",
      "Epoch 3/30\n",
      "375/375 [==============================] - 1s 4ms/step - loss: 0.4593 - accuracy: 0.8353 - val_loss: 0.3796 - val_accuracy: 0.8644\n",
      "Epoch 4/30\n",
      "375/375 [==============================] - 1s 4ms/step - loss: 0.4430 - accuracy: 0.8429 - val_loss: 0.3749 - val_accuracy: 0.8648\n",
      "Epoch 5/30\n",
      "375/375 [==============================] - 2s 4ms/step - loss: 0.4317 - accuracy: 0.8474 - val_loss: 0.3708 - val_accuracy: 0.8615\n",
      "Epoch 6/30\n",
      "375/375 [==============================] - 1s 4ms/step - loss: 0.4193 - accuracy: 0.8504 - val_loss: 0.3654 - val_accuracy: 0.8708\n",
      "Epoch 7/30\n",
      "375/375 [==============================] - 1s 4ms/step - loss: 0.4102 - accuracy: 0.8536 - val_loss: 0.3539 - val_accuracy: 0.8717\n",
      "Epoch 8/30\n",
      "375/375 [==============================] - 2s 4ms/step - loss: 0.3986 - accuracy: 0.8579 - val_loss: 0.3510 - val_accuracy: 0.8718\n",
      "Epoch 9/30\n",
      "375/375 [==============================] - 1s 4ms/step - loss: 0.3895 - accuracy: 0.8609 - val_loss: 0.3489 - val_accuracy: 0.8740\n",
      "Epoch 10/30\n",
      "375/375 [==============================] - 1s 4ms/step - loss: 0.3930 - accuracy: 0.8599 - val_loss: 0.3475 - val_accuracy: 0.8742\n",
      "Epoch 11/30\n",
      "375/375 [==============================] - 1s 4ms/step - loss: 0.3807 - accuracy: 0.8638 - val_loss: 0.3395 - val_accuracy: 0.8777\n",
      "Epoch 12/30\n",
      "375/375 [==============================] - 1s 4ms/step - loss: 0.3730 - accuracy: 0.8648 - val_loss: 0.3439 - val_accuracy: 0.8800\n",
      "Epoch 13/30\n",
      "375/375 [==============================] - 2s 4ms/step - loss: 0.3683 - accuracy: 0.8667 - val_loss: 0.3343 - val_accuracy: 0.8791\n",
      "Epoch 14/30\n",
      "375/375 [==============================] - 2s 4ms/step - loss: 0.3656 - accuracy: 0.8688 - val_loss: 0.3416 - val_accuracy: 0.8773\n",
      "Epoch 15/30\n",
      "375/375 [==============================] - 2s 4ms/step - loss: 0.3597 - accuracy: 0.8704 - val_loss: 0.3338 - val_accuracy: 0.8774\n",
      "Epoch 16/30\n",
      "375/375 [==============================] - 2s 4ms/step - loss: 0.3572 - accuracy: 0.8705 - val_loss: 0.3365 - val_accuracy: 0.8798\n",
      "Epoch 17/30\n",
      "375/375 [==============================] - 2s 4ms/step - loss: 0.3539 - accuracy: 0.8705 - val_loss: 0.3398 - val_accuracy: 0.8784\n",
      "Epoch 18/30\n",
      "375/375 [==============================] - 1s 4ms/step - loss: 0.3500 - accuracy: 0.8722 - val_loss: 0.3353 - val_accuracy: 0.8776\n",
      "Epoch 19/30\n",
      "375/375 [==============================] - 2s 4ms/step - loss: 0.3453 - accuracy: 0.8745 - val_loss: 0.3342 - val_accuracy: 0.8810\n",
      "Epoch 20/30\n",
      "375/375 [==============================] - 2s 4ms/step - loss: 0.3475 - accuracy: 0.8727 - val_loss: 0.3340 - val_accuracy: 0.8802\n",
      "Epoch 21/30\n",
      "375/375 [==============================] - 2s 4ms/step - loss: 0.3450 - accuracy: 0.8748 - val_loss: 0.3230 - val_accuracy: 0.8839\n",
      "Epoch 22/30\n",
      "375/375 [==============================] - 2s 4ms/step - loss: 0.3419 - accuracy: 0.8763 - val_loss: 0.3274 - val_accuracy: 0.8826\n",
      "Epoch 23/30\n",
      "375/375 [==============================] - 2s 4ms/step - loss: 0.3392 - accuracy: 0.8772 - val_loss: 0.3342 - val_accuracy: 0.8793\n",
      "Epoch 24/30\n",
      "375/375 [==============================] - 2s 4ms/step - loss: 0.3377 - accuracy: 0.8756 - val_loss: 0.3283 - val_accuracy: 0.8821\n",
      "Epoch 25/30\n",
      "375/375 [==============================] - 2s 4ms/step - loss: 0.3323 - accuracy: 0.8788 - val_loss: 0.3352 - val_accuracy: 0.8746\n",
      "Epoch 26/30\n",
      "375/375 [==============================] - 2s 4ms/step - loss: 0.3308 - accuracy: 0.8791 - val_loss: 0.3274 - val_accuracy: 0.8817\n",
      "Epoch 27/30\n",
      "375/375 [==============================] - 2s 5ms/step - loss: 0.3326 - accuracy: 0.8785 - val_loss: 0.3265 - val_accuracy: 0.8840\n",
      "Epoch 28/30\n",
      "375/375 [==============================] - 2s 5ms/step - loss: 0.3278 - accuracy: 0.8800 - val_loss: 0.3237 - val_accuracy: 0.8831\n",
      "Epoch 29/30\n",
      "375/375 [==============================] - 2s 4ms/step - loss: 0.3222 - accuracy: 0.8816 - val_loss: 0.3231 - val_accuracy: 0.8836\n",
      "Epoch 30/30\n",
      "375/375 [==============================] - 2s 4ms/step - loss: 0.3240 - accuracy: 0.8816 - val_loss: 0.3235 - val_accuracy: 0.8853\n"
     ]
    }
   ],
   "source": [
    "comp_train(model_5,\"Adam\",128,30)"
   ]
  },
  {
   "cell_type": "code",
   "execution_count": 33,
   "metadata": {
    "colab": {
     "base_uri": "https://localhost:8080/",
     "height": 51
    },
    "colab_type": "code",
    "executionInfo": {
     "elapsed": 1210,
     "status": "ok",
     "timestamp": 1592563188770,
     "user": {
      "displayName": "harsh singh (RA1711003030254)",
      "photoUrl": "",
      "userId": "08414003933291615273"
     },
     "user_tz": -330
    },
    "id": "-Pg8VG7-D6Ys",
    "outputId": "0874e9bb-b8f0-46b4-db97-0d5138b8a913"
   },
   "outputs": [
    {
     "name": "stdout",
     "output_type": "stream",
     "text": [
      "313/313 [==============================] - 0s 1ms/step - loss: 0.3528 - accuracy: 0.8761\n",
      "Test accuracy: 0.8761000037193298\n"
     ]
    }
   ],
   "source": [
    "show_test_acc(model_5)"
   ]
  },
  {
   "cell_type": "markdown",
   "metadata": {
    "colab_type": "text",
    "id": "LhdzM1zVU6Bz"
   },
   "source": [
    "# **Answer:**\n",
    "**What parameters should be choosen to get best accuracy on classifying the images into various categories?**\n",
    "\n",
    "*The best accuracy that we gained was* \n",
    "\n",
    "*training set accuracy : 88.16%* \n",
    "\n",
    "*validation set accuracy : 88.53%*  \n",
    "\n",
    "*test set accuracy : 87.61 %* \n",
    "\n",
    "and the parameters used were **optimiser : Adam, batch_size : 128 and epoch : 30.**"
   ]
  }
 ],
 "metadata": {
  "colab": {
   "authorship_tag": "ABX9TyMRLUlv8sMyP5CpU1+x6MxL",
   "collapsed_sections": [],
   "name": "AI & DL Assignment-1 file-3",
   "provenance": []
  },
  "kernelspec": {
   "display_name": "Python 3",
   "language": "python",
   "name": "python3"
  },
  "language_info": {
   "codemirror_mode": {
    "name": "ipython",
    "version": 3
   },
   "file_extension": ".py",
   "mimetype": "text/x-python",
   "name": "python",
   "nbconvert_exporter": "python",
   "pygments_lexer": "ipython3",
   "version": "3.8.5"
  }
 },
 "nbformat": 4,
 "nbformat_minor": 1
}
